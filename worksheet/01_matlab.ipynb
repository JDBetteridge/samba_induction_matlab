{
 "cells": [
  {
   "cell_type": "markdown",
   "metadata": {
    "slideshow": {
     "slide_type": "slide"
    }
   },
   "source": [
    "# MATLAB resources"
   ]
  },
  {
   "cell_type": "markdown",
   "metadata": {
    "slideshow": {
     "slide_type": "subslide"
    }
   },
   "source": [
    "## Overview\n",
    "\n",
    "**Questions**\n",
    "- How do I run MATLAB for the first time?\n",
    "- How can I use MATLAB as a calculator?\n",
    "- What do I need to know for my MATLAB course?\n",
    "\n",
    "**Objectives**\n",
    "- Become familiar with the MATLAB integrated development environment.\n",
    "- Use MATLAB as a calculator.\n",
    "- Start solving problems in MATLAB."
   ]
  },
  {
   "cell_type": "markdown",
   "metadata": {},
   "source": [
    "## Information: New to MATLAB\n",
    "\n",
    "Watch the video produced for the undergraduate course XX10190 on using MATLAB for the very first time. This is available [here](../files/xx_intro_vid.mp4)."
   ]
  },
  {
   "cell_type": "markdown",
   "metadata": {},
   "source": [
    "## Information: MA50174 prerequisites\n",
    "\n",
    "A document made available by Silvia Gazzola detailing what you should be able to do in MATLAB for MA50174 (Applied/Advanced Numerical Computation) is available [here](../files/MATLAB_skills.pdf). If you have any questions, feel free to ask one of the instructors."
   ]
  },
  {
   "cell_type": "markdown",
   "metadata": {},
   "source": [
    "## Information: Course\n",
    "\n",
    "A course less focused on numerical analysis and more focussed on data processing in MATLAB is available from software carpentry [here](http://swcarpentry.github.io/matlab-novice-inflammation)."
   ]
  },
  {
   "cell_type": "markdown",
   "metadata": {},
   "source": [
    "## Information: Another worksheet\n",
    "\n",
    "Once you have taken a look at the course prerequisite, try making a start on the first problem sheet, available [here](../files/MATLAB_sheet1.pdf)."
   ]
  }
 ],
 "metadata": {
  "celltoolbar": "Slideshow",
  "kernelspec": {
   "display_name": "Python 3",
   "language": "python",
   "name": "python3"
  },
  "language_info": {
   "codemirror_mode": {
    "name": "ipython",
    "version": 3
   },
   "file_extension": ".py",
   "mimetype": "text/x-python",
   "name": "python",
   "nbconvert_exporter": "python",
   "pygments_lexer": "ipython3",
   "version": "3.7.0"
  }
 },
 "nbformat": 4,
 "nbformat_minor": 2
}
