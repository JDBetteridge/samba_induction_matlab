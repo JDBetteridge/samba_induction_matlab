{
 "cells": [
  {
   "cell_type": "markdown",
   "metadata": {},
   "source": [
    "# Graphing and Display"
   ]
  },
  {
   "cell_type": "markdown",
   "metadata": {},
   "source": [
    "## Overview:\n",
    "- Teaching: _time_\n",
    "- Exercises: _time_\n",
    "\n",
    "Objectives:\n",
    "- Introduce MATLAB's graphical capabilities.\n",
    "- Practice use of `plot`, `scatter`, `semilog`, `contour` and `surf`.\n",
    "- Learn how to create a figure rather than just a plot."
   ]
  },
  {
   "cell_type": "markdown",
   "metadata": {},
   "source": [
    "## Graphs in MATLAB\n",
    "\n",
    "MATLAB comes pre-packaged with extensive graphical features for creating diagrams or graphs to display your results - which can be very handy if you're looking to produce figures for a paper or report.\n",
    "MATLAB is also able to render text in LaTeX too, and gives you a lot of control over the layout of the figures you produce and how they are exported.\n",
    "In this lesson we will take a look at a select few options for creating graphs, as well as discussing some simple ways to add a professional glean to your MATLAB figures."
   ]
  },
  {
   "cell_type": "markdown",
   "metadata": {},
   "source": [
    "## Creating A Figure\n",
    "\n",
    "We can create a figure in MATLAB using the `figure()` command:"
   ]
  },
  {
   "cell_type": "code",
   "execution_count": 2,
   "metadata": {},
   "outputs": [],
   "source": [
    "fig1 = figure(1);"
   ]
  },
  {
   "cell_type": "markdown",
   "metadata": {},
   "source": [
    "This will create an empty figure window that should open automatically - you can freely minimise or close this window down and still edit the figure in MATLAB.\n",
    "\n",
    "The argument `1` in `figure` is the ID number that we are providing this new figure with.\n",
    "You don't have to provide this number; calling `figure()` on it's own will still create a new figure window for you to add plots to, and MATLAB will automatically give it a new, unique, ID number.\n",
    "\n",
    "The output, `fig1` is what's called a figure handle, but it can be thought of as just the figure's ID number.\n",
    "Indeed, if we display `fig1` using `disp`:"
   ]
  },
  {
   "cell_type": "code",
   "execution_count": 3,
   "metadata": {},
   "outputs": [
    {
     "name": "stdout",
     "output_type": "stream",
     "text": [
      " 1\r\n"
     ]
    }
   ],
   "source": [
    "disp(fig1)"
   ]
  },
  {
   "cell_type": "markdown",
   "metadata": {},
   "source": [
    "we can see that `fig1` really is the ID number for the figure.\n",
    "\n",
    "By default, every time you make a change to a figure, the figure window will update and reopen if it was closed previously.\n",
    "For this reason if you are creating a figure it is best to do it in a script: that way you can write out all the commands you need to make your figure, and the result will only be displayed once the script has finished running.\n",
    "If you are creating a script in the command line, you will constantly have to keep changing windows from the figure to the command line, and back again as MATLAB automatically opens your figure window after every command!\n",
    "\n",
    "### Why provide arguments?\n",
    "\n",
    "You'll notice that you can get away with _not_ providing an ID number _or_ an output when calling `figure`:"
   ]
  },
  {
   "cell_type": "code",
   "execution_count": 4,
   "metadata": {},
   "outputs": [],
   "source": [
    "figure()"
   ]
  },
  {
   "cell_type": "markdown",
   "metadata": {},
   "source": [
    "So you might be asking \"why should I have bothered with the input and outputs\"?\n",
    "The answer is because `figure` has two uses:\n",
    "- `fig = figure(ID)` creates a new plot with the ID number in `ID`, and returns the figure handle `fig`.\n",
    "- `figure(fig)` changes the \"current\" or \"active\" plot window to the figure with handle `fig`.\n",
    "\n",
    "As such, when you just call `figure()` you are creating a new figure, _and_ setting it to be the active figure.\n",
    "This is fine if you want to create only one plot, for example running:"
   ]
  },
  {
   "cell_type": "code",
   "execution_count": 5,
   "metadata": {},
   "outputs": [],
   "source": [
    "figure();\n",
    "plot(1:5,[1:5].^2) %plot y=x^2 with x=1,2,3,4,5"
   ]
  },
  {
   "cell_type": "markdown",
   "metadata": {},
   "source": [
    "will cause MATLAB to happily create a figure, plot your data, and then display it to you.\n",
    "But now let's pretend you want to create another figure, so you type:"
   ]
  },
  {
   "cell_type": "code",
   "execution_count": 6,
   "metadata": {},
   "outputs": [],
   "source": [
    "figure();\n",
    "plot(1:5,[1:5].^3) %plot y=x^3 with x=1,2,3,4,5"
   ]
  },
  {
   "cell_type": "markdown",
   "metadata": {},
   "source": [
    "Hooray, you've now got another plot... but how do you retrieve the old plot you had?\n",
    "Well, you just need to call `figure` with it's figure handle or ID number of course... the only problem being that you didn't save this to a variable... so you've got no idea what it is!\n",
    "\n",
    "As such, it is important that you get into the habbit of assigning your figures ID numbers and figure handles, so that you don't loose them when you start generating multiple figures!"
   ]
  },
  {
   "cell_type": "markdown",
   "metadata": {},
   "source": [
    "## Let's Get Plotting\n",
    "\n",
    "Now that the preamble is over, let's get down to the business of actually plotting something!\n",
    "To do this, we're going to need some data or a function, so let's quickly recall our ~~pringle~~ hyperbolic paraboloid function from the previous lesson;\n",
    "$$ f(x,y,a,b) = \\frac{x^2}{a^2} + \\frac{y^2}{b^2} $$"
   ]
  },
  {
   "cell_type": "code",
   "execution_count": 7,
   "metadata": {},
   "outputs": [],
   "source": [
    "function [z] = f(x,y,a,b)\n",
    "%%Evaluates the function z = x^2/a^2 + y^2/b^2\n",
    "%INPUTS:\n",
    "% x : Vector of length N, for N>=1. This vector should contain all the x-values we want to evaluate f at\n",
    "% y : Vector of length N, for N>=1. Same size as input x, with analogous interpretation\n",
    "% a,b : Scalar values for the curvature parameters.\n",
    "%OUTPUTS:\n",
    "% z : Vector of length N, for N>=1. Value of the function f at each of the co-ordinate pairs x,y.\n",
    "\n",
    "%NOTE: MATLAB likes vectorised code, so we are writing this function as if we want to evaluate f at lots of pairs of points (x,y), rather than at just one point.\n",
    "\n",
    "z = (x.*x)./(a*a) + (y.*y)/(b*b);\n",
    "\n",
    "end %function"
   ]
  },
  {
   "cell_type": "markdown",
   "metadata": {},
   "source": [
    "We can use the `plot` command to, well, plot some data in a figure as a series of points connected by lines (which MATLAB will automatically create as linear interpolants).\n",
    "Let's create a plot of $f$ for $y=0$, $a=2$ and for $x\\in[-2,2]$.\n",
    "Of course, we will need to discretise $[-2,2]$ first using `linspace`:"
   ]
  },
  {
   "cell_type": "code",
   "execution_count": 8,
   "metadata": {},
   "outputs": [],
   "source": [
    "close all; %let's close any plots we opened as examples from before\n",
    "\n",
    "xRange = linspace(-2,2,1000); %put 1000 points between -2 and 2, inclusive\n",
    "fHandle = @(x) f(x,0,2,1); %for convenience, create a function handle for f when y=0 and a=2. Note: the value of b doesn't matter, but setting b=0 will cause a 0/0 division error, so don't pick that!\n",
    "\n",
    "fValues = fHandle(xRange); %evaluates f(x,0,2,0) at all the x values in xRange\n",
    "\n",
    "fig_y0 = figure(1); %create a figure to display the plot\n",
    "plot(fValues) %plot the data in fValues to the current/active figure - in this case, to fig_y0"
   ]
  },
  {
   "cell_type": "markdown",
   "metadata": {},
   "source": [
    "MATLAB should generate a nice-looking parabola for you when you run this code; however you might have notice a few things that could be improved with this figure:\n",
    "- The x-axis isn't from $-2$ to $2$.\n",
    "- Your parabola is coloured blue, but you might want it in black or red or green.\n",
    "- There are no labels for any of your axes - how will people know what you've plotted?\n",
    "\n",
    "### Fixing the $x$-axis\n",
    "\n",
    "`plot` is one of those MATLAB functions that has multiple inputs and will produce different outputs depending on what you give it.\n",
    "In the example above, we only gave `plot` the array `fValues` - that is we only told MATLAB what our $y$-axis data was.\n",
    "So when MATLAB creates the figure, it doesn't have any data for the $x$-axis so just works off the assumption that \"the first data point is at $x=1$, the second at $x=2$ ...\" and so forth.\n",
    "If we call `plot` by giving it the $x$-data and then the $y$-data, everything will sort itself out:"
   ]
  },
  {
   "cell_type": "code",
   "execution_count": 9,
   "metadata": {},
   "outputs": [],
   "source": [
    "%remember that fig_y0 is still the active plot\n",
    "plot(xRange, fValues) %plot fValues in y against xRange in x"
   ]
  },
  {
   "cell_type": "markdown",
   "metadata": {},
   "source": [
    "That should fix the scale issue with the $x$-axis.\n",
    "Also notice how `plot` has overwritten the previous plot that was saved in figure `fig_y0`.\n",
    "\n",
    "### Pretty colours\n",
    "\n",
    "Although it might seem fairly petty now, when you come to plotting multiple sets of data you're going to need to be able to change the colours that you're using.\n",
    "This is done by providing a third argument to `plot` which is a string:"
   ]
  },
  {
   "cell_type": "code",
   "execution_count": 10,
   "metadata": {},
   "outputs": [],
   "source": [
    "plot(xRange, fValues, 'r')"
   ]
  },
  {
   "cell_type": "markdown",
   "metadata": {},
   "source": [
    "In this case, we have provided the string `'r'`, which indicated to MATLAB that it should be plotting our data in _red_.\n",
    "There are several other colours to choose from.\n",
    "This third string argument is referred to as a \"format string\" - it is a set of characters that MATLAB interprets as a format for the line in our plot.\n",
    "These format strings can do more than change the colour of the plotted line - they can add the data points as crosses or circles, they can change the line style to a dashed or dotted line, or any combination of these and the colour.\n",
    "For more information you can see the online MATLAB help, but below is a table of helpful format strings - try some out for yourself on your plot!\n",
    "\n",
    "| Line Style     | Format String | Marker (data point) Style | Format String | Colour         | Format String |\n",
    "|:--------------:|:-------------:|:-------------------------:|:-------------:|:--------------:|:-------------:|\n",
    "| Solid          | '-'           | Dots                      | '.'           | Red            | 'r'           |\n",
    "| Dashed         | '--'          | Crosses                   | 'x'           | Blue           | 'b'           |\n",
    "| MATLAB DEFAULT | ''            | Circles                   | 'o'           | Black          | 'k'           |\n",
    "|                |               | Stars                     | 'p'           | Green          | 'g'           |\n",
    "|                |               | MATLAB Default            | ''            | Yellow         | 'y'           |\n",
    "|                |               |                           |               | MATLAB DEFAULT | ''            |\n",
    "\n",
    "You can _combine_ format strings in the order marker-line-colour to add multiple formats to your plot.\n",
    "For example:\n",
    "- '-r' will plot with default markers, a solid line, and in red.\n",
    "- '.-k' will plot with dots for markers, a solid line, and in black.\n",
    "- 'og' will plot with circles for markers, the default line style, and in green.\n",
    "- 'p--' will plot with stars for markers, a dashed line, and in the default color."
   ]
  },
  {
   "cell_type": "markdown",
   "metadata": {},
   "source": [
    "### Titles and axis labels\n",
    "\n",
    "Finally, we can add some labels to our axes using the commands `title`, `xlabel` and `ylabel`.\n",
    "When we use these, as with any other plotting functions, they will apply to __and overwrite__ what's in the same place of the current/active figure!"
   ]
  },
  {
   "cell_type": "code",
   "execution_count": 11,
   "metadata": {},
   "outputs": [],
   "source": [
    "%fig_y0 is still the active figure\n",
    "xlabel('x')\n",
    "ylabel('f(x,y=0,a=2,b=1)')\n",
    "title('Snazzy plot')"
   ]
  },
  {
   "cell_type": "markdown",
   "metadata": {},
   "source": [
    "These commands work by giving them a string with the text that you want to be displayed in each place.\n",
    "We can get MATLAB to render the labels in LaTeX by typing out the first string _in_ LaTeX syntax, then adding the extra arguments `'interpreter','latex'``to our commands:"
   ]
  },
  {
   "cell_type": "code",
   "execution_count": 12,
   "metadata": {},
   "outputs": [],
   "source": [
    "%fig_y0 is still the active figure so these will overwrite the current labels\n",
    "xlabel('$x$','interpreter','latex')\n",
    "ylabel('$f(x,y=0,a=2,b=1)$','interpreter','latex')"
   ]
  },
  {
   "cell_type": "markdown",
   "metadata": {},
   "source": [
    "## Information: LaTeX labels\n",
    "\n",
    "In order to render your labels in LaTeX, the machine you are using must have a LaTeX interpreter installed or be setup to use MATLAB's internal one correctly.\n",
    "Otherwise, your labels will just be printed as they appear!"
   ]
  },
  {
   "cell_type": "markdown",
   "metadata": {},
   "source": [
    "## Exercise: Experimenting with other 2D plots\n",
    "\n",
    "Now that you have some data to plot; try using some of MATLAB's other 2D plotting features.\n",
    "They all have the same syntax as `plot`: you give them the $x$-data and $y$-data as arrays, then can optionally give them a format string to change the style of the resulting figure.\n",
    "- `scatter`\n",
    "- `semilogx`\n",
    "- `semilogy`\n",
    "- `loglog`\n",
    "\n",
    "Under what circumstances would each graphing method be most useful?\n",
    "\n",
    "Feel free to use `fig_y0` for each of these graphs, overwriting the previous graph each time, or create a new figure for each."
   ]
  },
  {
   "cell_type": "markdown",
   "metadata": {},
   "source": [
    "## Solution: Experimenting with other 2D plots\n",
    "\n",
    "Each graphing method should produce:\n",
    "- `scatter`: a scatter plot of the points you provided. Most useful when performing regression analysis or trend fitting.\n",
    "- `semilogx`: just like `plot`, but the $x$-axis is turned into a log-scale. Useful for plotting functions over multiple orders of magnitude, or for identifying power-law relations.\n",
    "- `semilogy`: like `semilogx` only in the $y$-axis.\n",
    "- `loglog`: a combination of `semilogx` and `semilogy`!"
   ]
  },
  {
   "cell_type": "markdown",
   "metadata": {},
   "source": [
    "## Information: Too Many Figures\n",
    "\n",
    "If you find yourself with too many figure windows open, or just too many figure handles in your workspace, you can use the command `close all` to close all currently open figure windows for you.\n",
    "\n",
    "The command `clearvars` will also delete all your figure handles, along with all the other variables in your workspace as normal."
   ]
  },
  {
   "cell_type": "markdown",
   "metadata": {},
   "source": [
    "## `hold` on!\n",
    "\n",
    "Displaying graphs in multiple figure windows is all very well and good, but what if we want to display multiple graphs in the same plot?\n",
    "As we have seen, calling `plot`, `scatter` or any of the other graphing functions will overwrite what's currently in the active figure.\n",
    "To tell MATLAB that you want to keep what's in the current figure, and overlay the existing graph with another, you need to use the `hold` command.\n",
    "\n",
    "By default, `hold` is turned off.\n",
    "When `hold` is on, calling the graphing functions like `plot` or `semilogx` will not overwrite what's in the active figure, but instead overlay the two data sets in the same graph.\n",
    "Once `hold` is on, it also stays on!\n",
    "So you can overlay as many graphs as you like by calling as many graphing methods as you want!\n",
    "As an example, let's create 5 plots of $f$ for $y=0$, $x\\in[-2,2]$ and for $a=0.5,1,2$:"
   ]
  },
  {
   "cell_type": "code",
   "execution_count": 13,
   "metadata": {},
   "outputs": [],
   "source": [
    "xRange = linspace(-2,2,1000); %1000-point interpolation\n",
    "\n",
    "fVals_05 = f(xRange,0,0.5,1); %evaluate f at xRange, with a=0.5, y=0 annd b=1\n",
    "fVals_1 = f(xRange,0,1,1); %a=1 now\n",
    "fVals_2 = f(xRange,0,2,1); %a=2, like before but not using a function handle this time\n",
    "\n",
    "fig_multiple_f = figure(2); %create new figure and make it the active figure\n",
    "hold on; %turn hold on, so we now overlay plots\n",
    "plot(xRange, fVals_05, 'r');\n",
    "plot(xRange, fVals_1, 'b');\n",
    "plot(xRange, fVals_2, 'y');\n",
    "hold off; %turn hold off again\n",
    "xlabel('$x$','interpreter','latex')\n",
    "ylabel('$f(x,0,a,1)$','interpreter','latex')\n",
    "title('Multiple plots on the same axes')"
   ]
  },
  {
   "cell_type": "markdown",
   "metadata": {},
   "source": [
    "Running this, we will produce a figure that has 3 graphs in red, blue and yellow.\n",
    "To turn `hold` off again, we simply type `hold off` as we do at the end - this is good practice so that you don't end up writing lots of plots over each other by accident!\n",
    "\n",
    "Of course our figure isn't much use to anyone if they don't know which colours correspond to which variables!\n",
    "We need to add a legend using the `legend` command:"
   ]
  },
  {
   "cell_type": "code",
   "execution_count": 14,
   "metadata": {},
   "outputs": [],
   "source": [
    "legend('a=0.5','a=1.0','a=2.0');"
   ]
  },
  {
   "cell_type": "markdown",
   "metadata": {},
   "source": [
    "To use `legend`, we give it as many strings as we have plots, and MATLAB interprets these as the labels for each of our grahing commands - _in the order that they were plotted!_\n",
    "\n",
    "`legend` behaves similarly to `xlabel`, `title` and `ylabel`: it applies to the current plot and overwrites the existing legend if there is one.\n",
    "We can also tell it to render our labels in LaTeX:"
   ]
  },
  {
   "cell_type": "code",
   "execution_count": 15,
   "metadata": {},
   "outputs": [],
   "source": [
    "legend({'$a=\\frac{1}{2}$','$a=1.0$','$a=2.0$'},'interpreter','latex');"
   ]
  },
  {
   "cell_type": "markdown",
   "metadata": {},
   "source": [
    "__NOTE:__ We have to put our labels in curly braces `{ }` if we want to add optional arguments to `legend`, like telling MATLAB to render in LaTeX.\n",
    "\n",
    "We can also change the position of the legend too:"
   ]
  },
  {
   "cell_type": "code",
   "execution_count": 16,
   "metadata": {},
   "outputs": [],
   "source": [
    "legend({'$a=\\frac{1}{2}$','$a=1.0$','$a=2.0$'},'location','east','interpreter','latex');"
   ]
  },
  {
   "cell_type": "markdown",
   "metadata": {},
   "source": [
    "For the full list of options for `legend`, look at the [MATLAB documentation](https://uk.mathworks.com/help/matlab/ref/legend.html) or use the `help` function."
   ]
  },
  {
   "cell_type": "markdown",
   "metadata": {},
   "source": [
    "## Information+: Save my figures\n",
    "\n",
    "To save your figures, you can use MATLAB's `savefig` command.\n",
    "All you need to do is execute `savefig` and provide the figure handle that corresponds to the figure you want to save, and the name you want to save it under!\n",
    "Similarly, you can load in a figure by clicking on it in the current directory, or by using the `openfig` command:"
   ]
  },
  {
   "cell_type": "markdown",
   "metadata": {},
   "source": [
    "```octave\n",
    "savefig(fig_multiple_f,'MultiplePlotsFigure');\n",
    "\n",
    "clear;\n",
    "close all; %clear the variable workspace to prove that we are loading in the figure we saved\n",
    "\n",
    "openfig('MultiplePlotsFigure');\n",
    "```"
   ]
  },
  {
   "cell_type": "markdown",
   "metadata": {},
   "source": [
    ":+Information"
   ]
  },
  {
   "cell_type": "markdown",
   "metadata": {},
   "source": [
    "## Transending the Cartesian Plane\n",
    "\n",
    "2D-plots will be the most common plots that you produce, however in you may find yourself wanting to plot surfaces, by which we mean (in this lesson) functions of two variables $(x,y)$.\n",
    "Fortunately, MATLAB has a few built-in 3D-plotting functions that you can use, and their syntax is very intutitive if you're familiar (which you now are, of course) with the 2D-plotting functions.\n",
    "\n",
    "The two graphing methods that we are going to demonstrate are `surf` (3D-surface plot) and `contour` (contour plot of a surface.\n",
    "To plot these, we are going to need some $x$-data, $y$-data and $z$-data, so let's return to our ~~pringle~~ hyperbolic paraboloid function $f$ and fix $a=2$, $b=1$, and look at $x\\in[-5,5]$, $y\\in[-5,5]$."
   ]
  },
  {
   "cell_type": "code",
   "execution_count": 17,
   "metadata": {},
   "outputs": [
    {
     "name": "stdout",
     "output_type": "stream",
     "text": [
      "   100   100\r\n"
     ]
    }
   ],
   "source": [
    "fHandle_2D = @(x,y) f(x,y,2,1); %function handle that evaluates f with a=2 and b=1 fixed.\n",
    "\n",
    "num_points = 100; %number of points to put down in x and y\n",
    "\n",
    "xRange = linspace(-5,5,num_points);\n",
    "yRange = linspace(-5,5,num_points);\n",
    "\n",
    "%this command produces two arrays X,Y which are a grid defined by xRange and yRange:\n",
    "%Essentially X and Y contain every possible pairing of a value in xRange with a value in yRange.\n",
    "%Hence they form a grid or meshgrid.\n",
    "[X,Y] = meshgrid(xRange, yRange);\n",
    "\n",
    "%Now we create an array of our surface values\n",
    "zData = fHandle_2D(X,Y);\n",
    "%Notice that our zData array is of size num_points-by-num_points!\n",
    "disp(size(zData))"
   ]
  },
  {
   "cell_type": "markdown",
   "metadata": {},
   "source": [
    "The `meshgrid` command employed here is useful for creating a grid out of two arrays that correspond to the points you want to evaluate your function at along the $x$ and $y$ axes.\n",
    "\n",
    "Notice too that the size of our `zData` array - the array that stores the values of $f$ - is of size `num_points`$^2$; think of it like `zData` is putting  value at each pair of $x$ and $y$ values.\n",
    "Always be careful with surface plots that you haven't put down too many points, as your computer may slow down due to the memory needed to store the values!\n",
    "\n",
    "Having created our data though, we can now plot it.\n",
    "First, let's use `contour` to create a contour plot.\n",
    "`contour` takes (at least) 3 arguments: the $x$-data, $y$-data and $z$-data; then you can also give it a format string as you would in the 2D case.\n",
    "Remember, `contour` will overwrite the graph in the current figure unless we define a new figure, or `hold` is on."
   ]
  },
  {
   "cell_type": "code",
   "execution_count": 18,
   "metadata": {},
   "outputs": [],
   "source": [
    "fig_contour = figure(3);\n",
    "\n",
    "contour(xRange,yRange,zData,'r')\n",
    "xlabel('$x$','interpreter','latex')\n",
    "ylabel('$y$','interpreter','latex')\n",
    "title('Contour plot')"
   ]
  },
  {
   "cell_type": "markdown",
   "metadata": {},
   "source": [
    "If `hold` is on we can overlay contour plots with other graphs (even overlaying them with 2D plots, although then things get a bit complex) and can add legends to them using the `legend` command.\n",
    "\n",
    "However, the most fancy thing we can do is a full-blown, 3D-rendered graphic image of our surface $f$.\n",
    "This is where `surf` comes in: again we need to give `surf` the $x$-, $y$- $z$- information, but we can't provide a format string to change the colouring of the image.\n",
    "Again `surf` will overwrite the current graph in the active figure, and although you can use `hold` to overlay it with other images, __DON'T__ - bad things will happen."
   ]
  },
  {
   "cell_type": "code",
   "execution_count": 19,
   "metadata": {},
   "outputs": [],
   "source": [
    "fig_surf = figure(4);\n",
    "\n",
    "surf(xRange,yRange,zData,'edgecolor','none') %edgecolor is the color of the lines that are connecting the data-points - this 'edgecolor','none' turns these lines off to make the surface plot look nicer.\n",
    "\n",
    "%this command provides a bar outside the figure so that we can read off the zData\n",
    "colorbar; %MATLAB is American - so get used to having loads of syntax errors for spelling color \"incorrectly\"\n",
    "\n",
    "xlabel('$x$','interpreter','latex')\n",
    "ylabel('$y$','interpreter','latex')\n",
    "zlabel('$f(x,y,a=2,b=1)$','interpreter','latex') %note that a surface plot has a zlabel too!\n",
    "title('Tasty Pringle (aka surface plot)')"
   ]
  },
  {
   "cell_type": "code",
   "execution_count": 22,
   "metadata": {},
   "outputs": [],
   "source": [
    "\n",
    "%run this command to close all the figures you have opened in this lesson, if there are too many figure windows open!\n",
    "close all;"
   ]
  },
  {
   "cell_type": "markdown",
   "metadata": {},
   "source": [
    "## Key Points:\n",
    "- We create new figures and set the current/active figure using the `figure()` command.\n",
    "- When a figure is active, all graphing commands are applyed to it.\n",
    "- We can use `hold` to overlay graphs on the same figure.\n",
    "- We can add axes labels, titles and legends to figures.\n",
    "- We store the data we want to plot in arrays.\n",
    "- Common graphing commands are `plot`, `scatter`, `semilogx`, `semilogy`, `loglog`, `contour` and `surf`."
   ]
  }
 ],
 "metadata": {
  "kernelspec": {
   "display_name": "Octave",
   "language": "octave",
   "name": "octave"
  },
  "language_info": {
   "file_extension": ".m",
   "help_links": [
    {
     "text": "GNU Octave",
     "url": "https://www.gnu.org/software/octave/support.html"
    },
    {
     "text": "Octave Kernel",
     "url": "https://github.com/Calysto/octave_kernel"
    },
    {
     "text": "MetaKernel Magics",
     "url": "https://metakernel.readthedocs.io/en/latest/source/README.html"
    }
   ],
   "mimetype": "text/x-octave",
   "name": "octave",
   "version": "5.1.0"
  }
 },
 "nbformat": 4,
 "nbformat_minor": 2
}
