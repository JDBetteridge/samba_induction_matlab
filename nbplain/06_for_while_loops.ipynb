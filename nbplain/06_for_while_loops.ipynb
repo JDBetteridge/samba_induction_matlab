{
 "cells": [
  {
   "cell_type": "markdown",
   "metadata": {},
   "source": [
    "# Please, stay `for` a `while`"
   ]
  },
  {
   "cell_type": "markdown",
   "metadata": {},
   "source": [
    "## Overview:\n",
    "- Teaching: _time_\n",
    "- Exercises: _time_\n",
    "\n",
    "Objectives:\n",
    "- Introduce `for` and `while` loops\n",
    "- Understand the difference between their interpretation\n",
    "- Employ both types of loops for automating MATLAB tasks"
   ]
  },
  {
   "cell_type": "markdown",
   "metadata": {},
   "source": [
    "## Setup:\n",
    "\n",
    "For this lesson we are going to be using the pringle function that we defined in the previous lesson, so make sure that it's file is in your current working directory."
   ]
  },
  {
   "cell_type": "code",
   "execution_count": 1,
   "metadata": {},
   "outputs": [],
   "source": [
    "function [z] = f(x,y,a,b)\n",
    "\n",
    "z = (x.*x)./(a*a) + (y.*y)/(b*b);\n",
    "\n",
    "end %function"
   ]
  },
  {
   "cell_type": "markdown",
   "metadata": {},
   "source": [
    ":+Setup"
   ]
  },
  {
   "cell_type": "markdown",
   "metadata": {},
   "source": [
    "## It takes `for`-ever"
   ]
  },
  {
   "cell_type": "markdown",
   "metadata": {},
   "source": [
    "In the previous lesson we looked at plotting functions and function handles, and towards the end we started adding multiple plots to the same figure.\n",
    "To do this, we had to turn `hold` on and then type out all the plotting commands that we wanted to execute.\n",
    "This was fine for us, because we were only plotting 3 different sets of data, but what if you wanted to plot 10 different sets of data?\n",
    "What about 20?\n",
    "50? 100? (It happens, trust me.)\n",
    "\n",
    "Unless you fancy typing out about 100 lines of plot statements, _plus_ another 100-odd lines to actually generate the data that you need to give the plotting commands, you're going to want a alternative method for this.\n",
    "This is where `for` loops come in.\n",
    "\n",
    "Placing a segment of code in a `for` loop (or \"`for` block\") allows it to be executed multiple times using different variable values - ideal for when you have a a process that you want to carry out repeatedly.\n",
    "Let's look at a minimum informative example:"
   ]
  },
  {
   "cell_type": "code",
   "execution_count": 2,
   "metadata": {},
   "outputs": [
    {
     "name": "stdout",
     "output_type": "stream",
     "text": [
      " 1\r\n",
      " 2\r\n",
      " 3\r\n",
      " 4\r\n",
      " 5\r\n",
      " 6\r\n",
      " 7\r\n",
      " 8\r\n",
      " 9\r\n",
      " 10\r\n"
     ]
    }
   ],
   "source": [
    "for i = 1:10\n",
    "    disp(i)\n",
    "end %for"
   ]
  },
  {
   "cell_type": "markdown",
   "metadata": {},
   "source": [
    "To tell MATLAB we are starting a `for` loop, we of course need to type the keyword `for`.\n",
    "After this keyword, we need to tell MATLAB the values we want to loop over, and give it a \"loop\" variable - this is what the `i = 1:10` part means.\n",
    "`i` is the name that we are giving to our loop variable.\n",
    "`1:10` are the values that we want to loop over; in this case we want `i` to take each integer value between 1 and 10 inclusive.\n",
    "Remember that when slicing arrays, typing `1:10` would mean \"take all the values at indices 1 through 10\" - it's a similar meaning here.\n",
    "\n",
    "After the first line, the actual \"loop\" begins - MATLAB should auto-indent your code to make it clearer for you where the loop begins, but you don't need to do this.\n",
    "Here we can type commands and use the loop variable `i`; in this case our loop consists of only one command - `disp(i)`.\n",
    "To tell MATLAB that the loop is over, we use the `end` keyword - yes this is the same keyword as you used to end functions, and will be using to end `while` and `if` statements too!\n",
    "As such it's good practice to put a short comment after your `end` statements to remind you what they are ending!\n",
    "\n",
    "When we run the code, you'll notice that each of the values from 1 to 10 are printed to the screen, that is the `disp(i)` command has been executed for each value of `i` in the range `1:10`, as we asked.\n",
    "With this idea in mind, let's look at a slightly more illustrative example:"
   ]
  },
  {
   "cell_type": "code",
   "execution_count": 3,
   "metadata": {},
   "outputs": [
    {
     "name": "stdout",
     "output_type": "stream",
     "text": [
      " Columns 1 through 8:\r\n",
      "\r\n",
      "   0.00000   0.01235   0.04938   0.11111   0.19753   0.30864   0.44444   0.60494\r\n",
      "\r\n",
      " Columns 9 and 10:\r\n",
      "\r\n",
      "   0.79012   1.00000\r\n",
      " Columns 1 through 8:\r\n",
      "\r\n",
      "   0.00000   0.00309   0.01235   0.02778   0.04938   0.07716   0.11111   0.15123\r\n",
      "\r\n",
      " Columns 9 and 10:\r\n",
      "\r\n",
      "   0.19753   0.25000\r\n",
      " Columns 1 through 8:\r\n",
      "\r\n",
      "   0.00000   0.00137   0.00549   0.01235   0.02195   0.03429   0.04938   0.06722\r\n",
      "\r\n",
      " Columns 9 and 10:\r\n",
      "\r\n",
      "   0.08779   0.11111\r\n",
      " Columns 1 through 7:\r\n",
      "\r\n",
      "   0.000000   0.000772   0.003086   0.006944   0.012346   0.019290   0.027778\r\n",
      "\r\n",
      " Columns 8 through 10:\r\n",
      "\r\n",
      "   0.037809   0.049383   0.062500\r\n",
      " Columns 1 through 7:\r\n",
      "\r\n",
      "   0.000000   0.000494   0.001975   0.004444   0.007901   0.012346   0.017778\r\n",
      "\r\n",
      " Columns 8 through 10:\r\n",
      "\r\n",
      "   0.024198   0.031605   0.040000\r\n"
     ]
    }
   ],
   "source": [
    "xRange = linspace(0,1,10);\n",
    "\n",
    "for i = 1:5\n",
    "    vals = f(xRange, 0, i, 1);\n",
    "    disp(vals)\n",
    "end %for, i"
   ]
  },
  {
   "cell_type": "markdown",
   "metadata": {},
   "source": [
    "This `for` loop has evaluated the function `f` (our pringle) over the range `xRange`, with `y=0,b=1` and `a` ranging from `1:5`, and has printed the results to the screen.\n",
    "Note that we can use variables we define _outside_ a `for` loop in the instructions inside the loop, which is handy if there is a variable we use in our process that _doesn't_ change!\n",
    "\n",
    "Now, consider what happens if we do the following:"
   ]
  },
  {
   "cell_type": "code",
   "execution_count": 4,
   "metadata": {},
   "outputs": [],
   "source": [
    "xRange = linspace(0,1,250);\n",
    "varStore = zeros(5,250);\n",
    "aValues = [0.25 0.5 0.75 1.0 1.25];\n",
    "\n",
    "for i = 1:5\n",
    "    vals = f(xRange, 0, aValues(i), 1);\n",
    "    varStore(i,:) = vals;\n",
    "end %for, i"
   ]
  },
  {
   "cell_type": "markdown",
   "metadata": {},
   "source": [
    "## Exercise: Expectations\n",
    "\n",
    "What do you expect to be stored in `varStore`?"
   ]
  },
  {
   "cell_type": "markdown",
   "metadata": {},
   "source": [
    "## Solution: Expectations\n",
    "\n",
    "The rows of `varStore` correspond to the evaluation of `f` at all the points in `xRange`, where row `i` has had `f` evaluated with `a` set to `aValues[i]`.\n",
    "That is, row 1 of `varStore` is the evaulation of `f` at all points in `xRange`, with `a=0.25`.\n",
    "Row 2 is the evaulation of `f` at all points in `xRange`, with `a=0.5`, and so forth up to `i=5` and `a=1.25`.\n",
    "\n",
    "Notice that we have preallocated the array `varStore` to prevent issues with growing arrays.\n",
    "Also, we could have directly allocated the `i`-th row of `varStore`, cutting out the need for `vals` by using:\n",
    "\n",
    "```octave\n",
    "xRange = linspace(0,1,250);\n",
    "varStore = zeros(5,250);\n",
    "aValues = [0.25 0.5 0.75 1.0 1.25];\n",
    "\n",
    "for i = 1:5\n",
    "    varStore(i,:) = f(xRange, 0, aValues(i), 1);\n",
    "end %for, i\n",
    "```\n",
    "\n",
    "This avoids having to define another array `vals` whose values are only temporary (we overwrite them on each loop, and only use it to hold the values each time) which speeds up the process even further."
   ]
  },
  {
   "cell_type": "markdown",
   "metadata": {},
   "source": [
    "Now we can return to our original question of plotting multiple functions on the same graph: the plan will be to use a `for`-loop to generate each set of `f`-data, and then add it to a plot."
   ]
  },
  {
   "cell_type": "markdown",
   "metadata": {},
   "source": [
    "## Exercise: Do it `for` me\n",
    "\n",
    "Complete the following script by filling in the commands in the indicated places.\n",
    "This script is designed to fulfil the purpose we worked towards above: generate `f`-data for several values of the parameter `a` (with `y=0`) and add these to the same plot.\n",
    "The comments will provide you with hints.\n",
    "\n",
    "```octave\n",
    "clear;\n",
    "close all;\n",
    "\n",
    "xRange = linspace(0,1,250);\n",
    "aValues = 0.5:0.1:1.5; %remember: this generates an array of the values from 0.5 to 1.5, going up in steps of 0.1\n",
    "\n",
    "%create a new figure with ID 1\n",
    "fig = figure(1);\n",
    "%ensure that all plotting is done on this figure, without overwriting\n",
    "\n",
    "<CODE MISSING>\n",
    "\n",
    "for i=1:length(aValues)\n",
    "    %compute the values for f at the i-th value of a, and graph the data you get onto the current figure.\n",
    "    %don't worry about trying to specify line colours, MATLAB will do it for you\n",
    "    \n",
    "    <CODE MISSING>\n",
    "end %for, i\n",
    "\n",
    "%set axis labels for your figure\n",
    "<CODE MISSING>\n",
    "\n",
    "%ensure that we don't overlay plots anymore\n",
    "<CODE MISSING>\n",
    "```"
   ]
  },
  {
   "cell_type": "markdown",
   "metadata": {},
   "source": [
    "## Solution+: Do it `for` me\n",
    "\n",
    "The missing code should be filled in as follows, and produce the following output:"
   ]
  },
  {
   "cell_type": "code",
   "execution_count": 5,
   "metadata": {},
   "outputs": [
    {
     "data": {
      "image/png": "[encoded data removed]",
      "text/plain": [
       "<IPython.core.display.Image object>"
      ]
     },
     "metadata": {},
     "output_type": "display_data"
    }
   ],
   "source": [
    "clear;\n",
    "close all;\n",
    "\n",
    "xRange = linspace(0,1,250);\n",
    "aValues = 0.5:0.1:1.5; %remember: this generates an array of the values from 0.5 to 1.5, going up in steps of 0.1\n",
    "\n",
    "%create a new figure with ID 1\n",
    "fig = figure(1);\n",
    "%ensure that all plotting is done on this figure, without overwriting\n",
    "hold on;\n",
    "\n",
    "for i=1:length(aValues)\n",
    "    %compute the values for f at the i-th value of a, and graph the data you get onto the current figure.\n",
    "    %don't worry about trying to specify line colours, MATLAB will do it for you\n",
    "    plot(xRange, f(xRange, 0, aValues(i), 1));\n",
    "end %for, i\n",
    "\n",
    "%set axis labels for your figure\n",
    "xlabel('$x$','interpreter','latex');\n",
    "ylabel('$f(x,a,0,1)$','interpreter','latex');\n",
    "\n",
    "%ensure that we don't overlay plots anymore\n",
    "hold off;"
   ]
  },
  {
   "cell_type": "markdown",
   "metadata": {},
   "source": [
    "Notice how MATLAB is clever enough to change the colour of your lines automatically when you plot to the same figure!\n",
    "\n",
    ":Solution+"
   ]
  },
  {
   "cell_type": "markdown",
   "metadata": {},
   "source": [
    "## `while` you're at it\n",
    "\n",
    "`for`-loops provide us with a method of executing similar tasks over and over, whilst changing the variable values or parameters that are being put into the commands themselves.\n",
    "This is useful when we have a set number of cases to run through, but a `for`-loop will (eventually) terminate. \n",
    "It always has a finite number of cases to run through, and so isn't particularly useful if you want to run some commands until you reach a certain criteria.\n",
    "\n",
    "For example; you might want to run a numerical method for computing digits of $\\pi$ to a certain number of decimal places, or find the roots of a function to a certain tolerance.\n",
    "The methods here are iterative - they involve \"building on\" sucessive approximations to a given value of interest.\n",
    "Using a `for`-loop does not guarantee that we will reach the desired level of accuracy - we might not tell our `for`-loop to perform enough iterations, or we might go the other way and make it perform _too many_ iterations!\n",
    "\n",
    "In these cases, it is better to use a `while` loop or block.\n",
    "Code that is placed inside a `while` loop will continue to run until a certain condition, provided by the user, is met.\n",
    "Essentially, a `while` loops acts like a `for`-loop but doesn't run it's code a fixed number of times.\n",
    "The general syntax for a `while`-loop is:\n",
    "```octave\n",
    "while <CONDITION>\n",
    "\n",
    "    <PERFORM INSTRUCTIONS>\n",
    "\n",
    "end %while; yes, this is the same end keyword again...\n",
    "```\n",
    "\n",
    "However an example is more useful:"
   ]
  },
  {
   "cell_type": "code",
   "execution_count": 6,
   "metadata": {},
   "outputs": [
    {
     "name": "stdout",
     "output_type": "stream",
     "text": [
      "x is now: 1 \n",
      "x is now: 3 \n",
      "x is now: 7 \n",
      "x is now: 15 \n",
      "The value of x at the end of the loop is: 15"
     ]
    }
   ],
   "source": [
    "x = 0;\n",
    "\n",
    "while x<10\n",
    "    x = 2*x+1;\n",
    "    fprintf('x is now: %d \\n', x)\n",
    "end %while, x<10\n",
    "\n",
    "fprintf('The value of x at the end of the loop is: %d', x)"
   ]
  },
  {
   "cell_type": "markdown",
   "metadata": {},
   "source": [
    "In this example, we have a variable `x` that begins at the value 0.\n",
    "\n",
    "The condition on the `while` loop is `x<10` - this means that all the time `x<10`, the loop below will keep running.\n",
    "Within the loop itself, the first instruction is to double `x` and add 1, then to print the new value of `x` to the screen.\n",
    "We can see the result of the loop: `x` is set to 1, then 3, 7, and 15.\n",
    "Upon reaching `x=15`, the condition `x<10` no longer holds, and so MATLAB moves on from the while loop.\n",
    "Notice that the value of `x` can still be used outside the `while` loop, too."
   ]
  },
  {
   "cell_type": "markdown",
   "metadata": {},
   "source": [
    "## Information+: When is the condition checked?\n",
    "\n",
    "MATLAB will only check the condition you give a `while`-loop _at the end_ of your commands in the loop itself. \n",
    "That is, MATLAB will check your condition the first time it reaches the `while` loop, and will only check it again after all the commands in the loop have been run!\n",
    "Consider the following example:"
   ]
  },
  {
   "cell_type": "code",
   "execution_count": 7,
   "metadata": {},
   "outputs": [
    {
     "name": "stdout",
     "output_type": "stream",
     "text": [
      "x is now: 0 \n",
      "x is now: 1 \n",
      "x is now: 2 \n",
      "x is now: 3 \n",
      "x is now: 6 \n",
      "x is now: 7 \n",
      "x is now: 14 \n",
      "x is now: 15 \n",
      "Value of x finished at: 15"
     ]
    }
   ],
   "source": [
    "x = 0;\n",
    "\n",
    "while x<10\n",
    "    x = 2*x;\n",
    "    fprintf('x is now: %d \\n', x)\n",
    "    x = x+1;\n",
    "    fprintf('x is now: %d \\n', x)\n",
    "end %while, x<10\n",
    "\n",
    "fprintf('Value of x finished at: %d', x)"
   ]
  },
  {
   "cell_type": "markdown",
   "metadata": {},
   "source": [
    "Notice how the value of `x` is set to 14, but the `while` loop does not stop there and still performs the next computation (`x=x+1`) anyway.\n",
    "This is because all the commands in the `while`-loop itself are run before the condition is checked again.\n",
    "We can illustrate this with another `fprintf` statement:"
   ]
  },
  {
   "cell_type": "code",
   "execution_count": 8,
   "metadata": {},
   "outputs": [
    {
     "name": "stdout",
     "output_type": "stream",
     "text": [
      "I checked the value of x and it was still <10 \n",
      "x is now: 0 \n",
      "x is now: 1 \n",
      "I've done everything in the while loop, time to check the condition again. \n",
      "I checked the value of x and it was still <10 \n",
      "x is now: 2 \n",
      "x is now: 3 \n",
      "I've done everything in the while loop, time to check the condition again. \n",
      "I checked the value of x and it was still <10 \n",
      "x is now: 6 \n",
      "x is now: 7 \n",
      "I've done everything in the while loop, time to check the condition again. \n",
      "I checked the value of x and it was still <10 \n",
      "x is now: 14 \n",
      "x is now: 15 \n",
      "I've done everything in the while loop, time to check the condition again. \n",
      "Value of x finished at: 15"
     ]
    }
   ],
   "source": [
    "x = 0;\n",
    "\n",
    "while x<10\n",
    "    fprintf('I checked the value of x and it was still <10 \\n')\n",
    "    x = 2*x;\n",
    "    fprintf('x is now: %d \\n', x)\n",
    "    x = x+1;\n",
    "    fprintf('x is now: %d \\n', x)\n",
    "    fprintf('I''ve done everything in the while loop, time to check the condition again. \\n')\n",
    "end %while, x<10\n",
    "\n",
    "fprintf('Value of x finished at: %d', x)"
   ]
  },
  {
   "cell_type": "markdown",
   "metadata": {},
   "source": [
    ":Information+"
   ]
  },
  {
   "cell_type": "markdown",
   "metadata": {},
   "source": [
    "## Exercise+: Time for some $\\pi$\n",
    "\n",
    "The Gregory-Leibniz formula for $\\pi$ is\n",
    "$$ \\pi = 4 \\sum_{k=1}^{\\infty}\\frac{(-1)^{k+1}}{2k-1} \\approx 4\\left( 1 - \\frac{1}{3} + \\frac{1}{5} - ... \\right).$$\n",
    "Obviously a computer is incapable of performing the exact summation (because infinite terms and all) and so most programming languages include a built-in variable for a (very precise) decimal approximation to $\\pi$ - in MATLAB this value can be accessed via the variable `pi`:"
   ]
  },
  {
   "cell_type": "code",
   "execution_count": 9,
   "metadata": {},
   "outputs": [
    {
     "name": "stdout",
     "output_type": "stream",
     "text": [
      "3.1415926536 \r\n"
     ]
    }
   ],
   "source": [
    "fprintf('%.10f \\n',pi)"
   ]
  },
  {
   "cell_type": "markdown",
   "metadata": {},
   "source": [
    "In this exercise, you will test how fast the Gregory-Leibniz formula is at computing `pi` to different levels of accuracy.\n",
    "Consider the following code:\n",
    "\n",
    "```octave\n",
    "pi_approx = 0;\n",
    "k = 1;\n",
    "err = abs(pi - pi_approx); %the abs function in MATLAB returns the absolute value\n",
    "tol = 1e-1; %tol is short for tolerance; this quantifies the accuracy to which we want our value\n",
    "\n",
    "while <CONDITION>\n",
    "    <COMMANDS>\n",
    "end %while, <CONDITION>\n",
    "\n",
    "fprintf('Terms needed to compute pi to tolerance of %.1e was: %d \\n', tol, k-1)\n",
    "fprintf('The error in the final approximation was %.2e \\n', err)\n",
    "```\n",
    "\n",
    "The variable `pi_approx` stores our current approximation of $\\pi$, by evaulating terms in the Gregory-Leibniz series.\n",
    "The value in `k` is the index of the _next_ term in the series, that we have not yet added on.\n",
    "`err` stores the current error (difference) between our approximation and the value MATLAB has stored in `pi`.\n",
    "`tol` is the tolerance for our approximation - we will deem our approximation good enough if the error is less than this value.\n",
    "\n",
    "Your job is to fill in the missing `while`-loop; the steps you'll need to impliment are below:\n",
    "- The while loop should keep running until our approximation for $\\pi$ is deemed to be good enough, given the value of the tolerance.\n",
    "- If our approximate value is not good enough; we will need to add the next term in the Gregory-Leibniz series onto our current value of `pi_approx`, then update the error variable to account for our new approximation, and add 1 to `k` (so that we move onto the next term in the series).\n",
    "\n",
    "Once you have filled in the `while` loop, run the code.\n",
    "1. How many terms are needed?\n",
    "1. If you adjust the tolerance (change the order between -1 and -8) how does the number of terms needed change?\n",
    "1. (Optional) Can you write a script that determines the number of terms needed for each of the tolerances `1e-1,1e-2,1e-3,1e-4,1e-5`? (Hint: you can put `while`-loops _inside_ `for`-loops...)\n",
    "\n",
    ":Exercise+"
   ]
  },
  {
   "cell_type": "markdown",
   "metadata": {},
   "source": [
    "## Solution+: Time for some $\\pi$\n",
    "\n",
    "The `while` loop needs to be fixed as follows:"
   ]
  },
  {
   "cell_type": "code",
   "execution_count": 10,
   "metadata": {},
   "outputs": [
    {
     "name": "stdout",
     "output_type": "stream",
     "text": [
      "Terms needed to compute pi to tolerance of 1.0e-01 was: 10 \n",
      "The error in the final approximation was 9.98e-02 \n"
     ]
    }
   ],
   "source": [
    "pi_approx = 0;\n",
    "k = 1;\n",
    "err = abs(pi - pi_approx); %the abs function in MATLAB returns the absolute value\n",
    "tol = 1e-1; %tol is short for tolerance; this quantifies the accuracy to which we want our value\n",
    "\n",
    "while err>tol\n",
    "    pi_approx = pi_approx + 4 * (-1)^(k+1)/(2*k-1); %add on the next term in the series\n",
    "    err = abs(pi - pi_approx); %update the error with our new pi_approx value\n",
    "    k = k+1; %move onto the next term in the sequence in preparation for next time\n",
    "end %while, err>tol\n",
    "\n",
    "fprintf('Terms needed to compute pi to tolerance of %.1e was: %d \\n', tol, k-1)\n",
    "%note: there's a k-1 here because we add 1 to k at the end of the loop, anticipating that we will need the next term\n",
    "%as such, if we only need 1 term, we will still update k from 1 to 2, even though we don't use the second term\n",
    "%hence, there's a -1 in here!\n",
    "fprintf('The error in the final approximation was %.2e \\n', err)"
   ]
  },
  {
   "cell_type": "markdown",
   "metadata": {},
   "source": [
    "As you vary `tol`, you should notice a marked increase in the number of iterations required for the series to get close to the value of `pi`.\n",
    "Indeed, we can automate the process by using a `for`-loop:"
   ]
  },
  {
   "cell_type": "code",
   "execution_count": 11,
   "metadata": {},
   "outputs": [
    {
     "data": {
      "image/png": "[encoded data removed]",
      "text/plain": [
       "<IPython.core.display.Image object>"
      ]
     },
     "metadata": {},
     "output_type": "display_data"
    }
   ],
   "source": [
    "tol_values = logspace(-1,-4,16); %tolerances between 1e-1 and 1e-4\n",
    "terms_needed = zeros(1,16); %preallocate memory for storing the number of iterations\n",
    "\n",
    "for i=1:16\n",
    "    pi_approx = 0;\n",
    "    k = 1;\n",
    "    err = abs(pi - pi_approx);\n",
    "    tol = tol_values(i); %this time, we use the i-th value in tol_store for the tolerance\n",
    "\n",
    "    while err>tol\n",
    "        pi_approx = pi_approx + 4 * (-1)^(k+1)/(2*k-1); %add on the next term in the series\n",
    "        err = abs(pi - pi_approx); %update the error with our new pi_approx value\n",
    "        k = k+1; %move onto the next term in the sequence in preparation for next time\n",
    "    end %while, err>tol\n",
    "   \n",
    "    terms_needed(i) = k-1; %store the number of terms needed in the i-th position in the array terms_needed\n",
    "    \n",
    "end %for, i\n",
    "\n",
    "f = figure(1);\n",
    "loglog(tol_values, terms_needed);\n",
    "xlabel('Tolerance requested');\n",
    "ylabel('Terms required');"
   ]
  },
  {
   "cell_type": "markdown",
   "metadata": {},
   "source": [
    "You should find that the number of terms needed scales with the inverse of the tolerance you request the computation go to.\n",
    "\n",
    ":Solution+"
   ]
  },
  {
   "cell_type": "markdown",
   "metadata": {},
   "source": [
    "## Key Points:\n",
    "\n",
    "- `for`-loops perform the same set of tasks a fixed number of times, each time changing a loop variable.\n",
    "- `while`-loops perform a set of commands until a given condition is reached.\n",
    "- `for`-loops are useful when you know how many times a task needs to be performed.\n",
    "- `while`-loops are useful when you want to guarantee that a certain condition is met, before stopping the code."
   ]
  }
 ],
 "metadata": {
  "kernelspec": {
   "display_name": "Octave",
   "language": "octave",
   "name": "octave"
  },
  "language_info": {
   "file_extension": ".m",
   "help_links": [
    {
     "text": "GNU Octave",
     "url": "https://www.gnu.org/software/octave/support.html"
    },
    {
     "text": "Octave Kernel",
     "url": "https://github.com/Calysto/octave_kernel"
    },
    {
     "text": "MetaKernel Magics",
     "url": "https://metakernel.readthedocs.io/en/latest/source/README.html"
    }
   ],
   "mimetype": "text/x-octave",
   "name": "octave",
   "version": "4.2.2"
  }
 },
 "nbformat": 4,
 "nbformat_minor": 2
}
