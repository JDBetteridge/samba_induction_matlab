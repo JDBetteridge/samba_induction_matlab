{
 "cells": [
  {
   "cell_type": "markdown",
   "metadata": {},
   "source": [
    "# Introduction"
   ]
  },
  {
   "cell_type": "markdown",
   "metadata": {},
   "source": [
    "## Overview:\n",
    "- Teaching: 10 mins\n",
    "- Exercises: 0 mins\n",
    "\n",
    "**Objectives**:\n",
    "- Introduce users to the MATALB GUI\n",
    "- Understand the roles of the editor, command line, workspace and working directory\n",
    "- Introduce variable types and syntax"
   ]
  },
  {
   "cell_type": "markdown",
   "metadata": {},
   "source": [
    "## The MATLAB GUI\n",
    "MATLAB has a Graphical User Interface (GUI) which is very useful when programming; the GUI allows you to keep track of your files and variables, and also allows you to intertwine editing functions and scripts with running them.\n",
    "In this section we will quickly go over the important parts of the MATLAB GUI.\n",
    "\n",
    "![MATLAB GUI Screenshot](../images/gui-image.png)"
   ]
  },
  {
   "cell_type": "markdown",
   "metadata": {},
   "source": [
    "When you first load up MATLAB you will obtain a screen that looks something like this (Octane users may have a different layout, but all the components will be there).\n",
    "There's a lot to take in, but what's in front of you can be broken down into 5 main parts:\n",
    "### 1) The Current Working Directory\n",
    "The __current working directory__ is (as the name suggests) the location on your computer in which MATLAB is currently working.\n",
    "This pannel displays all the files and subfolders inside the current working directory, whilst the address of the directory itself is displayed in the bar above the pannel. \n",
    "In the screenshot above, we can see that my current working directory is `H:/dos/samba_induction_matlab/worksheet/`, and it contains one file, `01_matlab.ipynb`.\n",
    "\n",
    "We can change the current working directory using the folder buttons next to the address bar.\n",
    "If there is a function file or script saved in this directory, MATLAB can \"see\" it and will know what to do when you run those commands.\n",
    "As such, before you start writing or running functions and scripts, you should make sure you are in the correct working directory - otherwise you will get an error!\n",
    "\n",
    "### 2) The Editor Window\n",
    "This window displays any files that we are currently writing or editing.\n",
    "When we open a file by selecting it from the working directory pannel, or when we create a new file using the toolbar, it will open here.\n",
    "In this window you can write scripts and functions in MATLAB syntax, save them, and then run them in the command line.\n",
    "MATLAB's editor is fairly smart, and is able to read it's own code and highlight errors or warnings with what's written, making writing code that much easier.\n",
    "It also has syntax highlighting, automatic indentation, and allows you to write comments in your code.\n",
    "\n",
    "In the screenshot, I am currently editing one file, which I have not saved yet - notice the name `Untitled2.m`.\n",
    "Also notice the asterisk `*` after the name - even once you save a file and give it a proper name, an asterisk will appear after it's name if you make changes in the editor and don't save them.\n",
    "\n",
    "### 3) The Command Line\n",
    "We don't have to write functions or scripts to run MATLAB commands, we can simply type them directly into the command line if we want!\n",
    "Commands are typed out after the `>>` and are executed by pressing the return key.\n",
    "The command is immediately carried out, and any output is printed to the screen.\n",
    "\n",
    "Generally, what you'll do is write a script in the editor, and then run this script in the command line.\n",
    "This way you can type all the commands you want to perform out first, and in order, then sit back and let MATLAB churn through them all!\n",
    "\n",
    "### 4) Variable Workspace\n",
    "This pannel has a list of all the variables that we currently have defined, as well as some information about them.\n",
    "We can see that I have 3 variables currently defined; there's a $60\\times60$ matrix `A` of numbers - the word \"double\" refers to \"double-precision floating point number\" and tells me what _type_ of variable the matrix stores.\n",
    "There's also a $1\\times50$ vector called `b`, again of numbers, and `mu0` which is a constant.\n",
    "There are other data types besides numbers in MATLAB, the most notable being strings, but we won't go into detail about those yet.\n",
    "\n",
    "Note that if a variable isn't in the workspace, then MATLAB doesn't know what it is!\n",
    "\n",
    "### 5) Toolbar\n",
    "This bar contains a number of useful features the suppliment the editor window.\n",
    "You can highlight a section of code to comment it out, create new files with the syntax pre-written, and automatically indent your code.\n",
    "You can even run subsections of your code if you're careful!"
   ]
  },
  {
   "cell_type": "markdown",
   "metadata": {},
   "source": [
    "## MATLAB Variables\n",
    "Let's start off by looking at defining variables in MATLAB.\n",
    "A variable is just a name for a _value_ that we want to store.\n",
    "To create a variable, we simply pick a name for it, and use the `=` key to give it a value.\n",
    "For example, let's create the variable `number_ducks` and give it a value by running the following command in the command line:"
   ]
  },
  {
   "cell_type": "code",
   "execution_count": 2,
   "metadata": {},
   "outputs": [
    {
     "name": "stdout",
     "output_type": "stream",
     "text": [
      "number_ducks =  10\r\n"
     ]
    }
   ],
   "source": [
    "number_ducks = 10"
   ]
  },
  {
   "cell_type": "markdown",
   "metadata": {},
   "source": [
    "You should notice two things.\n",
    "Firstly, the workspace variables panel suddenly gets a new entry corresponding to the variable you just defined.\n",
    "Secondly, notice that the text `number_ducks = 10` is printed to the command line.\n",
    "This is because whenever we set (or change) the value of a variable, MATLAB by default displays the new value to the screen.\n",
    "We can prevent MATLAB from doing this using a semicolon (`;`) at the end of the line:"
   ]
  },
  {
   "cell_type": "code",
   "execution_count": 3,
   "metadata": {},
   "outputs": [],
   "source": [
    "number_ducks = 15;"
   ]
  },
  {
   "cell_type": "markdown",
   "metadata": {},
   "source": [
    "Notice now that the value of `number_ducks` has changed in the workspace variables panel, but the new value wasn't printed in the command line.\n",
    "\n",
    "Let's now define a few more variables:"
   ]
  },
  {
   "cell_type": "code",
   "execution_count": 4,
   "metadata": {},
   "outputs": [
    {
     "name": "stdout",
     "output_type": "stream",
     "text": [
      " 374.40\r\n"
     ]
    }
   ],
   "source": [
    "yearly_cost_per_duck = 24.96;\n",
    "yearly_duck_cost = number_ducks * yearly_cost_per_duck;\n",
    "disp(yearly_duck_cost)"
   ]
  },
  {
   "cell_type": "markdown",
   "metadata": {},
   "source": [
    "Notice how we can define variables using the varibales we currently have.\n",
    "But what happens if we, say, were to aquire another duck?\n",
    "We can add one to the variable storing the number of ducks we have like so:"
   ]
  },
  {
   "cell_type": "code",
   "execution_count": 5,
   "metadata": {},
   "outputs": [
    {
     "name": "stdout",
     "output_type": "stream",
     "text": [
      " 16\r\n"
     ]
    }
   ],
   "source": [
    "number_ducks = number_ducks + 1;\n",
    "disp(number_ducks)"
   ]
  },
  {
   "cell_type": "markdown",
   "metadata": {},
   "source": [
    "This highlights an important feature of `=` in that it _takes the value on the right, then stores it in the variable on the left_.\n",
    "Namely, before we ran the previous command, `number_ducks = 15`.\n",
    "So when we add one, we get `16`.\n",
    "Then, we take the value `16` and store it in the variable `number_ducks`, _overwritting_ the previous value.\n",
    "\n",
    "But our `yearly_duck_cost` hasn't updated to take account of this new value:"
   ]
  },
  {
   "cell_type": "code",
   "execution_count": 6,
   "metadata": {},
   "outputs": [
    {
     "name": "stdout",
     "output_type": "stream",
     "text": [
      " 374.40\r\n"
     ]
    }
   ],
   "source": [
    "disp(yearly_duck_cost)"
   ]
  },
  {
   "cell_type": "markdown",
   "metadata": {},
   "source": [
    "Even though we set the value of `yearly_duck_cost` using `number_ducks`, MATLAB doesn't go back and update the value of `yearly_duck_cost` when we change the value of `number_ducks`.\n",
    "We need to do that ourselves..."
   ]
  },
  {
   "cell_type": "code",
   "execution_count": 7,
   "metadata": {},
   "outputs": [
    {
     "name": "stdout",
     "output_type": "stream",
     "text": [
      " 399.36\r\n"
     ]
    }
   ],
   "source": [
    "yearly_duck_cost = number_ducks * yearly_cost_per_duck;\n",
    "disp(yearly_duck_cost)"
   ]
  },
  {
   "cell_type": "markdown",
   "metadata": {},
   "source": [
    "### A better way to print variables\n",
    "\n",
    "The last thing we should talk about is how to display variables in specific formats.\n",
    "You may have noticed that `disp` isn't very informative when you print to the screen - or you might want to print lots of values to the screen, heck even add _words_ to the printout.\n",
    "To do this, we need to use the `fprintf` function, and provide a _print format_.\n",
    "By way of example:"
   ]
  },
  {
   "cell_type": "code",
   "execution_count": 8,
   "metadata": {},
   "outputs": [
    {
     "name": "stdout",
     "output_type": "stream",
     "text": [
      "I own 16 ducks and they cost me £ 399.36 per year \n",
      "The speed of light is 2.99796e+08 ms^-1 \n"
     ]
    }
   ],
   "source": [
    "fprintf('I own %d ducks and they cost me £ %.2f per year \\n', number_ducks, yearly_duck_cost)\n",
    "\n",
    "mu0 = 4*pi*1e-7;\n",
    "eps0 = 8.854e-12;\n",
    "c = 1/sqrt(eps0*mu0);\n",
    "\n",
    "fprintf('The speed of light is %.5e ms^-1 \\n',c)"
   ]
  },
  {
   "cell_type": "markdown",
   "metadata": {},
   "source": [
    "What's going on here?\n",
    "The first `fprintf` call ... # GOT TO HERE\n",
    "\n",
    "Well first of all we are defining two new variables, `mu0` and `eps0` using scientific notation.\n",
    "MATLAB will interpret `e` followed by a number"
   ]
  },
  {
   "cell_type": "markdown",
   "metadata": {},
   "source": [
    "## Key Points:\n",
    "- The current working directory is the location on your computer in which MATLAB is working.\n",
    "- The editor window is used to write MATLAB functions and files, which are then run in the command line.\n",
    "- The workspace variables panel lists all the variables currently in the workspace.\n",
    "\n",
    "- We assign values to variables using `=`\n",
    "- We can display variables using `disp` or `fprintf`"
   ]
  }
 ],
 "metadata": {
  "kernelspec": {
   "display_name": "Octave",
   "language": "octave",
   "name": "octave"
  },
  "language_info": {
   "file_extension": ".m",
   "help_links": [
    {
     "text": "GNU Octave",
     "url": "https://www.gnu.org/software/octave/support.html"
    },
    {
     "text": "Octave Kernel",
     "url": "https://github.com/Calysto/octave_kernel"
    },
    {
     "text": "MetaKernel Magics",
     "url": "https://metakernel.readthedocs.io/en/latest/source/README.html"
    }
   ],
   "mimetype": "text/x-octave",
   "name": "octave",
   "version": "5.1.0"
  }
 },
 "nbformat": 4,
 "nbformat_minor": 2
}
