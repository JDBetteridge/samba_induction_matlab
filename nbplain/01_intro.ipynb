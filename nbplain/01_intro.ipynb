{
 "cells": [
  {
   "cell_type": "markdown",
   "metadata": {},
   "source": [
    "# Introduction"
   ]
  },
  {
   "cell_type": "markdown",
   "metadata": {},
   "source": [
    "## Overview:\n",
    "- Teaching: 10 mins\n",
    "- Exercises: 5 mins\n",
    "\n",
    "**Objectives**:\n",
    "- Introduce users to the MATLAB GUI\n",
    "- Understand the roles of the editor, command line, workspace and working directory\n",
    "- Introduce variable types and syntax"
   ]
  },
  {
   "cell_type": "markdown",
   "metadata": {},
   "source": [
    "## The MATLAB GUI\n",
    "MATLAB has a Graphical User Interface (GUI) which is very useful when programming; the GUI allows you to keep track of your files and variables, and also allows you to intertwine editing functions and scripts with running them.\n",
    "In this section we will quickly go over the important parts of the MATLAB GUI.\n",
    "\n",
    "![MATLAB GUI Screenshot](../images/gui-image.png)"
   ]
  },
  {
   "cell_type": "markdown",
   "metadata": {},
   "source": [
    "When you first load up MATLAB you will obtain a screen that looks something like this (Octave users may have a different layout, but all the components will be there).\n",
    "There's a lot to take in, but what's in front of you can be broken down into 5 main parts:\n",
    "### 1) The Current Working Directory\n",
    "The __current working directory__ is (as the name suggests) the location on your computer in which MATLAB is currently working.\n",
    "This panel displays all the files and subfolders inside the current working directory, whilst the address of the directory itself is displayed in the bar above the pannel. \n",
    "In the screenshot above, we can see that my current working directory is `H:/dos/samba_induction_matlab/worksheet/`, and it contains one file, `01_matlab.ipynb`.\n",
    "\n",
    "We can change the current working directory using the folder buttons next to the address bar.\n",
    "If there is a function file or script saved in this directory, MATLAB can \"see\" it and will know what to do when you run those commands.\n",
    "As such, before you start writing or running functions and scripts, you should make sure you are in the correct working directory - otherwise you will get an error!\n",
    "\n",
    "### 2) The Editor Window\n",
    "This window displays any files that we are currently writing or editing.\n",
    "When we open a file by selecting it from the working directory panel, or when we create a new file using the toolbar, it will open here.\n",
    "In this window you can write scripts and functions in MATLAB syntax, save them, and then run them in the command line.\n",
    "MATLAB's editor is fairly smart, and is able to read it's own code and highlight errors or warnings with what's written, making writing code that much easier.\n",
    "It also has syntax highlighting, automatic indentation, and allows you to write comments in your code.\n",
    "\n",
    "In the screenshot, I am currently editing one file, which I have not saved yet - notice the name `Untitled2.m`.\n",
    "Also notice the asterisk `*` after the name - even once you save a file and give it a proper name, an asterisk will appear after it's name if you make changes in the editor and don't save them.\n",
    "\n",
    "### 3) The Command Line\n",
    "We don't have to write functions or scripts to run MATLAB commands, we can simply type them directly into the command line if we want!\n",
    "Commands are typed out after the `>>` and are executed by pressing the return key.\n",
    "The command is immediately carried out, and any output is printed to the screen.\n",
    "\n",
    "Generally, what you'll do is write a script in the editor, and then run this script in the command line.\n",
    "This way you can type all the commands you want to perform out first, and in order, then sit back and let MATLAB churn through them all!\n",
    "\n",
    "### 4) Variable Workspace\n",
    "This panel has a list of all the variables that we currently have defined, as well as some information about them.\n",
    "We can see that I have 3 variables currently defined; there's a $60\\times60$ matrix `A` of numbers - the word \"double\" refers to \"double-precision floating point number\" and tells us what _type_ of variable the matrix stores.\n",
    "There's also a $1\\times50$ vector called `b`, again of numbers, and `mu0` which is a constant.\n",
    "There are other data types besides numbers in MATLAB, the most notable being strings, but we won't go into detail about those yet.\n",
    "\n",
    "Note that if a variable isn't in the workspace, then MATLAB doesn't know what it is!\n",
    "\n",
    "### 5) Toolbar\n",
    "This bar contains a number of useful features the suppliment the editor window.\n",
    "You can highlight a section of code to comment it out, create new files with the syntax pre-written, and automatically indent your code.\n",
    "You can even run subsections of your code if you're careful!"
   ]
  },
  {
   "cell_type": "markdown",
   "metadata": {},
   "source": [
    "## MATLAB Variables\n",
    "Let's start off by looking at defining variables in MATLAB.\n",
    "A variable is just a name for a _value_ that we want to store.\n",
    "To create a variable, we simply pick a name for it, and use the `=` key to give it a value.\n",
    "For example, let's create the variable `number_ducks` and give it a value by running the following command in the command line:"
   ]
  },
  {
   "cell_type": "code",
   "execution_count": 1,
   "metadata": {},
   "outputs": [
    {
     "name": "stdout",
     "output_type": "stream",
     "text": [
      "number_ducks =  10\n"
     ]
    }
   ],
   "source": [
    "number_ducks = 10"
   ]
  },
  {
   "cell_type": "markdown",
   "metadata": {},
   "source": [
    "You should notice two things.\n",
    "Firstly, the workspace variables panel suddenly gets a new entry corresponding to the variable you just defined.\n",
    "Secondly, notice that the text `number_ducks = 10` is printed to the command line.\n",
    "This is because whenever we set (or change) the value of a variable, MATLAB by default displays the new value to the screen.\n",
    "We can prevent MATLAB from doing this using a semicolon (`;`) at the end of the line:"
   ]
  },
  {
   "cell_type": "code",
   "execution_count": 2,
   "metadata": {},
   "outputs": [],
   "source": [
    "number_ducks = 15;"
   ]
  },
  {
   "cell_type": "markdown",
   "metadata": {},
   "source": [
    "Notice now that the value of `number_ducks` has changed in the workspace variables panel, but the new value wasn't printed in the command line.\n",
    "\n",
    "Let's now define a few more variables:"
   ]
  },
  {
   "cell_type": "code",
   "execution_count": 3,
   "metadata": {},
   "outputs": [
    {
     "name": "stdout",
     "output_type": "stream",
     "text": [
      " 374.40\n"
     ]
    }
   ],
   "source": [
    "yearly_cost_per_duck = 24.96;\n",
    "yearly_duck_cost = number_ducks * yearly_cost_per_duck;\n",
    "disp(yearly_duck_cost)"
   ]
  },
  {
   "cell_type": "markdown",
   "metadata": {},
   "source": [
    "Notice how we can define variables using the variables we currently have.\n",
    "But what happens if we, say, were to aquire another duck?\n",
    "We can add one to the variable storing the number of ducks we have like so:"
   ]
  },
  {
   "cell_type": "code",
   "execution_count": 4,
   "metadata": {},
   "outputs": [
    {
     "name": "stdout",
     "output_type": "stream",
     "text": [
      " 16\n"
     ]
    }
   ],
   "source": [
    "number_ducks = number_ducks + 1;\n",
    "disp(number_ducks)"
   ]
  },
  {
   "cell_type": "markdown",
   "metadata": {},
   "source": [
    "This highlights an important feature of `=` in that it _takes the value on the right, then stores it in the variable on the left_.\n",
    "Namely, before we ran the previous command, `number_ducks = 15`.\n",
    "So when we add one, we get `16`.\n",
    "Then, we take the value `16` and store it in the variable `number_ducks`, _overwritting_ the previous value.\n",
    "\n",
    "But our `yearly_duck_cost` hasn't updated to take account of this new value:"
   ]
  },
  {
   "cell_type": "code",
   "execution_count": 5,
   "metadata": {},
   "outputs": [
    {
     "name": "stdout",
     "output_type": "stream",
     "text": [
      " 374.40\n"
     ]
    }
   ],
   "source": [
    "disp(yearly_duck_cost)"
   ]
  },
  {
   "cell_type": "markdown",
   "metadata": {},
   "source": [
    "Even though we set the value of `yearly_duck_cost` using `number_ducks`, MATLAB doesn't go back and update the value of `yearly_duck_cost` when we change the value of `number_ducks`.\n",
    "We need to do that ourselves..."
   ]
  },
  {
   "cell_type": "code",
   "execution_count": 6,
   "metadata": {},
   "outputs": [
    {
     "name": "stdout",
     "output_type": "stream",
     "text": [
      " 399.36\n"
     ]
    }
   ],
   "source": [
    "yearly_duck_cost = number_ducks * yearly_cost_per_duck;\n",
    "disp(yearly_duck_cost)"
   ]
  },
  {
   "cell_type": "markdown",
   "metadata": {},
   "source": [
    "### A better way to print variables\n",
    "\n",
    "The last thing we should talk about is how to display variables in specific formats.\n",
    "You may have noticed that `disp` isn't very informative when you print to the screen - or you might want to print lots of values to the screen, heck even add _words_ to the printout.\n",
    "To do this, we need to use the `fprintf` function, and provide a _format specifier_ or _print format_.\n",
    "By way of example:"
   ]
  },
  {
   "cell_type": "code",
   "execution_count": 7,
   "metadata": {},
   "outputs": [
    {
     "name": "stdout",
     "output_type": "stream",
     "text": [
      "I own 16 ducks and they cost me £ 399.36 per year \n"
     ]
    }
   ],
   "source": [
    "fprintf('I own %d ducks and they cost me £ %.2f per year \\n', number_ducks, yearly_duck_cost)"
   ]
  },
  {
   "cell_type": "markdown",
   "metadata": {},
   "source": [
    "What's going on here?\n",
    "Well, `fprintf` works slightly differently to `disp`: rather than just giving `fprintf` a variable name, we give it a _string_ - we can define a string using `'` marks.\n",
    "In this case, we have given it the string `'I own %d ducks and they cost me £ %.2f per year \\n'`.\n",
    "Now within this string, everywhere we want to print a variable we put in a `%` sign followed by a combination of letters and numbers - these are the format specifiers mentioned earlier.\n",
    "The combinations of symbols let MATLAB know how we want our variables to be displayed; the allowed formats are:\n",
    "\n",
    "| Specifier                      | Format Name   | Print Output        | Use on                                             |\n",
    "| :---------:                    | :------------ | :-----------------|:---------------------------------------------------|\n",
    "| `%d`                           | decimal       | integer number      | integers                                           |\n",
    "| `%f`                           | float         | decimal number      | floats, when we don't need scientific notation     |\n",
    "| `%e`                           | scientific    | decimal number      | floats, when we need scientific notation           |\n",
    "| `%.n`, `n`$\\in\\mathbb{N}$      | precision     | decimal to `n` d.p. | floats                                             |"
   ]
  },
  {
   "cell_type": "markdown",
   "metadata": {},
   "source": [
    "## Information : Variable Types\n",
    "MATLAB and other programming languages use particular terms for the values stored in variables. Simplistically, a `float` is a number that is stored in the computer memory as a decimal, an `int` an integer, and `char` (character) or `str` to a string."
   ]
  },
  {
   "cell_type": "markdown",
   "metadata": {},
   "source": [
    "You can mix precision specifiers with scientific and float specifiers too, by putting the letter `f` or `e` after the number of decimal points.\n",
    "\n",
    "With this in mind, we can now interpret what `fprintf('I own %d ducks and they cost me £ %.2f per year \\n', number_ducks, yearly_duck_cost)` is doing.\n",
    " - The string lets MATLAB know the message to print to the screen, and the format specifiers how we want the variables to be printed.\n",
    " - After the string, we put in the variables we want printed, in the order they appear, and separate them by commas.\n",
    " - When the command runs, MATLAB inserts the values of the variables into the places where we have provided a format specifier.\n",
    " - *NOTE*: The `\\n` part of the string just tells MATLAB to print a new line.\n",
    " \n",
    " MATLAB then replaces `%d` with 16 (the value of `number_ducks`) and `%.2f` with 399.36 (`yearly_duck_cost` to 2 decimal places), and prints the result."
   ]
  },
  {
   "cell_type": "markdown",
   "metadata": {},
   "source": [
    "We can also define variables using scientific notation, and then print them to the screen in a similar way:"
   ]
  },
  {
   "cell_type": "code",
   "execution_count": 8,
   "metadata": {},
   "outputs": [
    {
     "name": "stdout",
     "output_type": "stream",
     "text": [
      "The air-speed velocity of an unladen swallow is 9.9e+00 ms^-1 \n",
      "A European swallow or an African swallow? \n"
     ]
    }
   ],
   "source": [
    "swallow_strouhal_constant = 3e0;\n",
    "wing_flap_frequency = 1.5e1;\n",
    "meters_per_flap = 2.2e-1;\n",
    "\n",
    "air_speed_velocity = swallow_strouhal_constant * wing_flap_frequency * meters_per_flap;\n",
    "\n",
    "fprintf('The air-speed velocity of an unladen swallow is %.1e ms^-1 \\n',air_speed_velocity)\n",
    "fprintf('A European swallow or an African swallow? \\n')"
   ]
  },
  {
   "cell_type": "markdown",
   "metadata": {},
   "source": [
    "## Exercise: So you think you know your variables?\n",
    "Read the code that follows and predict the exact output of each of the `fprintf` statements that it involves.\n",
    "```octave\n",
    "mallard_mass = 12;\n",
    "earth_mass = 5.972e24;\n",
    "mallard_population_2017 = 4.73e6;\n",
    "mallard_population_2016 = 4.84e6;\n",
    "pop_change = mallard_population_2017 - mallard_population_2016;\n",
    "\n",
    "fprintf('Mallard pop. in 2017 was estimated to be %.2e \\n', mallard_population_2017)\n",
    "fprintf('Mallard pop. in 2016 was estimated to be %f, meaning there was an estimated change of %d mallards \\n', mallard_population_2016, pop_change)\n",
    "\n",
    "fprintf('In 2017, the mass of the global population of mallard ducks was %.2e percent of the mass of the Earth \\n', mallard_mass*mallard_population_2017/earth_mass)\n",
    "```\n",
    "\n",
    "Note: you can perform calculations with variables _inside_ a call to `fprintf`, and it will print the value of the expression you put in!\n",
    "[Solution]()"
   ]
  },
  {
   "cell_type": "markdown",
   "metadata": {},
   "source": [
    "## Solution+: So you think you know your variables?"
   ]
  },
  {
   "cell_type": "code",
   "execution_count": 9,
   "metadata": {},
   "outputs": [
    {
     "name": "stdout",
     "output_type": "stream",
     "text": [
      "Mallard pop. in 2017 was estimated to be 4.73e+06 \n",
      "Mallard pop. in 2016 was estimated to be 4840000, meaning there was an estimated change of -110000 mallards \n",
      "In 2017, the mass of the global population of mallard ducks was 9.50e-18 percent of the mass of the Earth \n",
      "In 2017, the mass of the global population of mallard ducks was 0.00 percent of the mass of the Earth \n"
     ]
    }
   ],
   "source": [
    "mallard_mass = 12;\n",
    "earth_mass = 5.972e24;\n",
    "mallard_population_2017 = 4.73e6;\n",
    "mallard_population_2016 = 4.84e6;\n",
    "pop_change = mallard_population_2017 - mallard_population_2016;\n",
    "\n",
    "fprintf('Mallard pop. in 2017 was estimated to be %.2e \\n', mallard_population_2017)\n",
    "fprintf('Mallard pop. in 2016 was estimated to be %.0f, meaning there was an estimated change of %d mallards \\n', mallard_population_2016, pop_change)\n",
    "\n",
    "fprintf('In 2017, the mass of the global population of mallard ducks was %.2e percent of the mass of the Earth \\n', mallard_mass*mallard_population_2017/earth_mass)\n",
    "fprintf('In 2017, the mass of the global population of mallard ducks was %.2f percent of the mass of the Earth \\n', mallard_mass*mallard_population_2017/earth_mass)"
   ]
  },
  {
   "cell_type": "markdown",
   "metadata": {},
   "source": [
    "Notice how when dealing with large numbers, you should be careful when you print in float or scientific format - the final two print statements being an example!"
   ]
  },
  {
   "cell_type": "markdown",
   "metadata": {},
   "source": [
    ":+Solution"
   ]
  },
  {
   "cell_type": "markdown",
   "metadata": {},
   "source": [
    "## Key Points:\n",
    "MATLAB GUI:\n",
    "- The current working directory is the location on your computer in which MATLAB is working.\n",
    "- The editor window is used to write MATLAB functions and files, which are then run in the command line.\n",
    "- The workspace variables panel lists all the variables currently in the workspace.\n",
    "\n",
    "Variables:\n",
    "- We assign values to variables using `=`\n",
    "- We can display variables using `disp` or `fprintf`"
   ]
  }
 ],
 "metadata": {
  "kernelspec": {
   "display_name": "Python 3",
   "language": "python",
   "name": "python3"
  },
  "language_info": {
   "codemirror_mode": {
    "name": "ipython",
    "version": 3
   },
   "file_extension": ".py",
   "mimetype": "text/x-python",
   "name": "python",
   "nbconvert_exporter": "python",
   "pygments_lexer": "ipython3",
   "version": "3.7.3"
  }
 },
 "nbformat": 4,
 "nbformat_minor": 2
}
