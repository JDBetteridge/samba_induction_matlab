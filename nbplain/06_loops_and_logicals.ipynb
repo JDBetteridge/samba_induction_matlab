{
 "cells": [
  {
   "cell_type": "markdown",
   "metadata": {},
   "source": [
    "# Loops and Logicals"
   ]
  },
  {
   "cell_type": "markdown",
   "metadata": {},
   "source": [
    "## Overview:\n",
    "- Teaching: _time_\n",
    "- Exercises: _time_\n",
    "\n",
    "Objectives:\n",
    "- Introduce `for`, `while`, `if-else` and `if-elseif-else` statements and loops\n",
    "- Introduce comparison operators `<`, `>`, `<=`, `>=`, `==`\n",
    "- Introduce logical operations `&`, `&&`, `|`, `||` and `~`"
   ]
  },
  {
   "cell_type": "markdown",
   "metadata": {},
   "source": [
    "## Setup:\n",
    "\n",
    "For this lesson we are going to be using the pringle function that we defined in the previous lesson, so make sure that it's file is in your current working directory."
   ]
  },
  {
   "cell_type": "code",
   "execution_count": 1,
   "metadata": {},
   "outputs": [],
   "source": [
    "function [z] = f(x,y,a,b)\n",
    "\n",
    "z = (x.*x)./(a*a) + (y.*y)/(b*b);\n",
    "\n",
    "end %function"
   ]
  },
  {
   "cell_type": "markdown",
   "metadata": {},
   "source": [
    ":+Setup"
   ]
  },
  {
   "cell_type": "markdown",
   "metadata": {},
   "source": [
    "## It takes `for`-ever"
   ]
  },
  {
   "cell_type": "markdown",
   "metadata": {},
   "source": [
    "In the previous lesson we looked at plotting functions and function handles, and towards the end we started adding multiple plots to the same figure.\n",
    "To do this, we had to turn `hold` on and then type out all the plotting commands that we wanted to execute.\n",
    "This was fine for us, because we were only plotting 3 different sets of data, but what if you wanted to plot 10 different sets of data?\n",
    "What about 20?\n",
    "50? 100? (It happens, trust me.)\n",
    "\n",
    "Unless you fancy typing out about 100 lines of plot statements, _plus_ another 100-odd lines to actually generate the data that you need to give the plotting commands, you're going to want a alternative method for this.\n",
    "This is where `for` loops come in.\n",
    "\n",
    "Placing a segment of code in a `for` loop (or \"`for` block\") allows it to be executed multiple times using different variable values - ideal for when you have a a process that you want to carry out repeatedly.\n",
    "Let's look at a minimum informative example:"
   ]
  },
  {
   "cell_type": "code",
   "execution_count": 2,
   "metadata": {},
   "outputs": [
    {
     "name": "stdout",
     "output_type": "stream",
     "text": [
      " 1\r\n",
      " 2\r\n",
      " 3\r\n",
      " 4\r\n",
      " 5\r\n",
      " 6\r\n",
      " 7\r\n",
      " 8\r\n",
      " 9\r\n",
      " 10\r\n"
     ]
    }
   ],
   "source": [
    "for i = 1:10\n",
    "    disp(i)\n",
    "end %for"
   ]
  },
  {
   "cell_type": "markdown",
   "metadata": {},
   "source": [
    "To tell MATLAB we are starting a `for` loop, we of course need to type the keyword `for`.\n",
    "After this keyword, we need to tell MATLAB the values we want to loop over, and give it a \"loop\" variable - this is what the `i = 1:10` part means.\n",
    "`i` is the name that we are giving to our loop variable.\n",
    "`1:10` are the values that we want to loop over; in this case we want `i` to take each integer value between 1 and 10 inclusive.\n",
    "Remember that when slicing arrays, typing `1:10` would mean \"take all the values at indices 1 through 10\" - it's a similar meaning here.\n",
    "\n",
    "After the first line, the actual \"loop\" begins - MATLAB should auto-indent your code to make it clearer for you where the loop begins, but you don't need to do this.\n",
    "Here we can type commands and use the loop variable `i`; in this case our loop consists of only one command - `disp(i)`.\n",
    "To tell MATLAB that the loop is over, we use the `end` keyword - yes this is the same keyword as you used to end functions, and will be using to end `while` and `if` statements too!\n",
    "As such it's good practice to put a short comment after your `end` statements to remind you what they are ending!\n",
    "\n",
    "When we run the code, you'll notice that each of the values from 1 to 10 are printed to the screen, that is the `disp(i)` command has been executed for each value of `i` in the range `1:10`, as we asked.\n",
    "With this idea in mind, let's look at a slightly more illustrative example:"
   ]
  },
  {
   "cell_type": "code",
   "execution_count": 4,
   "metadata": {},
   "outputs": [
    {
     "name": "stdout",
     "output_type": "stream",
     "text": [
      " Columns 1 through 8:\r\n",
      "\r\n",
      "   0.00000   0.01235   0.04938   0.11111   0.19753   0.30864   0.44444   0.60494\r\n",
      "\r\n",
      " Columns 9 and 10:\r\n",
      "\r\n",
      "   0.79012   1.00000\r\n",
      " Columns 1 through 8:\r\n",
      "\r\n",
      "   0.00000   0.00309   0.01235   0.02778   0.04938   0.07716   0.11111   0.15123\r\n",
      "\r\n",
      " Columns 9 and 10:\r\n",
      "\r\n",
      "   0.19753   0.25000\r\n",
      " Columns 1 through 8:\r\n",
      "\r\n",
      "   0.00000   0.00137   0.00549   0.01235   0.02195   0.03429   0.04938   0.06722\r\n",
      "\r\n",
      " Columns 9 and 10:\r\n",
      "\r\n",
      "   0.08779   0.11111\r\n",
      " Columns 1 through 7:\r\n",
      "\r\n",
      "   0.000000   0.000772   0.003086   0.006944   0.012346   0.019290   0.027778\r\n",
      "\r\n",
      " Columns 8 through 10:\r\n",
      "\r\n",
      "   0.037809   0.049383   0.062500\r\n",
      " Columns 1 through 7:\r\n",
      "\r\n",
      "   0.000000   0.000494   0.001975   0.004444   0.007901   0.012346   0.017778\r\n",
      "\r\n",
      " Columns 8 through 10:\r\n",
      "\r\n",
      "   0.024198   0.031605   0.040000\r\n"
     ]
    }
   ],
   "source": [
    "xRange = linspace(0,1,10);\n",
    "\n",
    "for i = 1:5\n",
    "    vals = f(xRange, 0, i, 1);\n",
    "    disp(vals)\n",
    "end %for, i"
   ]
  },
  {
   "cell_type": "markdown",
   "metadata": {},
   "source": [
    "This `for` loop has evaluated the function `f` (our pringle) over the range `xRange`, with `y=0,b=1` and `a` ranging from `1:5`, and has printed the results to the screen.\n",
    "Note that we can use variables we define _outside_ a `for` loop in the instructions inside the loop, which is handy if there is a variable we use in our process that _doesn't_ change!\n",
    "\n",
    "Now, consider what happens if we do the following:"
   ]
  },
  {
   "cell_type": "code",
   "execution_count": 6,
   "metadata": {},
   "outputs": [],
   "source": [
    "xRange = linspace(0,1,250);\n",
    "varStore = zeros(5,250);\n",
    "aValues = [0.25 0.5 0.75 1.0 1.25];\n",
    "\n",
    "for i = 1:5\n",
    "    vals = f(xRange, 0, aValues(i), 1);\n",
    "    varStore(i,:) = vals;\n",
    "end %for, i"
   ]
  },
  {
   "cell_type": "code",
   "execution_count": null,
   "metadata": {},
   "outputs": [],
   "source": []
  },
  {
   "cell_type": "markdown",
   "metadata": {},
   "source": [
    "## `while` you're at it"
   ]
  },
  {
   "cell_type": "code",
   "execution_count": null,
   "metadata": {},
   "outputs": [],
   "source": []
  },
  {
   "cell_type": "code",
   "execution_count": null,
   "metadata": {},
   "outputs": [],
   "source": []
  },
  {
   "cell_type": "code",
   "execution_count": null,
   "metadata": {},
   "outputs": [],
   "source": []
  },
  {
   "cell_type": "code",
   "execution_count": null,
   "metadata": {},
   "outputs": [],
   "source": []
  },
  {
   "cell_type": "code",
   "execution_count": null,
   "metadata": {},
   "outputs": [],
   "source": []
  },
  {
   "cell_type": "code",
   "execution_count": null,
   "metadata": {},
   "outputs": [],
   "source": []
  },
  {
   "cell_type": "code",
   "execution_count": null,
   "metadata": {},
   "outputs": [],
   "source": []
  },
  {
   "cell_type": "code",
   "execution_count": null,
   "metadata": {},
   "outputs": [],
   "source": []
  },
  {
   "cell_type": "code",
   "execution_count": null,
   "metadata": {},
   "outputs": [],
   "source": []
  },
  {
   "cell_type": "code",
   "execution_count": null,
   "metadata": {},
   "outputs": [],
   "source": []
  },
  {
   "cell_type": "code",
   "execution_count": null,
   "metadata": {},
   "outputs": [],
   "source": []
  },
  {
   "cell_type": "code",
   "execution_count": null,
   "metadata": {},
   "outputs": [],
   "source": []
  },
  {
   "cell_type": "code",
   "execution_count": null,
   "metadata": {},
   "outputs": [],
   "source": []
  },
  {
   "cell_type": "code",
   "execution_count": null,
   "metadata": {},
   "outputs": [],
   "source": []
  },
  {
   "cell_type": "code",
   "execution_count": null,
   "metadata": {},
   "outputs": [],
   "source": []
  },
  {
   "cell_type": "code",
   "execution_count": null,
   "metadata": {},
   "outputs": [],
   "source": []
  },
  {
   "cell_type": "code",
   "execution_count": null,
   "metadata": {},
   "outputs": [],
   "source": []
  },
  {
   "cell_type": "code",
   "execution_count": null,
   "metadata": {},
   "outputs": [],
   "source": []
  }
 ],
 "metadata": {
  "kernelspec": {
   "display_name": "Octave",
   "language": "octave",
   "name": "octave"
  },
  "language_info": {
   "file_extension": ".m",
   "help_links": [
    {
     "text": "GNU Octave",
     "url": "https://www.gnu.org/software/octave/support.html"
    },
    {
     "text": "Octave Kernel",
     "url": "https://github.com/Calysto/octave_kernel"
    },
    {
     "text": "MetaKernel Magics",
     "url": "https://metakernel.readthedocs.io/en/latest/source/README.html"
    }
   ],
   "mimetype": "text/x-octave",
   "name": "octave",
   "version": "5.1.0"
  }
 },
 "nbformat": 4,
 "nbformat_minor": 2
}
