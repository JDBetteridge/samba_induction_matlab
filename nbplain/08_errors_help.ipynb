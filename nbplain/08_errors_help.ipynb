{
 "cells": [
  {
   "cell_type": "markdown",
   "metadata": {},
   "source": [
    "# Errors and Warnings"
   ]
  },
  {
   "cell_type": "markdown",
   "metadata": {},
   "source": [
    "## Overview:\n",
    "- Teaching: _time_\n",
    "- Exercises: _time_\n",
    "\n",
    "Objectives:\n",
    "- Introduce some common erros messages and warnings that MATLAB produces, and how to interpret them\n",
    "- Provide some techniques for debugging code"
   ]
  },
  {
   "cell_type": "markdown",
   "metadata": {},
   "source": [
    "## There's no such thing as a perfect first time\n",
    "\n",
    "Like all programming languages; so long as you only tell MATLAB to do things it knows how to do, and to do them with things that it knows how to work with, MATLAB will not complain (most of the time).\n",
    "However when writing complex scripts or functions, it is only natural that you will make a mistake from time-to-time.\n",
    "In these cases, MATLAB finds itself in a situation it does not know how to handle, and so decides to stop running your code and attempts to tell you what went wrong.\n",
    "\n",
    "In this lesson we will look at some of the more common errors (and warnings) that MATLAB can produce, and how to combat them.\n",
    "We will also talk about some methods that you can employ to debug your code, although will not delve into MATLAB's full debugging functionality."
   ]
  },
  {
   "cell_type": "markdown",
   "metadata": {},
   "source": [
    "## Reading Errors\n",
    "\n",
    "Being able to read and interpret error messages is central to debugging, but is also something of an art.\n",
    "Let's ~~upset MATLAB~~ produce an error by executing some code that we know will fail:"
   ]
  },
  {
   "cell_type": "code",
   "execution_count": 1,
   "metadata": {},
   "outputs": [
    {
     "name": "stdout",
     "output_type": "stream",
     "text": [
      "error: an_array(0): subscripts must be either integers 1 to (2^63)-1 or logicals\r\n"
     ]
    }
   ],
   "source": [
    "an_array = rand(1,5); %1-by-5 array of random values\n",
    "\n",
    "disp(an_array(0)) %display the value at index 0 of an_array"
   ]
  },
  {
   "cell_type": "markdown",
   "metadata": {},
   "source": [
    "The command line should produce some red text which is similar to the above:\n",
    "<br />`Array indices must be positive integers or logicals` or \n",
    "<br />`Array subscripts must be positive integers or logicals`.\n",
    "\n",
    "Clearly, what we did wrong was told MATLAB to read the value at index 0 in the array `an_array`, but array indices start at 1 and increase, so the value `an_array(0)` doesn't exist because we have entered an invalid index, 0.\n",
    "MATLAB has managed to identify this problem, and has told us about this, albeit in a somewhat technical or cryptic way."
   ]
  },
  {
   "cell_type": "markdown",
   "metadata": {},
   "source": [
    "## Exercise: (Code) Error Analysis\n",
    "\n",
    "Read each block of code below, and attempt to identify the error that is going to occur.\n",
    "Then run the code in the command line (or as a short script file) to see how MATLAB tells you about the error.\n",
    "\n",
    "1) More index problems\n",
    "```octave\n",
    "an_array = rand(1,5);\n",
    "disp(an_array(6))\n",
    "```\n",
    "\n",
    "2) Trying times\n",
    "```octave\n",
    "A = rand(3,3);\n",
    "b = rand(4,1);\n",
    "\n",
    "x = A*b;\n",
    "```\n",
    "\n",
    "3) Take it away\n",
    "```octave\n",
    "v1 = rand(1,5);\n",
    "v2 = rand(1,10);\n",
    "\n",
    "disp(v1-v2)\n",
    "```\n",
    "\n",
    "4) Sort your system out!\n",
    "```octave\n",
    "A = rand(6,6);\n",
    "b = rand(5,1);\n",
    "\n",
    "x = A(2:6,2:6)\\b;\n",
    "```"
   ]
  },
  {
   "cell_type": "markdown",
   "metadata": {},
   "source": [
    "## Solution+: (Code) Error Analysis\n",
    "\n",
    "1. We have defined an array of length 5, but have asked MATLAB to display the value at index 6, which doesn't exist. We will get an error letting us know that index 6 doesn't exist.\n",
    "1. We are trying to multiply matrices that don't have conforming dimensions - `A` is a 3-by-3 matrix and `b` is a length-4 column vector, so we can't perform `A*b`. We will get a \"nonconforming objects\" error.\n",
    "1. Again, we are trying to element-wise subtract two arrays, but they are not the same shape so we can't element-wise subtract because we don't have enough elements in one of the arrays. We will get a \"nonconforming objects\" error.\n",
    "1. Trick question... this one is actually fine, although MATLAB will give you a warning instead of an error, which we will talk about later. Notice that although `A` is 3-by-3 and `b` is 5-by-1, the slicing `b(1:3)` happens _before_ the backslash `\\` operation, so we are solving `Ax = b(1:3)`, which is perfectly fine because `b(1:3)` is 3-by-1! Of course, the warning we get should concern us though."
   ]
  },
  {
   "cell_type": "code",
   "execution_count": 2,
   "metadata": {},
   "outputs": [
    {
     "name": "stdout",
     "output_type": "stream",
     "text": [
      "error: an_array(6): out of bound 5\r\n"
     ]
    }
   ],
   "source": [
    "an_array = rand(1,5);\n",
    "disp(an_array(6))"
   ]
  },
  {
   "cell_type": "code",
   "execution_count": 3,
   "metadata": {},
   "outputs": [
    {
     "name": "stdout",
     "output_type": "stream",
     "text": [
      "error: operator *: nonconformant arguments (op1 is 3x3, op2 is 4x1)\r\n"
     ]
    }
   ],
   "source": [
    "A = rand(3,3);\n",
    "b = rand(4,1);\n",
    "\n",
    "x = A*b;"
   ]
  },
  {
   "cell_type": "code",
   "execution_count": 4,
   "metadata": {},
   "outputs": [
    {
     "name": "stdout",
     "output_type": "stream",
     "text": [
      "error: operator -: nonconformant arguments (op1 is 1x5, op2 is 1x10)\r\n"
     ]
    }
   ],
   "source": [
    "v1 = rand(1,5);\n",
    "v2 = rand(1,10);\n",
    "\n",
    "disp(v1-v2)"
   ]
  },
  {
   "cell_type": "code",
   "execution_count": 5,
   "metadata": {},
   "outputs": [
    {
     "name": "stdout",
     "output_type": "stream",
     "text": [
      "warning: matrix singular to machine precision\r\n"
     ]
    }
   ],
   "source": [
    "A = [1 2 3; 4 5 6; 7 8 9];\n",
    "b = rand(5,1);\n",
    "\n",
    "x = A\\b(1:3);"
   ]
  },
  {
   "cell_type": "markdown",
   "metadata": {},
   "source": [
    ":Solution+"
   ]
  },
  {
   "cell_type": "markdown",
   "metadata": {},
   "source": [
    "## Information: Where's my error?\n",
    "\n",
    "If you are running a script or function, MATLAB's error messages will also tell you the line (in your script or function file) that it was executing when it ran into the error.\n",
    "Use this information to identify the source of the problem quickly."
   ]
  },
  {
   "cell_type": "markdown",
   "metadata": {},
   "source": [
    "## Traceback\n",
    "\n",
    "In the exercise above, the errors came about in the command line.\n",
    "When you start using scripts and functions however, errors can occur within those files too.\n",
    "When this happens MATLAB will also provide you with _traceback_ so you know how you got into the file in which the error occured:"
   ]
  },
  {
   "cell_type": "code",
   "execution_count": 6,
   "metadata": {},
   "outputs": [
    {
     "name": "stdout",
     "output_type": "stream",
     "text": [
      "error: pringle_function: operator +: nonconformant arguments (op1 is 1x100, op2 is 1x200)\r\n",
      "error: called from\r\n",
      "    pringle_function at line 4 column 3\r\n"
     ]
    }
   ],
   "source": [
    "function [z] = pringle_function(x,y,a,b)\n",
    "%%Evaluates the function z = x^2/a^2 + y^2/b^2\n",
    "\n",
    "z = (x.*x)./(a*a) + (y.*y)/(b*b);\n",
    "\n",
    "end %function\n",
    "\n",
    "x = linspace(0,1,100);\n",
    "y = linspace(0,1,200);\n",
    "\n",
    "z = pringle_function(x,y,2,1)"
   ]
  },
  {
   "cell_type": "markdown",
   "metadata": {},
   "source": [
    "As we can see, the error message spans several lines.\n",
    "We still recieve the explaination as to what caused the error (note that `x` and `y` are different lengths), but we are also told that the error came about from code _inside_ the function `pringle_function`, specifically when trying to execute line 4.\n",
    "\n",
    "The downside is that, because the error occured inside a function, we don't have access to the variables that caused the error.\n",
    "This is a problem because we might want to look at these variables to identify the problem, and correct our code accordingly.\n",
    "\n",
    "At this point we should again mention MATLAB's extensive debugging functionality, but sadly we don't have time to dive into it in detail here.\n",
    "However one thing that we will mention are _breakpoints_ - these are markers that can be placed on code lines in the editor window.\n",
    "You can insert a breakpoint by clicking on the space next to the line number in the editor window - a small (usually red) circle will appear there.\n",
    "You can click it again to remove the breakpoint.\n",
    "\n",
    "![Breakpoints in MATLAB](../images/breakpoint_screenshot.png)\n",
    "\n",
    "When MATLAB encounters a breakpoint when running code, it will stop and all the variables that it is currently working with will be available for you to look at in the workspace pannel.\n",
    "You will need to hit the prompt that appears to allow MATLAB to continue running the code after the breakpoint.\n",
    "Breakpoints allow you to overcome the inconvenience of loosing access to the variables that were around to cause it.\n",
    "\n",
    "### Alternatives?\n",
    "\n",
    "If you don't like the sound of breakpoints, or you find yourself encountering an error in a `for` or `while` loop, an alternative strategy is simply to use `disp` and `fprintf` to print out all the variables that you think might be responsible for the error.\n",
    "Of course, once you fix the error this does mean you'll have to go back through your code and remove all the extra print statements!"
   ]
  },
  {
   "cell_type": "markdown",
   "metadata": {},
   "source": [
    "## Warnings\n",
    "\n",
    "As you saw in the previous exercise, MATLAB has another kind of message that it can print to the screen if it's unhappy with what you're telling it to do.\n",
    "These are _warnings_ - unlike errors, warnings will not stop your code from running when they are encountered.\n",
    "Instead a warning will allow the code to continue, but will alert you to the fact that something unexpected has gone on in your code.\n",
    "It is important to investigate warning messages when they come up, as the result of code that has warnings in it might not be what you were expecting!\n",
    "\n",
    "The code in part 4 of the exercise illustrates one such warning:"
   ]
  },
  {
   "cell_type": "code",
   "execution_count": 7,
   "metadata": {},
   "outputs": [
    {
     "name": "stdout",
     "output_type": "stream",
     "text": [
      "warning: matrix singular to machine precision\n",
      "The vector x: \n",
      "  -0.117799\n",
      "   0.010838\n",
      "   0.139474\n"
     ]
    }
   ],
   "source": [
    "A = [1 2 3; 4 5 6; 7 8 9];\n",
    "b = rand(5,1);\n",
    "\n",
    "x = A\\b(1:3);\n",
    "\n",
    "fprintf('The vector x: \\n')\n",
    "disp(x)"
   ]
  },
  {
   "cell_type": "markdown",
   "metadata": {},
   "source": [
    "The matrix `A` has determinant zero, so solving linear systems with it is always risky as solutions are not guaranteed to be unique. \n",
    "MATLAB spits out a warning to tell you this, but still goes ahead and performs the calculation to find a solution `x` and then print it to the screen.\n",
    "\n",
    "Another example is attempting to evalulate the sine cardindal\n",
    "$$ \\mathrm{sinc}(x) = \\frac{\\sin(x)}{x} $$\n",
    "function at $x=0$ (it has value 1 here, thank the analysts for that).\n",
    "We can attempt this manually, or by using MATLAB's built-in `sinc` function:"
   ]
  },
  {
   "cell_type": "code",
   "execution_count": 8,
   "metadata": {},
   "outputs": [
    {
     "name": "stdout",
     "output_type": "stream",
     "text": [
      "Manually computing the value at x=0: \n",
      "warning: division by zero\n",
      "value1 is NaN \n",
      "Using MATLAB's sinc function \n",
      "value2 is 1.00000 \n"
     ]
    }
   ],
   "source": [
    "fprintf('Manually computing the value at x=0: \\n')\n",
    "value1 = sin(0)/0;\n",
    "fprintf('value1 is %.5f \\n', value1)\n",
    "\n",
    "fprintf('Using MATLAB''s sinc function \\n')\n",
    "value2 = sinc(0);\n",
    "fprintf('value2 is %.5f \\n', value2)"
   ]
  },
  {
   "cell_type": "markdown",
   "metadata": {},
   "source": [
    "MATLAB hasn't given an error, and has run the entire block of code.\n",
    "However it has realised that we are attempting to divide by 0, and has warned us of this.\n",
    "Indeed the answer we get is not the value 1, like we would expect from analysis, but rather is a curious value called `NaN` (Not a Number) - essentially this is a special variable type that MATLAB uses to store \"values which aren't defined\" like `0/0`.\n",
    "Using MATLAB's in built function for `sinc` bypasses this problem, as it is constructed to account for this possiblity.\n",
    "\n",
    "Generally, warnings tend to be a bit easier to read and self-explanitory (provided you know what the code is supposed to be doing!).\n",
    "Conversely they are much more diverse in appearence, unlike errors they don't fall neatly into categories like \"index warnings\" or \"dimension mismatches\"; so they do need to be read carefully.\n",
    "If you know which function caused MATLAB to give you a warning, you can use the `help` feature to read more about the warning and how MATLAB deals with it."
   ]
  },
  {
   "cell_type": "markdown",
   "metadata": {},
   "source": [
    "## Key Points:\n",
    "\n",
    "- Errors occur when MATLAB encounters a problem with the code it is trying to execute, and cannot overcome it.\n",
    "- Errors stop the code from running.\n",
    "- Warnings are issued when MATLAB encounters something unexpected, but can interpret.\n",
    "- Warnings do not stop the code from running, but can produce unexpected results."
   ]
  }
 ],
 "metadata": {
  "kernelspec": {
   "display_name": "Octave",
   "language": "octave",
   "name": "octave"
  },
  "language_info": {
   "file_extension": ".m",
   "help_links": [
    {
     "text": "GNU Octave",
     "url": "https://www.gnu.org/software/octave/support.html"
    },
    {
     "text": "Octave Kernel",
     "url": "https://github.com/Calysto/octave_kernel"
    },
    {
     "text": "MetaKernel Magics",
     "url": "https://metakernel.readthedocs.io/en/latest/source/README.html"
    }
   ],
   "mimetype": "text/x-octave",
   "name": "octave",
   "version": "5.1.0"
  }
 },
 "nbformat": 4,
 "nbformat_minor": 2
}
