{
 "cells": [
  {
   "cell_type": "markdown",
   "metadata": {},
   "source": [
    "# Functions and Scripts"
   ]
  },
  {
   "cell_type": "markdown",
   "metadata": {},
   "source": [
    "## Overview:\n",
    "- Teaching: 10 mins\n",
    "- Exercises: 15 mins\n",
    "\n",
    "**Objectives:**\n",
    "- Produce and manage MATLAB files \n",
    "- Understand the utility of scripts and functions\n",
    "- Introduce function handles"
   ]
  },
  {
   "cell_type": "markdown",
   "metadata": {},
   "source": [
    "## Setup:\n",
    "\n",
    "Make sure you clear all the variables from your current workspace using `clear` in the command line."
   ]
  },
  {
   "cell_type": "markdown",
   "metadata": {},
   "source": [
    "## MATLAB Scripts\n",
    "\n",
    "Up until now we have been working in MATLAB's command line, typing out instructions one at a time to maipulate the variables that we have in our workspace.\n",
    "This can mean that if we make a mistake in typing one of the commands, accidently overwrite something in our variables, or want to repeat the commands we have performed on another set of variables, we face the prospect of typing out all the commands again.\n",
    "\n",
    "Instead of using the command line, what we can do instead is write a MATLAB script.\n",
    "A script is a `.m` file that contains the commands that we want to perform; once we have written the script and saved it to the current working directory, we can execute the script by typing it's name into the command line.\n",
    "\n",
    "Consider what happens when we run the script `ExampleScript.m`, which can be [downloaded here](./data/ExampleScript.m), which is a file that looks like:\n",
    "```octave\n",
    "%this script will perform all the tasks in the exercise from lesson 3.\n",
    "\n",
    "load ../data/duck_population %loads the data - make sure that this directory is correct!\n",
    "\n",
    "% 1 - Corrections to the data\n",
    "pop_corrected = duck_population; %as a starting point, let's take the original data.\n",
    "pop_corrected(2,5) = 28; %correct species 5, female population\n",
    "pop_corrected(1,6) = duck_population(1,6) - 17;\n",
    "pop_corrected(3,6) = duck_population(3,6) + 17; %correct species 6's male-duckling miscount\n",
    "pop_corrected(:,1) = [45; 43; 3]; %re-assign the whole of column 1, which is species 1's data\n",
    "pop_corrected(:,2:3) = [duck_population(:,3) duck_population(:,2)]; % swap species 2 and 3's data\n",
    "fprintf('The corrected data looks like: \\n')\n",
    "disp(pop_corrected)\n",
    "\n",
    "% 2 - Save the corrected data\n",
    "save \"pop_corrected.mat\" pop_corrected\n",
    "\n",
    "% 3 - Means and standard deviations\n",
    "avgs = mean(pop_corrected, 2); %row-wise \n",
    "stdevs = std(pop_corrected, 0, 2); %row-wise\n",
    "fprintf('Males | mean = %.2f , stdev = %.2f \\n', avgs(1), stdevs(1))\n",
    "fprintf('Females | mean = %.2f , stdev = %.2f \\n', avgs(2), stdevs(2))\n",
    "fprintf('Ducklings | mean = %.2f , stdev = %.2f \\n', avgs(3), stdevs(3))\n",
    "\n",
    "% 4 - Max and min\n",
    "\n",
    "%find the maximum along the rows of the array; returning the maximal values in the vector max_vals and\n",
    "% the index of the maximal value in the vector max_species. \n",
    "% Note that the index numbering corresponds to the column index, IE the species number. \n",
    "[max_vals max_species] = max(pop_corrected, [], 2); \n",
    "\n",
    "%similarly, do this for the minimal values.\n",
    "[min_vals min_species] = min(pop_corrected, [], 2);\n",
    "\n",
    "%now let's print everything out...\n",
    "fprintf('Males | Max population is %d for species %d \\n', max_vals(1), max_species(1))\n",
    "fprintf('Females | Max population is %d for species %d \\n', max_vals(2), max_species(2))\n",
    "fprintf('Ducklings | Max population is %d for species %d \\n', max_vals(3), max_species(3))\n",
    "\n",
    "fprintf('Males | Min population is %d for species %d \\n', min_vals(1), min_species(1))\n",
    "fprintf('Females | Min population is %d for species %d \\n', min_vals(2), min_species(2))\n",
    "fprintf('Ducklings | Min population is %d for species %d \\n', min_vals(3), min_species(3))\n",
    "```"
   ]
  },
  {
   "cell_type": "code",
   "execution_count": 1,
   "metadata": {},
   "outputs": [
    {
     "name": "stdout",
     "output_type": "stream",
     "text": [
      "The corrected data looks like: \r\n",
      "   45   39   33   46   39   26   17\r\n",
      "   43   35   26   30   28   35   28\r\n",
      "    3   10    4    9   14   19   22\r\n",
      "Males | mean = 35.00 , stdev = 10.50 \r\n",
      "Females | mean = 32.14 , stdev = 5.93 \r\n",
      "Ducklings | mean = 11.57 , stdev = 7.18 \r\n",
      "Males | Max population is 46 for species 4 \r\n",
      "Females | Max population is 43 for species 1 \r\n",
      "Ducklings | Max population is 22 for species 7 \r\n",
      "Males | Min population is 17 for species 7 \r\n",
      "Females | Min population is 26 for species 3 \r\n",
      "Ducklings | Min population is 3 for species 1 \r\n"
     ]
    }
   ],
   "source": [
    "addpath('../data/') \n",
    "%this command tells MATLAB where to look for my script if it's not in the current directory.\n",
    "\n",
    "clear;\n",
    "close all; %clear any variables we have, and any figure windows that are open\n",
    "\n",
    "%we execute the script by typing it's name into the command window.\n",
    "ExampleScript"
   ]
  },
  {
   "cell_type": "markdown",
   "metadata": {},
   "source": [
    "Notice that even though we `clear`-ed our workspace, when we execute the script all the variables that were defined or loaded in the script are saved to the variable workspace.\n",
    "This also works the other way too - any script that we execute can use variables that we already have saved in the workspace (provided we don't `clear` them before we run the script)!\n",
    "\n",
    "There are several advantages of using a script over entering the commands manually into the command window:\n",
    "- It is easy to make adjustments to the proceedure you are writing\n",
    "- A script is (by design) a record of all the commands you are entering, and the order you are doing so, which is useful for debugging code\n",
    "- You can add comments with the `%` sign in your script file to remind you what the code is doing. These comments are not seen by MATLAB when you execute the script, but you can read them to remind yourself what's going on!"
   ]
  },
  {
   "cell_type": "markdown",
   "metadata": {},
   "source": [
    "## Information: Handy script knowledge\n",
    "\n",
    " - You can create a new script using the option in the MATLAB toolbar - this will open a new tab in the editor window, which will consist of a blank file.\n",
    " - You must save a script before you run it - and if you make any changes to a script you must save them before you run it for the changes to be noticed.\n",
    " - When in the editor window, you can press the \"run\" command in the MATLAB toolbar to quickly run the script you are currently editing. This will automatically save the script before running it too. The keyboard shortcut for this (default on Windows) is the `F5` key."
   ]
  },
  {
   "cell_type": "markdown",
   "metadata": {},
   "source": [
    "## MATLAB Functions\n",
    "\n",
    "A function can be thought of as a _subroutine_ or _proceedure_ that we want to perform: functions take in a selection of values as _inputs_ and perform some routine on them to produce _outputs_.\n",
    "They are \"black-box\" proceedures: once a function is called, it will simply turn it's inputs into outputs, and you don't have to manually type out all the commands that it is doing.\n",
    "Functions also don't work in the same variable workspace that scripts do; rather functions have their own \"internal\" workspace that they use for their calculations.\n",
    "\n",
    "You have already used some in built MATLAB functions in these lessons, like `min` and `std`.\n",
    "We can write functions in `.m` files too - the MATLAB toolbar also has a shortcut for creating a new function file.\n",
    "In addition we can use functions that we have saved to files in scripts that we write, as we would with in-built MATLAB functions.\n",
    "\n",
    "__NOTE:__ Functions should always be written in their own files, and saved to the working directory with their filename exactly the same as their function name. \n",
    "MATLAB will prompt you to correct this if you try to go against this convention, and doing so may cause certain MATLAB features to stop working correctly.\n",
    "\n",
    "### Function Syntax\n",
    "\n",
    "The general syntax for a function file looks like this:\n",
    "```octave\n",
    "function [output_1, output_2] = fun_name(input_1, input_2, input_3)\n",
    "%% Brief description of the function goes here\n",
    "% Detailed function description goes here\n",
    "\n",
    "%In this space, we perform some manipulations with the inputs, and assign the values output_1 and output_2\n",
    "\n",
    "end %function - It is good practice to put in a comment what each \"end\" statement is actually ending!\n",
    "```\n",
    "\n",
    "The first line tells MATLAB that we are defining a function using the `function` keyword.\n",
    "From this point on, MATLAB will interpret all the commands we enter as being part of the function definition.\n",
    "The `end` keyword is used to tell MATLAB when to _stop_ reading the commands we enter as being part of the function - the `end` keyword is used in many other places too, so it's good practice to put a comment after it saying _what_ the `end` statement is ending when it appears.\n",
    "\n",
    "After the `function` keyword comes a list of all the output arguments - in this case, we are providing two outputs arguments imaginatively called `output_1` and `output_2`.\n",
    "We will need to define these variables inside the function, and then when the function runs these values will be returned.\n",
    "\n",
    "Next comes an `=` followed by the name of the function we are defining; in this case we are calling our function `fun_name`.\n",
    "This is also the name that we should save the file containing the function as (`fun_name.m`).\n",
    "\n",
    "Last on the top line are the input arguments in round brackets - in this case we are providing three inputs to the function.\n",
    "These are values that the function will be provided with when it is called.\n",
    "\n",
    "Between the first line and the `end` keyword, you would type out the commands that the function would run to take it's input arguments and produce the output arguments.\n",
    "It is good practice to leave a brief and detailed description of the function in comments after the first line of the file, to remind yourself or someone else using your code what the function is actually doing."
   ]
  },
  {
   "cell_type": "markdown",
   "metadata": {},
   "source": [
    "## Example+: More Ducks\n",
    "\n",
    "Consider the following function:"
   ]
  },
  {
   "cell_type": "code",
   "execution_count": 2,
   "metadata": {},
   "outputs": [],
   "source": [
    "function [avg_class, std_class] = duck_information_extraction(duck_info, class)\n",
    "%%Calculates the mean and standard deviation across all the species of ducks in duck_info, for the given class (male, female, duckling).\n",
    "%INPUTS:\n",
    "% duck_info : 3-by-N array. The rows are the population count for each class of duck. The columns are the breakdown for each species - there is no restriction on the number of columns, IE on the size of N\n",
    "% class : Integer, between 1 and 3. Specifies which row (hence which class) of the array duck_info to calculate the mean and standard deviation of\n",
    "%OUTPUTS:\n",
    "% avg_class : Average population count across all species for the specified class\n",
    "% std_class : Standard deviation of the population across all species for the specified class\n",
    "\n",
    "%first, let's extract the class of duck that we are interested in\n",
    "class_to_consider = duck_info(class, :);\n",
    "\n",
    "%now, let's use MATLAB's mean and std functions to compute the outputs\n",
    "avg_class = mean(class_to_consider);\n",
    "std_class = std(class_to_consider);\n",
    "\n",
    "end %function"
   ]
  },
  {
   "cell_type": "markdown",
   "metadata": {},
   "source": [
    "The function `duck_information_extraction` takes as inputs an array that is setup like `duck_population`, and an integer (or index) that represents whether we are interested in the male, female or duckling population.\n",
    "The function then performs some internal calculations before returning the average and standard deviation of the populations of that class of ducks.\n",
    "\n",
    "We can call this function like so:"
   ]
  },
  {
   "cell_type": "code",
   "execution_count": 3,
   "metadata": {},
   "outputs": [
    {
     "name": "stdout",
     "output_type": "stream",
     "text": [
      "Female ducks have an average population of 28.57 and standard deviation of 10.03\r\n"
     ]
    }
   ],
   "source": [
    "load ../data/duck_population\n",
    "\n",
    "%row 2 is the female duck population\n",
    "[av_f, sd_f] = duck_information_extraction(duck_population, 2);\n",
    "\n",
    "fprintf('Female ducks have an average population of %.2f and standard deviation of %.2f\\n', av_f, sd_f)"
   ]
  },
  {
   "cell_type": "markdown",
   "metadata": {},
   "source": [
    "The advantage of using a function for this task is that the proceedure we are performing is the same regardless of the values that are actually in `duck_population`.\n",
    "Indeed, the function will perform the same proceedure if we give it some alternative population information."
   ]
  },
  {
   "cell_type": "code",
   "execution_count": 4,
   "metadata": {},
   "outputs": [
    {
     "name": "stdout",
     "output_type": "stream",
     "text": [
      "Female ducks have an average population of 25.08 and standard deviation of 11.85 according to the alternative dataset\r\n"
     ]
    }
   ],
   "source": [
    "duck_population_alt = round(40*rand(3,12)); %generate some alternative duck population data\n",
    "\n",
    "%row 2 is the female duck population\n",
    "[av_f2, sd_f2] = duck_information_extraction(duck_population_alt, 2);\n",
    "\n",
    "fprintf('Female ducks have an average population of %.2f and standard deviation of %.2f according to the alternative dataset\\n', av_f2, sd_f2)"
   ]
  },
  {
   "cell_type": "markdown",
   "metadata": {},
   "source": [
    ":+Example"
   ]
  },
  {
   "cell_type": "markdown",
   "metadata": {},
   "source": [
    "## Function Handles\n",
    "\n",
    "One of the most common uses of functions is to define, well, functions (in the mathematical sense)!\n",
    "Consider the function\n",
    "$$ f(x,y,a,b) = \\frac{x^2}{a^2} + \\frac{y^2}{b^2} $$\n",
    "which you may recognise as the shape of a ~~pringle~~ hyperbolic paraboloid.\n",
    "We can write a MATLAB function to evalute $f$ for a given $x,y,a,b$:"
   ]
  },
  {
   "cell_type": "code",
   "execution_count": 5,
   "metadata": {},
   "outputs": [],
   "source": [
    "function [z] = f(x,y,a,b)\n",
    "%%Evaluates the function z = x^2/a^2 + y^2/b^2\n",
    "%INPUTS:\n",
    "% x : Vector of length N, for N>=1. This vector should contain all the x-values we want to evaluate f at\n",
    "% y : Vector of length N, for N>=1. Same size as input x, with analogous interpretation\n",
    "% a,b : Scalar values for the curvature parameters.\n",
    "%OUTPUTS:\n",
    "% z : Vector of length N, for N>=1. Value of the function f at each of the co-ordinate pairs x,y.\n",
    "\n",
    "%NOTE: MATLAB likes vectorised code, so we are writing this function as if we want to evaluate f at lots of pairs of points (x,y), rather than at just one point.\n",
    "\n",
    "z = (x.*x)./(a*a) + (y.*y)/(b*b);\n",
    "\n",
    "end %function"
   ]
  },
  {
   "cell_type": "markdown",
   "metadata": {},
   "source": [
    "With our function, we can happily evaluate $f$;"
   ]
  },
  {
   "cell_type": "code",
   "execution_count": 6,
   "metadata": {},
   "outputs": [
    {
     "name": "stdout",
     "output_type": "stream",
     "text": [
      "     0     2     8    18    32    50    72    98   128   162   200\n",
      " Columns 1 through 7:\n",
      "\n",
      "    0.00000    0.36111    1.44444    3.25000    5.77778    9.02778   13.00000\n",
      "\n",
      " Columns 8 through 11:\n",
      "\n",
      "   17.69444   23.11111   29.25000   36.11111\n"
     ]
    }
   ],
   "source": [
    "disp(f([0:10],[0:10],1,1))\n",
    "disp(f([0:10],[0:10],2,3))"
   ]
  },
  {
   "cell_type": "markdown",
   "metadata": {},
   "source": [
    "but notice that each time we have to provide the values of $a$ and $b$.\n",
    "Whilst it is good to retain some generality in your functions, providing the value of $a$ and $b$ each time may prove tedious.\n",
    "Indeed, we might be concerned with comparing the shape of two specific ~~pringles~~ paraboloids, each with their own values of $a$ and $b$.\n",
    "In which case it would be convenient to have a function for each of them, but creating two function files that do essentially the same task is wasteful and will clutter your directory.\n",
    "\n",
    "MATLAB has an answer to your concerns in the form of function handles - you can think of these as types of variables that store _functions_ as their values.\n",
    "We can create a function handle using the `@` symbol:"
   ]
  },
  {
   "cell_type": "code",
   "execution_count": 7,
   "metadata": {},
   "outputs": [],
   "source": [
    "exampleHandle = @(x) x.*x;"
   ]
  },
  {
   "cell_type": "markdown",
   "metadata": {},
   "source": [
    "You should notice that a new variable `exampleHandle` appears in your workspace if you execute this command in the command line.\n",
    "`exampleHandle` stores the function that takes in one input argument, `x`, and returns the value `x.*x` or `x^2`.\n",
    "We can call the function stored in `exampleHandle` by using the name of the function handle variable, followed by the usual input arguments:"
   ]
  },
  {
   "cell_type": "code",
   "execution_count": 8,
   "metadata": {},
   "outputs": [
    {
     "name": "stdout",
     "output_type": "stream",
     "text": [
      " 4\n",
      "     1     4     9    16    25    36    49    64    81   100\n"
     ]
    }
   ],
   "source": [
    "disp(exampleHandle(2))\n",
    "disp(exampleHandle([1:10]))"
   ]
  },
  {
   "cell_type": "markdown",
   "metadata": {},
   "source": [
    "Why is this going to help me with my ~~pringle~~ paraboloid dilemma?\n",
    "Consider what happens if I create a function handle like this:"
   ]
  },
  {
   "cell_type": "code",
   "execution_count": 9,
   "metadata": {},
   "outputs": [
    {
     "name": "stdout",
     "output_type": "stream",
     "text": [
      "     0     2     8    18    32    50    72    98   128   162   200\r\n"
     ]
    }
   ],
   "source": [
    "pringle_1 = @(x,y) f(x,y,1,1);\n",
    "\n",
    "disp(pringle_1([0:10],[0:10]))"
   ]
  },
  {
   "cell_type": "markdown",
   "metadata": {},
   "source": [
    "The function stored in `pringle_1` takes two arguments, `x` and `y`.\n",
    "Then the function returns the output of the function `f` with $a=1$ and $b=1$.\n",
    "As such, `pringle_1` is a function handle that stores the function $f(x,y,1,1)$ with _two_ inputs - exactly what we wanted.\n",
    "\n",
    "We could define another function handle for a different pringle, and then work with these function handles in our script:"
   ]
  },
  {
   "cell_type": "code",
   "execution_count": 10,
   "metadata": {},
   "outputs": [
    {
     "name": "stdout",
     "output_type": "stream",
     "text": [
      " Columns 1 through 7:\n",
      "\n",
      "    0.00000    0.36111    1.44444    3.25000    5.77778    9.02778   13.00000\n",
      "\n",
      " Columns 8 through 11:\n",
      "\n",
      "   17.69444   23.11111   29.25000   36.11111\n",
      "Norm of pointwise distance of the pringles along the line y=x:\n",
      " 1162.4\n"
     ]
    }
   ],
   "source": [
    "pringle_2 = @(x,y) f(x,y,2,3);\n",
    "\n",
    "disp(pringle_2([0:10],[0:10]))\n",
    "\n",
    "x = linspace(0,10,250);\n",
    "y = linspace(0,10,250);\n",
    "\n",
    "pointwise_distance = pringle_2(x,y) - pringle_1(x,y);\n",
    "distance_norm = norm(pointwise_distance);\n",
    "\n",
    "fprintf('Norm of pointwise distance of the pringles along the line y=x:\\n')\n",
    "disp(distance_norm)"
   ]
  },
  {
   "cell_type": "markdown",
   "metadata": {},
   "source": [
    "We can even create function handles using the values stored in variables, then change the value of those variables without affecting the stored function."
   ]
  },
  {
   "cell_type": "code",
   "execution_count": 11,
   "metadata": {},
   "outputs": [
    {
     "name": "stdout",
     "output_type": "stream",
     "text": [
      " Columns 1 through 7:\n",
      "\n",
      "    0.00000    0.22222    0.88889    2.00000    3.55556    5.55556    8.00000\n",
      "\n",
      " Columns 8 through 11:\n",
      "\n",
      "   10.88889   14.22222   18.00000   22.22222\n",
      " Columns 1 through 7:\n",
      "\n",
      "    0.00000    0.22222    0.88889    2.00000    3.55556    5.55556    8.00000\n",
      "\n",
      " Columns 8 through 11:\n",
      "\n",
      "   10.88889   14.22222   18.00000   22.22222\n"
     ]
    }
   ],
   "source": [
    "aVal = 3;\n",
    "bVal = 3;\n",
    "pringle_3 = @(x,y) f(x,y,aVal,bVal);\n",
    "\n",
    "disp(pringle_3([0:10],[0:10]))\n",
    "\n",
    "aVal = 4;\n",
    "bVal = 4;\n",
    "\n",
    "disp(pringle_3([0:10],[0:10]))"
   ]
  },
  {
   "cell_type": "markdown",
   "metadata": {},
   "source": [
    "Function handles are often used as inputs to MATLAB's in-built equation solver functions - yes that's right, you can have a function handle as an input to a function!\n",
    "\n",
    "The exercise below is going to try to get you to combine everything you've seen in this lesson by writing a script and a function to help you solve an ODE."
   ]
  },
  {
   "cell_type": "markdown",
   "metadata": {},
   "source": [
    "## Exercise: Logistic Growth\n",
    "\n",
    "The continuous-time model for the growth of a population is modelled by the differential equation\n",
    "$$ \\frac{\\mathrm{d}N}{\\mathrm{d}t} = rN\\left(1-\\frac{N}{K}\\right) $$\n",
    "where $N$ is the current population, $r$ the growth rate, and $K$ the maximum population capacity of the environment.\n",
    "\n",
    "You happen to be a student who is interested in modelling the population of the local waterfowl (IE mallard ducks) that live on Bath University campus, according to this model.\n",
    "To do so, you will need to write a script and a function, and solve the logistic growth equation using MATLAB's `ode45` solver - don't worry, we will explain how to use `ode45`:\n",
    "\n",
    "### Using `ode45`\n",
    "`ode45` is a function that acts as a numerical differential equation solver, in built in MATLAB, designed to solve systems of the form\n",
    "$$ \\frac{\\mathrm{d}y}{\\mathrm{d}t} = F(t,y), \\quad y(t_0) = y_0 $$\n",
    "for some right-hand-side function `F`.\n",
    "It can be called using `[tVals, yVals] = ode45(fun, tRange, init)` where the inputs are:\n",
    " - `fun` is a function handle for the function $F(t,y)$\n",
    " - `tRange` is an array of two values, the start and final times. So `tRange = [start end]` is how this should look, with `start`$=t_0$.\n",
    " - `init` is the initial value $y_0$.\n",
    "\n",
    "The outputs are `tVals` and `yVals`.\n",
    "These are the time-points and function values of the solution to the equation, stored as vectors. \n",
    "So for an index `i`, `yVals(i)` is the value of $y$ at the time stored in `tVals(i)`.\n",
    "\n",
    "### The task\n",
    "\n",
    "The task can be broken down as follows:\n",
    " 1. Write a function `log_growth(N,r,K)` that takes as inputs a (vector of) population $N$, and scalar growth rate $r$ and population capacity $K$. This function should return (a vector of) the value of the right hand side of the logistic growth equation.\n",
    " 1. Write a script to solve the logistic growth equation using `ode45`, from the initial time $t_0=0$. You have diligently performed some field experiments and have determined that the duck population of Bath University is currently $20$, the growth rate is $0.15$, and carrying capacity of the campus is $50$ ducks. Run your model to a final time of $t=30$. Save the outputs of `ode45` to a pair of variables called `tVals` and `NVals`.\n",
    " 1. After the call to `ode45` in your script, plot the solution by adding the following commands to your script:\n",
    " ```octave\n",
    "     figure;\n",
    "     plot(tVals, NVals, '.b');\n",
    "     xlabel('Time, $t$','interpreter','latex');\n",
    "     ylabel('Duck population, $N$','interpreter','latex')\n",
    "     title('Logistic growth solution','interpreter','latex')\n",
    " ```\n",
    " We will discuss plotting in the next lesson.\n",
    " \n",
    " [Solution]()"
   ]
  },
  {
   "cell_type": "markdown",
   "metadata": {},
   "source": [
    "## Information: The function handle for `ode45`\n",
    "Notice how `ode45` is expecting a function handle that takes in _two_ arguments, namely $t$ and $N$ (which is our $y$ in this case). \n",
    "But `log_growth` only depends on $N$ and not $t$; so your function handle will need to take two input arguments `(t,N)` and simply do nothing with the `t`!"
   ]
  },
  {
   "cell_type": "markdown",
   "metadata": {},
   "source": [
    "## Solution+: Logistic Growth\n",
    "\n",
    "You should have created a function file that looks something like this:"
   ]
  },
  {
   "cell_type": "code",
   "execution_count": 12,
   "metadata": {},
   "outputs": [],
   "source": [
    "function [rhs_value] = log_growth(N,r,K)\n",
    "%%Evaluates the RHS of the logistic growth equation for given values of N,r, and K.\n",
    "%INPUTS:\n",
    "% N : Vector of population values\n",
    "% r : Scalar, growth rate\n",
    "% K : Scalar, population capacity\n",
    "%OUTPUTS:\n",
    "% rhs_value : Vector of the same shape as N. Value of the RHS given the inputs.\n",
    "\n",
    "rhs_value = r*N .* (1 - N./K);\n",
    "\n",
    "end %function"
   ]
  },
  {
   "cell_type": "markdown",
   "metadata": {},
   "source": [
    "And then your script should look something like this, giving an output like the one shown below."
   ]
  },
  {
   "cell_type": "code",
   "execution_count": 13,
   "metadata": {},
   "outputs": [
    {
     "data": {
      "image/png": "[encoded data removed]",
      "text/plain": [
       "<IPython.core.display.Image object>"
      ]
     },
     "metadata": {},
     "output_type": "display_data"
    }
   ],
   "source": [
    "\n",
    "%the initial conditions and parameters of the equation\n",
    "tRange = [0, 30];\n",
    "init = 20;\n",
    "r = 0.15;\n",
    "K = 50;\n",
    "\n",
    "%the function handle that we need - notice the dummy variable t\n",
    "fun = @(t,N) log_growth(N,r,K);\n",
    "\n",
    "[tVals, NVals] = ode45(fun, tRange, init);\n",
    "\n",
    "figure;\n",
    "plot(tVals, NVals, '-b');\n",
    "xlabel('Time, $t$','interpreter','latex');\n",
    "ylabel('Duck population, $N$','interpreter','latex')\n",
    "title('Logistic growth solution','interpreter','latex')"
   ]
  },
  {
   "cell_type": "markdown",
   "metadata": {},
   "source": [
    "Of course, now that you have a method of modelling the population, and a script which lets you change the values of the parameters, you can investigate what would happen if the growth rate was greater or smaller, if the lake was expanded to make room for more ducks, or if the population started out smaller or larger than the maximum capacity."
   ]
  },
  {
   "cell_type": "markdown",
   "metadata": {},
   "source": [
    ":+Solution"
   ]
  },
  {
   "cell_type": "markdown",
   "metadata": {},
   "source": [
    "## Key Points:\n",
    "- A script is a file which contains a sequence of commands we want to execute in the command line.\n",
    "- A function is a file that contains a black-box proceedure that we want to perform on different variables, or multiple times, but don't want to write out the full proceedure each time in our script.\n",
    "- A function handle is a variable that effectively stores a function - we can create them using the `@` symbol."
   ]
  }
 ],
 "metadata": {
  "kernelspec": {
   "display_name": "Octave",
   "language": "octave",
   "name": "octave"
  },
  "language_info": {
   "file_extension": ".m",
   "help_links": [
    {
     "text": "GNU Octave",
     "url": "https://www.gnu.org/software/octave/support.html"
    },
    {
     "text": "Octave Kernel",
     "url": "https://github.com/Calysto/octave_kernel"
    },
    {
     "text": "MetaKernel Magics",
     "url": "https://metakernel.readthedocs.io/en/latest/source/README.html"
    }
   ],
   "mimetype": "text/x-octave",
   "name": "octave",
   "version": "4.2.2"
  }
 },
 "nbformat": 4,
 "nbformat_minor": 2
}
