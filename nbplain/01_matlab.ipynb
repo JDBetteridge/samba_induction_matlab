{
 "cells": [
  {
   "cell_type": "markdown",
   "metadata": {},
   "source": [
    "# Solving Poisson's Equation via Finite Difference"
   ]
  },
  {
   "cell_type": "code",
   "execution_count": 1,
   "metadata": {},
   "outputs": [
    {
     "data": {
      "text/markdown": [
       "## Overview:\n",
       "In this worksheet you'll use MATLAB's matrix capabilities to solve the most common second-order elliptic PDE - Poisson's equation.\n",
       "\n",
       "**Objectives:**\n",
       "- Test your existing knowledge of MATLAB\n",
       "- Introduce some techniques and commands that will be exploited in Numerical Methods courses\n"
      ],
      "text/plain": [
       "<IPython.core.display.Markdown object>"
      ]
     },
     "metadata": {},
     "output_type": "display_data"
    }
   ],
   "source": [
    "%%markdown\n",
    "## Overview:\n",
    "In this worksheet you'll use MATLAB's matrix capabilities to solve the most common second-order elliptic PDE - Poisson's equation.\n",
    "\n",
    "**Objectives:**\n",
    "- Test your existing knowledge of MATLAB\n",
    "- Introduce some techniques and commands that will be exploited in Numerical Methods courses\n"
   ]
  },
  {
   "cell_type": "code",
   "execution_count": 2,
   "metadata": {},
   "outputs": [
    {
     "data": {
      "text/markdown": [
       "## Constructing the Finite Difference Matrix\n",
       "\n",
       "Let $\\Omega = [0,1]\\times[0,1]$ be the unit square domain, with boundary $\\partial\\Omega$. \n",
       "We will be using a Finite Difference method to obtain a numerial solution to Poisson's equation on $\\Omega$, subject to homogeneous Dirichlet boundary conditions:\n",
       "\n",
       "$$\n",
       "\\begin{align} \n",
       "    \\nabla^{2}u(\\mathbf{x}) &= f(\\mathbf{x}) &\\quad \\mathbf{x}\\in\\Omega \\\\\n",
       "    u\\vert_{\\partial\\Omega} &= 0.\n",
       "\\end{align}\n",
       "$$\n",
       "\n",
       "The function $u$ is the solution that we seek and $f$ is a known source term.\n",
       "\n",
       "\n",
       "To begin the Finite Difference implimentation, we first need to choose a *mesh* for $\\Omega$, on which we will approximate the solution $u$.\n",
       "\n",
       "\n",
       "Taking $N\\in\\mathbb{N}$ we uniformly discretise in the $x$- and $y$- directions with $N$ interior points, so we obtain $N+2$ points in each direction:\n",
       "\n",
       "$$\n",
       "\\begin{align}\n",
       "x_{i} = \\frac{i}{N+1}, &\\quad y_{j} = \\frac{j}{N+1} &\\quad i,j\\in\\{0,...,N+1\\}\n",
       "\\end{align}\n",
       "$$\n",
       "\n",
       "and the set of all pairings $(x_{i}, y_{j})$ details the points on the mesh.\n",
       "\n",
       "\n",
       "It's also useful to introduce the mesh *diameter* or *parameter*, $h = \\frac{1}{N+1}$; as well as some convenient notation:\n",
       "\n",
       "$$\n",
       "\\begin{align}\n",
       "u_{i,j} := u\\left(x_{i},y_{j}\\right) \\text{ and } f_{i,j} := f\\left(x_{i},y_{j}\\right)\n",
       "\\end{align}\n",
       "$$\n",
       "\n",
       "\n",
       "Next we write down the difference equations to approximate the Laplacian in each direction:\n",
       "\n",
       "$$\n",
       "\\begin{align}\n",
       "    \\frac{\\partial^{2} u_{i,j}}{\\partial x^{2}} &\\approx \\frac{u_{i-1,j} -2u_{i,j} + u_{i-1,j} }{h^{2}} \\\\\n",
       "    \\frac{\\partial^{2} u_{i,j}}{\\partial y^{2}} &\\approx \\frac{u_{i,j-1} -2u_{i,j} + u_{i,j-1} }{h^{2}}\n",
       "\\end{align}\n",
       "$$\n",
       "\n",
       "and so our approximate system of equations, which approximate Poisson's equation on our mesh, is\n",
       "\n",
       "$$\n",
       "\\begin{align}\\label{eq:fd}\n",
       "    \\frac{1}{h^{2}}\\left(-u_{i-1,j} -u_{i,j-1} +4u_{i,j} -u_{i+1,j+1} -u_{i,j+1} \\right) &= f\\left(x_{i}, y_{j}\\right), &\\quad \\forall i,j\\in\\{1,...,N\\}.\n",
       "\\end{align}\n",
       "$$\n",
       "\n",
       "We only need to determine $u_{i,j}$ at interior mesh points; because of the homogeneous Dirichlet conditions we know that $u_{0,j} = u_{N+1,j} = u_{i,0} = u_{i,N+1} = 0$. Therefore the previous system of equations is a system of $N^{2}$ equations in $N^{2}$ unknowns, and we can represent the system in matrix form as\n",
       "\n",
       "$$\n",
       "\\begin{align}\n",
       "    M\\mathbf{U} = -\\mathbf{F}.\n",
       "\\end{align}\n",
       "$$\n",
       "\n",
       "Here $\\mathbf{U}$ is a vector of the $u_{i,j}$,  $\\mathbf{F}$ is a vector of the $f_{i,j}$, and $M$ is the finite difference matrix\n",
       "\n",
       "$$\n",
       "    M = \\frac{1}{h^{2}}\\left[\\left(\\mathrm{tridiag}_{N}(-1,2,-1) \\otimes I_{N}\\right) +  \\left(I_{N} \\otimes\\mathrm{tridiag}_{N}(-1,2,-1)\\right)\\right]\n",
       "$$\n",
       "\n",
       "where $\\otimes$ denotes the Kronecker product and $\\mathrm{tridiag}_{N}(-1,2,-1)$ denotes the $N\\times N$ matrix with $2$ on the leading diagonal and $-1$ on the first super- and sub- diagonals.\n",
       "\n",
       "The elements of $\\mathbf{U}$ and $\\mathbf{F}$ are ordered in $x$ then $y$ - this ordering is automatically compatable with MATLAB's reshape command). That is, $\\mathbf{U} = \\left(u_{1,1}, u_{2,1}, ..., u_{N,1}, u_{1,2}, u_{2,2}, ... , u_{N-1,N}, u_{N,N} \\right)^{\\top}$, and the elements of $\\mathbf{F}$ are similar.\n",
       "\n",
       "Finding an approximation to the true solution $u$ then amounts to solving the linear system $M\\mathbf{U} = -\\mathbf{F}$ for $\\mathbf{U}$, which can be done with MATLAB's `\\` operator.\n"
      ],
      "text/plain": [
       "<IPython.core.display.Markdown object>"
      ]
     },
     "metadata": {},
     "output_type": "display_data"
    }
   ],
   "source": [
    "%%markdown\n",
    "## Constructing the Finite Difference Matrix\n",
    "\n",
    "Let $\\Omega = [0,1]\\times[0,1]$ be the unit square domain, with boundary $\\partial\\Omega$. \n",
    "We will be using a Finite Difference method to obtain a numerial solution to Poisson's equation on $\\Omega$, subject to homogeneous Dirichlet boundary conditions:\n",
    "\n",
    "$$\n",
    "\\begin{align} \n",
    "    \\nabla^{2}u(\\mathbf{x}) &= f(\\mathbf{x}) &\\quad \\mathbf{x}\\in\\Omega \\\\\n",
    "    u\\vert_{\\partial\\Omega} &= 0.\n",
    "\\end{align}\n",
    "$$\n",
    "\n",
    "The function $u$ is the solution that we seek and $f$ is a known source term.\n",
    "\n",
    "\n",
    "To begin the Finite Difference implimentation, we first need to choose a *mesh* for $\\Omega$, on which we will approximate the solution $u$.\n",
    "\n",
    "\n",
    "Taking $N\\in\\mathbb{N}$ we uniformly discretise in the $x$- and $y$- directions with $N$ interior points, so we obtain $N+2$ points in each direction:\n",
    "\n",
    "$$\n",
    "\\begin{align}\n",
    "x_{i} = \\frac{i}{N+1}, &\\quad y_{j} = \\frac{j}{N+1} &\\quad i,j\\in\\{0,...,N+1\\}\n",
    "\\end{align}\n",
    "$$\n",
    "\n",
    "and the set of all pairings $(x_{i}, y_{j})$ details the points on the mesh.\n",
    "\n",
    "\n",
    "It's also useful to introduce the mesh *diameter* or *parameter*, $h = \\frac{1}{N+1}$; as well as some convenient notation:\n",
    "\n",
    "$$\n",
    "\\begin{align}\n",
    "u_{i,j} := u\\left(x_{i},y_{j}\\right) \\text{ and } f_{i,j} := f\\left(x_{i},y_{j}\\right)\n",
    "\\end{align}\n",
    "$$\n",
    "\n",
    "\n",
    "Next we write down the difference equations to approximate the Laplacian in each direction:\n",
    "\n",
    "$$\n",
    "\\begin{align}\n",
    "    \\frac{\\partial^{2} u_{i,j}}{\\partial x^{2}} &\\approx \\frac{u_{i-1,j} -2u_{i,j} + u_{i-1,j} }{h^{2}} \\\\\n",
    "    \\frac{\\partial^{2} u_{i,j}}{\\partial y^{2}} &\\approx \\frac{u_{i,j-1} -2u_{i,j} + u_{i,j-1} }{h^{2}}\n",
    "\\end{align}\n",
    "$$\n",
    "\n",
    "and so our approximate system of equations, which approximate Poisson's equation on our mesh, is\n",
    "\n",
    "$$\n",
    "\\begin{align}\\label{eq:fd}\n",
    "    \\frac{1}{h^{2}}\\left(-u_{i-1,j} -u_{i,j-1} +4u_{i,j} -u_{i+1,j+1} -u_{i,j+1} \\right) &= f\\left(x_{i}, y_{j}\\right), &\\quad \\forall i,j\\in\\{1,...,N\\}.\n",
    "\\end{align}\n",
    "$$\n",
    "\n",
    "We only need to determine $u_{i,j}$ at interior mesh points; because of the homogeneous Dirichlet conditions we know that $u_{0,j} = u_{N+1,j} = u_{i,0} = u_{i,N+1} = 0$. Therefore the previous system of equations is a system of $N^{2}$ equations in $N^{2}$ unknowns, and we can represent the system in matrix form as\n",
    "\n",
    "$$\n",
    "\\begin{align}\n",
    "    M\\mathbf{U} = -\\mathbf{F}.\n",
    "\\end{align}\n",
    "$$\n",
    "\n",
    "Here $\\mathbf{U}$ is a vector of the $u_{i,j}$,  $\\mathbf{F}$ is a vector of the $f_{i,j}$, and $M$ is the finite difference matrix\n",
    "\n",
    "$$\n",
    "    M = \\frac{1}{h^{2}}\\left[\\left(\\mathrm{tridiag}_{N}(-1,2,-1) \\otimes I_{N}\\right) +  \\left(I_{N} \\otimes\\mathrm{tridiag}_{N}(-1,2,-1)\\right)\\right]\n",
    "$$\n",
    "\n",
    "where $\\otimes$ denotes the Kronecker product and $\\mathrm{tridiag}_{N}(-1,2,-1)$ denotes the $N\\times N$ matrix with $2$ on the leading diagonal and $-1$ on the first super- and sub- diagonals.\n",
    "\n",
    "The elements of $\\mathbf{U}$ and $\\mathbf{F}$ are ordered in $x$ then $y$ - this ordering is automatically compatable with MATLAB's reshape command). That is, $\\mathbf{U} = \\left(u_{1,1}, u_{2,1}, ..., u_{N,1}, u_{1,2}, u_{2,2}, ... , u_{N-1,N}, u_{N,N} \\right)^{\\top}$, and the elements of $\\mathbf{F}$ are similar.\n",
    "\n",
    "Finding an approximation to the true solution $u$ then amounts to solving the linear system $M\\mathbf{U} = -\\mathbf{F}$ for $\\mathbf{U}$, which can be done with MATLAB's `\\` operator."
   ]
  },
  {
   "cell_type": "code",
   "execution_count": 3,
   "metadata": {},
   "outputs": [
    {
     "data": {
      "text/markdown": [
       "## Setup:\n",
       "Before you begin working on this worksheet, ensure that MATLAB is working in an empty directory.\n",
       "Make sure you save any functions or scripts you write for this worksheet in this directory, using the names provided in the tasks.\n"
      ],
      "text/plain": [
       "<IPython.core.display.Markdown object>"
      ]
     },
     "metadata": {},
     "output_type": "display_data"
    }
   ],
   "source": [
    "%%markdown\n",
    "## Setup:\n",
    "Before you begin working on this worksheet, ensure that MATLAB is working in an empty directory.\n",
    "Make sure you save any functions or scripts you write for this worksheet in this directory, using the names provided in the tasks."
   ]
  },
  {
   "cell_type": "code",
   "execution_count": 4,
   "metadata": {},
   "outputs": [
    {
     "data": {
      "text/markdown": [
       "## Information: Variable Names\n",
       "In the taks that follow, variables with names formated `like this` refer to MATLAB variables and/or functions, whereas typeset variables $like \\mathrm{\\:} this$ refer to the mathematical variables above.\n"
      ],
      "text/plain": [
       "<IPython.core.display.Markdown object>"
      ]
     },
     "metadata": {},
     "output_type": "display_data"
    }
   ],
   "source": [
    "%%markdown\n",
    "## Information: Variable Names\n",
    "In the taks that follow, variables with names formated `like this` refer to MATLAB variables and/or functions, whereas typeset variables $like \\mathrm{\\:} this$ refer to the mathematical variables above."
   ]
  },
  {
   "cell_type": "code",
   "execution_count": 5,
   "metadata": {},
   "outputs": [
    {
     "data": {
      "text/markdown": [
       "## Exercise: 1 - Setting up Finite Differences\n",
       "Write a function `FDM(N)` which takes one input $N$, and returns the finite-difference matrix $M$ defined above. \n",
       "Your function should construct the matrix $M$ efficiently - IE should construct the matrix $\\mathrm{tridiag_{N}}(-1,2,-1)$ first, using the `diag` function, and then use the `kron` function to build $M$.\n",
       "\n",
       "Next, create a script (imaginatively) called `WorksheetScript_Task1_3`. Have this script:\n",
       "- Request the user for the value of $N$ via the input command; store the input value into a variable (again, imaginatively) called `N`.\n",
       "- Create the finite difference matrix for this value of `N` using your `FDM` function. Store the matrix in the variable `M`.\n",
       "- Create a $1\\times$ `N` vector, called `x`, that stores the $x$-co-ordinates of the _interior_ mesh points. Do the same for the $y$-co-ordinates, placing them into a vector `y`.\n",
       "- Create a meshgrid `X,Y` from `x` and `y` for the interior points using the `meshgrid` command.\n",
       "\n",
       "[Solution]()\n"
      ],
      "text/plain": [
       "<IPython.core.display.Markdown object>"
      ]
     },
     "metadata": {},
     "output_type": "display_data"
    }
   ],
   "source": [
    "%%markdown\n",
    "## Exercise: 1 - Setting up Finite Differences\n",
    "Write a function `FDM(N)` which takes one input $N$, and returns the finite-difference matrix $M$ defined above. \n",
    "Your function should construct the matrix $M$ efficiently - IE should construct the matrix $\\mathrm{tridiag_{N}}(-1,2,-1)$ first, using the `diag` function, and then use the `kron` function to build $M$.\n",
    "\n",
    "Next, create a script (imaginatively) called `WorksheetScript_Task1_3`. Have this script:\n",
    "- Request the user for the value of $N$ via the input command; store the input value into a variable (again, imaginatively) called `N`.\n",
    "- Create the finite difference matrix for this value of `N` using your `FDM` function. Store the matrix in the variable `M`.\n",
    "- Create a $1\\times$ `N` vector, called `x`, that stores the $x$-co-ordinates of the _interior_ mesh points. Do the same for the $y$-co-ordinates, placing them into a vector `y`.\n",
    "- Create a meshgrid `X,Y` from `x` and `y` for the interior points using the `meshgrid` command.\n",
    "\n",
    "[Solution]()"
   ]
  },
  {
   "cell_type": "code",
   "execution_count": 6,
   "metadata": {},
   "outputs": [
    {
     "data": {
      "text/markdown": [
       "## Information: Tips for Exercise 1\n",
       "When creating the variables `x` and `y`; you may find it easier to use the command `linspace` on the interval $[0,1]$, then cut off the endpoints.\n"
      ],
      "text/plain": [
       "<IPython.core.display.Markdown object>"
      ]
     },
     "metadata": {},
     "output_type": "display_data"
    }
   ],
   "source": [
    "%%markdown\n",
    "## Information: Tips for Exercise 1\n",
    "When creating the variables `x` and `y`; you may find it easier to use the command `linspace` on the interval $[0,1]$, then cut off the endpoints."
   ]
  },
  {
   "cell_type": "markdown",
   "metadata": {},
   "source": [
    "## Solution: 1 - Setting up Finite Differences\n",
    "The script `WorksheetScript_Task1_3` should look like:\n",
    "```octave\n",
    "%% Task 1 - Constructing M\n",
    "% Write function FDM(N)\n",
    "% Request input N, construct vectors x and y, then meshgrid X,Y.\n",
    "\n",
    "N = input('Number of interior points to use (N): ');\n",
    "x = linspace(0,1,N+2);  x = x(2:end-1); %shave off boundary points\n",
    "y = x;\n",
    "[X, Y] = meshgrid(x,y); %create meshgrid of points\n",
    "M = FDM(N); %create finite difference matrix\n",
    "```\n",
    "\n",
    "The function `FDM` should look like:\n",
    "```octave\n",
    "function M = FDM(N)\n",
    "%The function FDM returns the Finite Difference Matrix for an N-by-N\n",
    "%uniform mesh of the unit square.\n",
    "%INPUTS:\n",
    "%   N : Number of meshpoints in each direction. Square uniform mesh assumed\n",
    "%OUTPUTS:\n",
    "%   M : Finite difference matrix corresponding to the mesh as defined.\n",
    "\n",
    "% Write the identity matrix of size N to a variable\n",
    "I = eye(N);\n",
    "\n",
    "% Write the one-dimensional finite-difference matrix\n",
    "A = 2*I - diag(ones(N-1,1),1) - diag(ones(N-1,1),-1);\n",
    "\n",
    "% Create the matrix M\n",
    "M = (N+1)^2*(kron(A,I) + kron(I,A));\n",
    "    \n",
    "end %function\n",
    "```"
   ]
  },
  {
   "cell_type": "code",
   "execution_count": 7,
   "metadata": {},
   "outputs": [
    {
     "data": {
      "text/markdown": [
       "## Solving the Poisson Equation\n",
       "\n",
       "We are interested in the Poisson equation with source term \n",
       "$$\n",
       "\\begin{align}\n",
       "    f(x,y) &= -4\\pi\\sin(2\\pi x)\\left[\\pi(1+(2y-1)^2)\\cos(2\\pi(y-0.5)^2)+\\sin(2\\pi(y-0.5)^2)\\right]\n",
       "\\end{align}\n",
       "$$\n",
       "which results in the analytic solution\n",
       "$$\n",
       "\\begin{align}\n",
       "    u(x,y) &= \\sin(2\\pi x)\\cos(2\\pi(y-0.5)^2).\n",
       "\\end{align}\n",
       "$$\n"
      ],
      "text/plain": [
       "<IPython.core.display.Markdown object>"
      ]
     },
     "metadata": {},
     "output_type": "display_data"
    }
   ],
   "source": [
    "%%markdown\n",
    "## Solving the Poisson Equation\n",
    "\n",
    "We are interested in the Poisson equation with source term \n",
    "$$\n",
    "\\begin{align}\n",
    "    f(x,y) &= -4\\pi\\sin(2\\pi x)\\left[\\pi(1+(2y-1)^2)\\cos(2\\pi(y-0.5)^2)+\\sin(2\\pi(y-0.5)^2)\\right]\n",
    "\\end{align}\n",
    "$$\n",
    "which results in the analytic solution\n",
    "$$\n",
    "\\begin{align}\n",
    "    u(x,y) &= \\sin(2\\pi x)\\cos(2\\pi(y-0.5)^2).\n",
    "\\end{align}\n",
    "$$"
   ]
  },
  {
   "cell_type": "code",
   "execution_count": 8,
   "metadata": {},
   "outputs": [
    {
     "data": {
      "text/markdown": [
       "## Exercise: 2 - Source and Analytic Functions\n",
       "Write a function called `F(z)` which, for any $n\\in\\mathbb{N}$, takes in a $n\\times 2$ vector `z` (so each row is a co-ordinate pair) and returns the source term $f$ evaluated at each of the co-ordinate pairs as an $n\\times 1$ _column_ vector.\n",
       "\n",
       "Write an analogous function `Analytic(z)` which evaluates the exact solution (defined above) with the same input and output formats. \n",
       "\n",
       "[Solution]()\n"
      ],
      "text/plain": [
       "<IPython.core.display.Markdown object>"
      ]
     },
     "metadata": {},
     "output_type": "display_data"
    }
   ],
   "source": [
    "%%markdown\n",
    "## Exercise: 2 - Source and Analytic Functions\n",
    "Write a function called `F(z)` which, for any $n\\in\\mathbb{N}$, takes in a $n\\times 2$ vector `z` (so each row is a co-ordinate pair) and returns the source term $f$ evaluated at each of the co-ordinate pairs as an $n\\times 1$ _column_ vector.\n",
    "\n",
    "Write an analogous function `Analytic(z)` which evaluates the exact solution (defined above) with the same input and output formats. \n",
    "\n",
    "[Solution]()"
   ]
  },
  {
   "cell_type": "code",
   "execution_count": 9,
   "metadata": {},
   "outputs": [
    {
     "data": {
      "text/markdown": [
       "## Information: Efficient code\n",
       "One way to impliment the functions `F` and `Anlaytic` would be to use a `for` loop over each of the rows in the input `z`.\n",
       "However for large inputs this is makes the execution of your code slow, IE less efficient.\n",
       "\n",
       "Instead of using a `for` loop, you should look to vectorise your code. Also remember that most of MATLAB's internal math-functions like `sin` and `cos` act element-wise on vectors by default too!\n"
      ],
      "text/plain": [
       "<IPython.core.display.Markdown object>"
      ]
     },
     "metadata": {},
     "output_type": "display_data"
    }
   ],
   "source": [
    "%%markdown\n",
    "## Information: Efficient code\n",
    "One way to impliment the functions `F` and `Anlaytic` would be to use a `for` loop over each of the rows in the input `z`.\n",
    "However for large inputs this is makes the execution of your code slow, IE less efficient.\n",
    "\n",
    "Instead of using a `for` loop, you should look to vectorise your code. Also remember that most of MATLAB's internal math-functions like `sin` and `cos` act element-wise on vectors by default too!"
   ]
  },
  {
   "cell_type": "markdown",
   "metadata": {},
   "source": [
    "## Solution: 2 - Source and Analytic Functions\n",
    "The functions `F` and `Analytic` should look like this:\n",
    "```octave\n",
    "function [ val ] = F( z )\n",
    "%Evaluates the source term of the PDE. \n",
    "%INPUTS:\n",
    "%   z : n x 2 matrix where each row contains a coordinate pair.\n",
    "%OUTPUTS:\n",
    "%   val : The source term evaluated at each of the input co-ordinate pairs.\n",
    "\n",
    "% Calculate the source ensuring that element-wise multiplication is\n",
    "% used\n",
    "val = -4*pi*sin(2*pi*z(:,1)).*(cos(2*pi*(z(:,2)-0.5).^2).*pi.*(1+(2*z(:,2)-1).^2)+sin(2*pi*(z(:,2)-0.5).^2));\n",
    "\n",
    "end %function\n",
    "\n",
    "function [ val ] = Analytic( z )\n",
    "%Evaluates the analytic solution of the PDE.\n",
    "%INPUTS:\n",
    "%   z : n x 2 matrix where each row contains a coordinate pair.\n",
    "%OUTPUTS:\n",
    "%   val : evaluation of the analytic solution at each of the input co-ordinate pairs.\n",
    "\n",
    "val = sin(2*pi*z(:,1)).*cos(((z(:,2)-0.5).^2)*2*pi);\n",
    "\n",
    "end %function\n",
    "```"
   ]
  },
  {
   "cell_type": "code",
   "execution_count": 10,
   "metadata": {},
   "outputs": [
    {
     "data": {
      "text/markdown": [
       "## Exercise: 3 - Solving the System\n",
       "In your script `WorksheetScript_Task1_3`, evaluate `F` and `Analytic` at each of the meshpoints $x_{i,j}$, placing the result into vectors called `source` (for the output of `F`) and `uExact` (for the output of `Analytic`).\n",
       "\n",
       "You now have everything you need to solve the matrix problem - compute the solution to $M\\mathbf{U}=-\\mathbf{F}$ and store it in a vector `uApprox`.\n",
       "Then:\n",
       "- Create a surface plot of the solution; to do this you will need to reshape the solution vector `uApprox` into an $N\\times N$ matrix (use of the `reshape` command should be sufficient).\n",
       "- Print the error $||$ `uApprox` - `uExact` $||_{2}$ to the screen, where $||\\cdot||_{2}$ is the vector 2-norm, to 7 decimal places and in scientific format.\n",
       "\n",
       "[Solution]()\n"
      ],
      "text/plain": [
       "<IPython.core.display.Markdown object>"
      ]
     },
     "metadata": {},
     "output_type": "display_data"
    }
   ],
   "source": [
    "%%markdown\n",
    "## Exercise: 3 - Solving the System\n",
    "In your script `WorksheetScript_Task1_3`, evaluate `F` and `Analytic` at each of the meshpoints $x_{i,j}$, placing the result into vectors called `source` (for the output of `F`) and `uExact` (for the output of `Analytic`).\n",
    "\n",
    "You now have everything you need to solve the matrix problem - compute the solution to $M\\mathbf{U}=-\\mathbf{F}$ and store it in a vector `uApprox`.\n",
    "Then:\n",
    "- Create a surface plot of the solution; to do this you will need to reshape the solution vector `uApprox` into an $N\\times N$ matrix (use of the `reshape` command should be sufficient).\n",
    "- Print the error $||$ `uApprox` - `uExact` $||_{2}$ to the screen, where $||\\cdot||_{2}$ is the vector 2-norm, to 7 decimal places and in scientific format.\n",
    "\n",
    "[Solution]()"
   ]
  },
  {
   "cell_type": "code",
   "execution_count": 11,
   "metadata": {},
   "outputs": [
    {
     "data": {
      "text/markdown": [
       "## Information: Non-zero boundary values in your surface plot?\n",
       "Note that `uApprox` is only the solution on the interior of $\\Omega$ - so don't expect the surface plot to be $0$ at the edges!\n"
      ],
      "text/plain": [
       "<IPython.core.display.Markdown object>"
      ]
     },
     "metadata": {},
     "output_type": "display_data"
    }
   ],
   "source": [
    "%%markdown\n",
    "## Information: Non-zero boundary values in your surface plot?\n",
    "Note that `uApprox` is only the solution on the interior of $\\Omega$ - so don't expect the surface plot to be $0$ at the edges!"
   ]
  },
  {
   "cell_type": "markdown",
   "metadata": {},
   "source": [
    "## Solution: 3 - Solving the System\n",
    "At this point your `WorksheetScript_Task1_3` should look something like this:\n",
    "```octave\n",
    "%% Task 0 - Preliminaries\n",
    "% Good practice to delete all variables and clear all figures before we\n",
    "% start.\n",
    "clear;\n",
    "close all;\n",
    "\n",
    "%% Task 1 - Constructing M\n",
    "% Write function FDM(N)\n",
    "% Request N, construct vectors x and y, then meshgrid X,Y.\n",
    "\n",
    "N = input('Number of interior points to use (N): ');\n",
    "x = linspace(0,1,N+2);  x = x(2:end-1); %shave off boundary points\n",
    "y = x;\n",
    "[X, Y] = meshgrid(x,y); %create meshgrid of points\n",
    "M = FDM(N); %create finite difference matrix\n",
    "\n",
    "%% Task 2 - Source and analytic functions\n",
    "% Write the following functions:\n",
    "% Source function F(z)\n",
    "% Analytic solution function\n",
    "\n",
    "%% Task 3 - Solving the system\n",
    "% Evaluate the source and analytic solution on all (x,y) pairs\n",
    "source = F([X(:),Y(:)]);\n",
    "uExact = Analytic([X(:),Y(:)]);\n",
    "\n",
    "% Solve the system AU = F using the backslash operator\n",
    "uApprox = -M\\source;\n",
    "\n",
    "% Plot the approximate solution on a surface plot\n",
    "figure()\n",
    "surf(x,y,reshape(uApprox,N,N))\n",
    "\n",
    "% Print the error\n",
    "err = norm(uApprox - uExact);\n",
    "fprintf('The error is %.7f \\n',err)\n",
    "```"
   ]
  },
  {
   "cell_type": "code",
   "execution_count": 12,
   "metadata": {},
   "outputs": [
    {
     "data": {
      "text/markdown": [
       "## Examining the Error\n",
       "As $h$ decreases, our approximate solution `uApprox` converges to the analytic solution $u$.\n",
       "A common point of interest is how <q>fast</q> this convergence is; one way we can examine this is by looking at how the error in our solution decays with the mesh size.\n",
       "\n",
       "We hypothesize that $ || u - $ `uApprox` $ ||_2 = C h^{\\alpha}$ for some constants $C$ and $\\alpha$, where $\\alpha$ is the rate that we want to estimate.\n",
       "<br />If we denote $E = || u - $ `uApprox` $ ||_2 $, then taking logarithms yields $ \\log E = \\alpha \\log h + \\log C $, and so if we can obtain a set of values for $E$ and the corresponding mesh gize $h$, we can predict $\\alpha$ via a least-squares (regression) fit.\n"
      ],
      "text/plain": [
       "<IPython.core.display.Markdown object>"
      ]
     },
     "metadata": {},
     "output_type": "display_data"
    }
   ],
   "source": [
    "%%markdown\n",
    "## Examining the Error\n",
    "As $h$ decreases, our approximate solution `uApprox` converges to the analytic solution $u$.\n",
    "A common point of interest is how <q>fast</q> this convergence is; one way we can examine this is by looking at how the error in our solution decays with the mesh size.\n",
    "\n",
    "We hypothesize that $ || u - $ `uApprox` $ ||_2 = C h^{\\alpha}$ for some constants $C$ and $\\alpha$, where $\\alpha$ is the rate that we want to estimate.\n",
    "<br />If we denote $E = || u - $ `uApprox` $ ||_2 $, then taking logarithms yields $ \\log E = \\alpha \\log h + \\log C $, and so if we can obtain a set of values for $E$ and the corresponding mesh gize $h$, we can predict $\\alpha$ via a least-squares (regression) fit."
   ]
  },
  {
   "cell_type": "code",
   "execution_count": 13,
   "metadata": {},
   "outputs": [
    {
     "data": {
      "text/markdown": [
       "## Exercise: 4 - Error Analysis\n",
       "Create a new script `WorksheetScript_Task4` (you know, I won an award for creativity once).\n",
       "- At the start of this script define the variable `NRange = 5:5:75` - this vector contains the values of `N` you will loop over to obtain estimates for $E$ and $h$ pairs.\n",
       "- Also preallocate a vector of zeros (called `errVec`) to store the value of the error $E = ||$ `uApprox` - `uExact` $||_{2}$ for each value of $N$; and create a vector `hRange` to store the corresponding values of $h$.\n",
       "- Then using a `for` loop and the code from your previous script as inspiration, compute $E$ for each value of $N$ in `NRange` and store it in `errVec`. Make sure that the entries of `errVec` and `hRange` correctly correspond to each other!\n",
       "\n",
       "Once your script has computed the error for each value of $N$, have it:\n",
       "- Create a log-log plot of the error $E$ against the mesh size $h$\n",
       "- Use the `polyfit` command to estimate the value of $\\alpha$; printing it to the screen to 5 decimal places.\n",
       "- Check (manually) that this value is consistent with your plot!\n",
       "\n",
       "[Solution]()\n"
      ],
      "text/plain": [
       "<IPython.core.display.Markdown object>"
      ]
     },
     "metadata": {},
     "output_type": "display_data"
    }
   ],
   "source": [
    "%%markdown\n",
    "## Exercise: 4 - Error Analysis\n",
    "Create a new script `WorksheetScript_Task4` (you know, I won an award for creativity once).\n",
    "- At the start of this script define the variable `NRange = 5:5:75` - this vector contains the values of `N` you will loop over to obtain estimates for $E$ and $h$ pairs.\n",
    "- Also preallocate a vector of zeros (called `errVec`) to store the value of the error $E = ||$ `uApprox` - `uExact` $||_{2}$ for each value of $N$; and create a vector `hRange` to store the corresponding values of $h$.\n",
    "- Then using a `for` loop and the code from your previous script as inspiration, compute $E$ for each value of $N$ in `NRange` and store it in `errVec`. Make sure that the entries of `errVec` and `hRange` correctly correspond to each other!\n",
    "\n",
    "Once your script has computed the error for each value of $N$, have it:\n",
    "- Create a log-log plot of the error $E$ against the mesh size $h$\n",
    "- Use the `polyfit` command to estimate the value of $\\alpha$; printing it to the screen to 5 decimal places.\n",
    "- Check (manually) that this value is consistent with your plot!\n",
    "\n",
    "[Solution]()"
   ]
  },
  {
   "cell_type": "markdown",
   "metadata": {},
   "source": [
    "## Solution: 4 - Error Analysis\n",
    "Your new script should look like this:\n",
    "```octave\n",
    "%% Task 4 - Error analysis\n",
    "% Good practice to clear all our variables and figures before we start\n",
    "clear;\n",
    "close all;\n",
    "\n",
    "% Create a range of values for N\n",
    "NRange = 5:5:75;\n",
    "hRange = 1./(NRange+1);\n",
    "\n",
    "% Pre-allocate a vector to contain the errors\n",
    "errVec = zeros(1,length(NRange));\n",
    "\n",
    "% Loop over the values of N, completing task 4 for each\n",
    "for ii = 1:length(NRange)\n",
    "    \n",
    "    % Extract the value of N, and calculate the meshgrid\n",
    "    N = NRange(ii);\n",
    "    x = linspace(0,1,N+2);  x = x(2:end-1);\n",
    "    y = x;\n",
    "    [X,Y] = meshgrid(x,y);\n",
    "    \n",
    "    % Use FDM to find the M matrix\n",
    "    M = FDM(N);\n",
    "    \n",
    "    % Evaluate the source and analytic solution on all (x,y) pairs\n",
    "    source = F([X(:),Y(:)]);\n",
    "    uExact = Analytic([X(:),Y(:)]);\n",
    "    \n",
    "    % Solve the system AU = F using the backslash operator\n",
    "    uApprox = -M\\source;\n",
    "    \n",
    "    % Store the error\n",
    "    errVec(ii) = norm(uApprox - uExact);\n",
    "end\n",
    "\n",
    "% Semilog plot of h vs. errVec\n",
    "figure;\n",
    "semilogy(hRange,errVec);\n",
    "xlabel('$h$','interpreter','latex');\n",
    "ylabel('Norm of error vector','interpreter','latex');\n",
    "\n",
    "% Use polyfit to determine the rate of convergence.\n",
    "% Err = C*h^alpha so ln(Err) = alpha*ln(h) + ln(C).\n",
    "% Fit a degree 1 polynomial\n",
    "pCoeffs = polyfit(log(hRange),log(errVec),1);\n",
    "alpha = pCoeffs(1);\n",
    "% Print out the predicted convergence rate\n",
    "fprintf('Predicted convergence rate is %.5f \\n',alpha);\n",
    "```\n",
    "The value of $\\alpha$ should be close to $1.0$, and your log-log plot should look linear."
   ]
  },
  {
   "cell_type": "code",
   "execution_count": 14,
   "metadata": {},
   "outputs": [
    {
     "data": {
      "text/markdown": [
       "## Key Points:\n",
       "- MATLAB code is best written in vectorised form, to speed up computation.\n",
       "- We can empirically estimate the convergence rate of numerical methods by manipulating the expected form for the convergence and using `polyfit`.\n",
       "\n",
       "If you've got to this point, congratulations! You're ready for anything (MATLAB-wise) that we can throw at you.\n"
      ],
      "text/plain": [
       "<IPython.core.display.Markdown object>"
      ]
     },
     "metadata": {},
     "output_type": "display_data"
    }
   ],
   "source": [
    "%%markdown\n",
    "## Key Points:\n",
    "- MATLAB code is best written in vectorised form, to speed up computation.\n",
    "- We can empirically estimate the convergence rate of numerical methods by manipulating the expected form for the convergence and using `polyfit`.\n",
    "\n",
    "If you've got to this point, congratulations! You're ready for anything (MATLAB-wise) that we can throw at you."
   ]
  }
 ],
 "metadata": {
  "kernelspec": {
   "display_name": "Python 3",
   "language": "python",
   "name": "python3"
  },
  "language_info": {
   "codemirror_mode": {
    "name": "ipython",
    "version": 3
   },
   "file_extension": ".py",
   "mimetype": "text/x-python",
   "name": "python",
   "nbconvert_exporter": "python",
   "pygments_lexer": "ipython3",
   "version": "3.7.3"
  }
 },
 "nbformat": 4,
 "nbformat_minor": 2
}
