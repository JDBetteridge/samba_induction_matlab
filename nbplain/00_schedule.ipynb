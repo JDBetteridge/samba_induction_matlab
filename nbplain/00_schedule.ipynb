{
 "cells": [
  {
   "cell_type": "markdown",
   "metadata": {
    "slideshow": {
     "slide_type": "slide"
    }
   },
   "source": [
    "# Matlab Introduction\n",
    "\n",
    "This forms a basic introduction to MATLAB forSAMBa and should provide all the  MATLAB prerequisites for MA5017 - Advanced Numerical Computation "
   ]
  },
  {
   "cell_type": "markdown",
   "metadata": {
    "slideshow": {
     "slide_type": "slide"
    }
   },
   "source": [
    "## Prerequisites:\n",
    "\n",
    "To complete this lesson you should be able to do all the things in this list:\n",
    "* Have a working copy of Matlab or Octave. \n",
    "* Know some basic matrix algebra"
   ]
  },
  {
   "cell_type": "markdown",
   "metadata": {
    "slideshow": {
     "slide_type": "slide"
    }
   },
   "source": [
    "## Schedule:\n",
    "\n",
    "| Time | Episode | Description |\n",
    "|---|---|---|\n",
    "| 0:00 | [Introduction](01_into.ipynb) | Introduction |\n",
    "| 0:15 | [Matrices and basic operations](02_matrices.ipynb) | Defining (1-dimensional, 2-dimensional) matrices, and performing basic operations with them:|\n",
    "|0:15|[Load and save data](03_load_save.ipynb)|Loading data and saving data with MATLAB|\n",
    "|0:15|[Producing and managing MATLAB files](04_scripts_functions.ipynb)| Getting familiar with MATLAB scripts and MATLAB functions: how to write them, how to run them, understand the basic difference between them.|\n",
    "|0:15| [Displaying and graphing data in MATLAB](05_displaying_graphing.ipynb)|Displaying formats for data, the semi-colon and generating and managing graphs|\n",
    "|0:15|[Programming with MATALB](06_loops.ipynb)| Be aware of the use and differences between the following:if-else, if-elseif-else, while, for|\n",
    "|0:15|[Logical instructions](07_logical_instructions.ipynb)| Logical relations and statemetnat, relational operators, isolating elements of a matrix satisfying logical conditions|\n",
    "|0:15|[Getting help from MATLAB](08_help.ipynb)|Understanding error and warning messages, the command help and the command doc.|\n"
   ]
  },
  {
   "cell_type": "markdown",
   "metadata": {
    "slideshow": {
     "slide_type": "slide"
    }
   },
   "source": [
    "## Setup:\n",
    "\n",
    "Add any setup instructions here, or if there are a lot, consider putting it in its own section."
   ]
  }
 ],
 "metadata": {
  "celltoolbar": "Slideshow",
  "kernelspec": {
   "display_name": "Python 3",
   "language": "python",
   "name": "python3"
  },
  "language_info": {
   "codemirror_mode": {
    "name": "ipython",
    "version": 3
   },
   "file_extension": ".py",
   "mimetype": "text/x-python",
   "name": "python",
   "nbconvert_exporter": "python",
   "pygments_lexer": "ipython3",
   "version": "3.7.3"
  }
 },
 "nbformat": 4,
 "nbformat_minor": 2
}
