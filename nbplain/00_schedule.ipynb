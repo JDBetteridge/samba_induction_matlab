{
 "cells": [
  {
   "cell_type": "markdown",
   "metadata": {
    "slideshow": {
     "slide_type": "slide"
    }
   },
   "source": [
    "# Matlab Introduction\n",
    "\n",
    "This forms a basic introduction to MATLAB for SAMBa and should provide all the  MATLAB prerequisites for MA5017 - Advanced Numerical Computation."
   ]
  },
  {
   "cell_type": "markdown",
   "metadata": {
    "slideshow": {
     "slide_type": "slide"
    }
   },
   "source": [
    "## Prerequisites:\n",
    "\n",
    "To complete this lesson you should be able to do all the things in this list:\n",
    "* Have a working copy of Matlab or Octave. \n",
    "* Know some basic matrix algebra."
   ]
  },
  {
   "cell_type": "markdown",
   "metadata": {},
   "source": [
    "## Information:\n",
    "If you are looking for the [worksheets](./worksheet/01_matlab.html) or their [solutions](./worksheet/01_matlab-soln.html) click on the links."
   ]
  },
  {
   "cell_type": "markdown",
   "metadata": {
    "slideshow": {
     "slide_type": "slide"
    }
   },
   "source": [
    "## Schedule:\n",
    "\n",
    "| Time | Episode | Description |\n",
    "|---|---|---|\n",
    "| 0:00 | [Introduction](01_intro.ipynb) | Introduction to the MATLAB GUI and `help` command, variables and displaying values |\n",
    "| 0:15 | [Matrices and basic operations](02_matrices.ipynb) | Loading, saving and manually constructing 1-dimensional, and 2-dimensional arrays |\n",
    "|0:15|[Load and save data](03_working_with_matrices.ipynb)| Manipulating defined matrices, slicing, and extracting data |\n",
    "|0:15|[Producing and managing MATLAB files](04_functions_scripts.ipynb)| Getting familiar with MATLAB scripts and MATLAB functions: how to write them, how to run them, and understanding the difference between them. |\n",
    "|0:15| [Displaying and graphing data in MATLAB](05_displaying_graphing.ipynb)| Managing graphs and figures, and MATLAB's in-built plotting tools |\n",
    "|0:15|[Programming with MATALB](06_for_while_loops.ipynb)| Introdution to `for` and `while` loops, when to use them and the difference between them |\n",
    "|0:15|[Logical instructions](07_if_else_logicals.ipynb)| Logical relations and statements, using `if`-`else` statements to control the workflow |\n",
    "|0:15|[Help with errors and warnings](08_errors_help.ipynb)| Understanding error and warning messages, and strategies for debugging |\n",
    "|0:15|[Conclusion and next steps](09_conclusion.ipynb)| Concluding remarks |\n"
   ]
  },
  {
   "cell_type": "markdown",
   "metadata": {
    "slideshow": {
     "slide_type": "slide"
    }
   },
   "source": [
    "## Setup:\n",
    "\n",
    "Before you begin, you should make sure you have a MATLAB (or Octave) session open.\n",
    "If possible, use the Graphical User Interface (GUI) rather than working from the command-line or terminal, to make the most out of these lessons."
   ]
  }
 ],
 "metadata": {
  "celltoolbar": "Slideshow",
  "kernelspec": {
   "display_name": "Python 3",
   "language": "python",
   "name": "python3"
  },
  "language_info": {
   "codemirror_mode": {
    "name": "ipython",
    "version": 3
   },
   "file_extension": ".py",
   "mimetype": "text/x-python",
   "name": "python",
   "nbconvert_exporter": "python",
   "pygments_lexer": "ipython3",
   "version": "3.7.4"
  }
 },
 "nbformat": 4,
 "nbformat_minor": 2
}
