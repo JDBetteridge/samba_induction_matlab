{
 "cells": [
  {
   "cell_type": "markdown",
   "metadata": {
    "slideshow": {
     "slide_type": "slide"
    }
   },
   "source": [
    "# Matlab Introduction\n",
    "\n",
    "This forms a basic introduction to MATLAB forSAMBa and should provide all the  MATLAB prerequisites for MA5017 - Advanced Numerical Computation "
   ]
  },
  {
   "cell_type": "markdown",
   "metadata": {
    "slideshow": {
     "slide_type": "slide"
    }
   },
   "source": [
    "## Prerequisites:\n",
    "\n",
    "To complete this lesson you should be able to do all the things in this list:\n",
    "* Have a working copy of Matlab or Octave. \n",
    "* Know some basic matrix algebra"
   ]
  },
  {
   "cell_type": "markdown",
   "metadata": {
    "slideshow": {
     "slide_type": "slide"
    }
   },
   "source": [
    "## Schedule:\n",
    "\n",
    "| Time | Episode | Description |\n",
    "|---|---|---|\n",
    "| 0:00 | [Introduction](01_into.ipynb) | Introduction |\n",
    "| 0:15 | [Matrices and basic operations](02_matrices.ipynb) | Defining (1-dimensional, 2-dimensional) matrices, and performing basic operations with them:|\n",
    "|0:15|[Load and save data](03_load_save.ipynb)|Loading data and saving data with MATLAB|\n",
    "|0:15|[Producing and managing MATLAB files](04_scripts_functions.ipynb)| Getting familiar with MATLAB scripts and MATLAB functions: how to write them, how to run them, understand the basic difference between them.|\n",
    "|0:15| [displaying and graphing data in MATLAB](05_displaying_graphing.ipynb)|Displaying formats for data, the semi-colon and generating and managing graphs|\n",
    "|0:15|[Programming with MATALB](06_loops.ipynb)| Be aware of the use and differences between the following:if-else, if-elseif-else, while, for|\n",
    "|0:15|[Logical instructions](07_logical_instructions.ipynb)| Logical relations and statemetnat, relational operators, isolating elements of a matrix satisfying logical conditions|\n",
    "|0:15|[Getting help from MATLAB](08_help.ipynb)|Understanding error and warning messages, the command help and the command doc.|\n"
   ]
  },
  {
   "cell_type": "markdown",
   "metadata": {
    "slideshow": {
     "slide_type": "slide"
    }
   },
   "source": [
    "## Setup:\n",
    "\n",
    "Add any setup instructions here, or if there are a lot, consider putting it in its own section."
   ]
  },
  {
   "cell_type": "code",
   "execution_count": 2,
   "metadata": {},
   "outputs": [
    {
     "name": "stderr",
     "output_type": "stream",
     "text": [
      "Traceback (most recent call last):\n",
      "  File \"c:\\users\\magd21\\appdata\\local\\continuum\\anaconda3\\lib\\runpy.py\", line 193, in _run_module_as_main\n",
      "    \"__main__\", mod_spec)\n",
      "  File \"c:\\users\\magd21\\appdata\\local\\continuum\\anaconda3\\lib\\runpy.py\", line 85, in _run_code\n",
      "    exec(code, run_globals)\n",
      "  File \"C:\\Users\\magd21\\AppData\\Local\\Continuum\\anaconda3\\Scripts\\nbfancy.exe\\__main__.py\", line 9, in <module>\n",
      "  File \"c:\\users\\magd21\\appdata\\local\\continuum\\anaconda3\\lib\\site-packages\\nbfancy\\__main__.py\", line 374, in main\n",
      "    call(args)\n",
      "  File \"c:\\users\\magd21\\appdata\\local\\continuum\\anaconda3\\lib\\site-packages\\nbfancy\\__main__.py\", line 243, in render\n",
      "    raise FileNotFoundError(2, 'No such directory', args.input_dir)\n",
      "FileNotFoundError: [Errno 2] No such directory: 'nbplain'\n"
     ]
    }
   ],
   "source": []
  },
  {
   "cell_type": "code",
   "execution_count": null,
   "metadata": {},
   "outputs": [],
   "source": []
  }
 ],
 "metadata": {
  "celltoolbar": "Slideshow",
  "kernelspec": {
   "display_name": "Python 3",
   "language": "python",
   "name": "python3"
  },
  "language_info": {
   "codemirror_mode": {
    "name": "ipython",
    "version": 3
   },
   "file_extension": ".py",
   "mimetype": "text/x-python",
   "name": "python",
   "nbconvert_exporter": "python",
   "pygments_lexer": "ipython3",
   "version": "3.6.8"
  }
 },
 "nbformat": 4,
 "nbformat_minor": 2
}
