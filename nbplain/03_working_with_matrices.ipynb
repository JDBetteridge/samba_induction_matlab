{
 "cells": [
  {
   "cell_type": "markdown",
   "metadata": {},
   "source": [
    "# Working with Matrices"
   ]
  },
  {
   "cell_type": "markdown",
   "metadata": {},
   "source": [
    "## Overview:\n",
    "- Teaching: _time_\n",
    "- Exercises: _time_\n",
    "\n",
    "Objectives:\n",
    "- Learn how to load and save variables\n",
    "- Techniques for isolating parts of matrices\n",
    "- Preallocation of memory for arrays"
   ]
  },
  {
   "cell_type": "markdown",
   "metadata": {},
   "source": [
    "## Loading and Saving Variables\n",
    "\n",
    "MATLAB's GUI allows us to save variables in the workspace to `.mat` files to access later, and to load said files back into the workspace.\n",
    "These features can be used to save on computation time and/or cost, if the information stored in the variables is time consuming to produce.\n",
    "\n",
    "As we might expect, we can save any variable in the workspace to a variable file using the `save` command.\n",
    "This command works differently to other function calls that you've seen so far.\n",
    "To use `save`, we type `save <filename> v1 v2 ...` where:\n",
    "- `<filename>` is the name of the file we want to save the variables to, input as a string!\n",
    "- `v1 v2 ...` is a list of all the variables in the workspace that we want to include in the saved file.\n",
    "\n",
    "So for example..."
   ]
  },
  {
   "cell_type": "code",
   "execution_count": 1,
   "metadata": {},
   "outputs": [],
   "source": [
    "mu0 = 4*pi*1e-7;\n",
    "useful_vector = [1; 4; 9; 16; 25];\n",
    "fun_matrix = magic(5); %the magic command creates a magic square and stores it in a matrix.\n",
    "\n",
    "save \"exampleSave\" mu0 useful_vector fun_matrix"
   ]
  },
  {
   "cell_type": "markdown",
   "metadata": {},
   "source": [
    "You should notice that, after executing the save command, a new file appears in the current directory panel of the GUI.\n",
    "\n",
    "If we were to then start a new MATLAB session and want these variables back, we can then `load` them from this file.\n",
    "The `load` command has similar syntax to `save`, except we don't need to provide it with any variable names, only the filename (as a string)."
   ]
  },
  {
   "cell_type": "code",
   "execution_count": 2,
   "metadata": {},
   "outputs": [
    {
     "name": "stdout",
     "output_type": "stream",
     "text": [
      "To prove that the values really have reloaded after a clear:\n",
      " 0.0000012566\n",
      "    1\n",
      "    4\n",
      "    9\n",
      "   16\n",
      "   25\n",
      "   17   24    1    8   15\n",
      "   23    5    7   14   16\n",
      "    4    6   13   20   22\n",
      "   10   12   19   21    3\n",
      "   11   18   25    2    9\n"
     ]
    }
   ],
   "source": [
    "clear; %remove the variables from the workspace to illustrate that we can re-load them!\n",
    "\n",
    "load \"exampleSave\"\n",
    "\n",
    "fprintf('To prove that the values really have reloaded after a clear:\\n')\n",
    "disp(mu0)\n",
    "disp(useful_vector)\n",
    "disp(fun_matrix)"
   ]
  },
  {
   "cell_type": "markdown",
   "metadata": {},
   "source": [
    "Notice how the variables reappear in the current workspace _with the same variable names_ as when we saved them.\n",
    "This leads to a warning: the `load` command will __overwrite__ the value of variables that are already stored in the workspace if they share the same name!"
   ]
  },
  {
   "cell_type": "markdown",
   "metadata": {},
   "source": [
    "## Information: Load/save via the GUI\n",
    "\n",
    "MATLAB's GUI enables you to interact with the variables in your workspace and files in the current directory using the mouse and keyboard.\n",
    "As such, you can load and save using the GUI by highlighting the variables you want to save (or files you want to load) and right-clicking, then selecting the relevant option from the drop-down menu.\n",
    "\n",
    "The `load` and `save` commands are much more useful when it comes to writing scripts though, so you should get into the hang of using them."
   ]
  },
  {
   "cell_type": "markdown",
   "metadata": {},
   "source": [
    "## What's in an array?\n",
    "\n",
    "Before we look at advanced techniques for isolating parts of arrays, we should first explore how we can access the individual entries in an array.\n",
    "The entries of an array can be accessed using indices to specify the position in the array of the value we want to extract.\n",
    "We need one index per dimension of the array, and indices range from 1 to the maximum length in that dimension of the array."
   ]
  },
  {
   "cell_type": "code",
   "execution_count": 3,
   "metadata": {},
   "outputs": [
    {
     "name": "stdout",
     "output_type": "stream",
     "text": [
      "   0.882658   0.926042   0.870932   0.501935   0.053182\n",
      "   0.169545   0.119899   0.114341   0.193617   0.438770\n",
      "   0.450407   0.501010   0.554522   0.671311   0.438177\n",
      "The element at position (1,1) of the array is 0.88266 \n"
     ]
    }
   ],
   "source": [
    "A = rand(3,5); %3-by-5 matrix with random entries\n",
    "disp(A)\n",
    "\n",
    "fprintf('The element at position (1,1) of the array is %.5f \\n', A(1,1))"
   ]
  },
  {
   "cell_type": "markdown",
   "metadata": {},
   "source": [
    "The syntax for accessing one entry in an array is to use the variable name followed by braces `( )` containing the indices.\n",
    "In this case, our array `A` is 2-dimensional (being a $3\\times5$ array/matrix) and so we must use two indices to specify the value we want to find.\n",
    "Vectors are 1-dimensonal arrays, so we only need to use a single index to specify which entry we want to look at:"
   ]
  },
  {
   "cell_type": "code",
   "execution_count": 4,
   "metadata": {},
   "outputs": [
    {
     "name": "stdout",
     "output_type": "stream",
     "text": [
      "   0.69784\n",
      "   0.66154\n",
      "   0.31026\n",
      "   0.17138\n",
      "   0.21481\n",
      "The element at position (3) of the vector is 0.31026 \n"
     ]
    }
   ],
   "source": [
    "v = rand(5,1); %column vector of length 5\n",
    "disp(v)\n",
    "\n",
    "fprintf('The element at position (3) of the vector is %.5f \\n', v(3))"
   ]
  },
  {
   "cell_type": "markdown",
   "metadata": {},
   "source": [
    "Now that we can access parts of an array, we can also assign them values and change the entries in the array directly.\n",
    "This is done by isolating an element of an array, then using the `=` operation to assign it a new value."
   ]
  },
  {
   "cell_type": "code",
   "execution_count": 5,
   "metadata": {},
   "outputs": [
    {
     "name": "stdout",
     "output_type": "stream",
     "text": [
      "   0.2804068   0.5500477   0.9728326   0.0627189   0.1655804\n",
      "   0.9355015   0.2043928   0.2723711   0.0789297   0.4468522\n",
      "   0.8007189   0.1991916   0.1504581   0.0072893   0.1774082\n",
      "A now looks like:\n",
      "   0.2804068   0.5500477   0.9728326   0.0627189   0.1655804\n",
      "   0.9355015   0.2043928  -1.0000000   0.0789297   0.4468522\n",
      "   0.8007189   0.1991916   0.1504581   0.0072893   0.1000000\n"
     ]
    }
   ],
   "source": [
    "A = rand(3,5);\n",
    "some_number_I_picked_for_an_example = 1e-1;\n",
    "disp(A)\n",
    "\n",
    "%change the (2,3) element of A to be -1\n",
    "A(2,3) = -1;\n",
    "%change the (3,5) element of A to be the value stored in the variable \"some_number_I_picked_for_an_example\"\n",
    "A(3,5) = some_number_I_picked_for_an_example;\n",
    "\n",
    "fprintf('A now looks like:\\n')\n",
    "disp(A)"
   ]
  },
  {
   "cell_type": "markdown",
   "metadata": {},
   "source": [
    "## Isolating Parts of Arrays\n",
    "\n",
    "In the previous lesson we dealt with defining arrays and performing operations on them.\n",
    "Here we look at more advanced techniques for working with arrays; in particular how we can isolate parts of an array and the in-built functions available to us when performing calculations with them.\n",
    "\n",
    "### In-built isolation functions\n",
    "\n",
    "There are some functions in MATLAB that allow us to extract parts of matrices quickly.\n",
    "`diag` is one of these functions (yes, the same `diag` as in the previous lesson); when we give it a matrix argument it returns a vector that contains the diagonal entries of the matrix.\n",
    "There are also the functions `triu` and `tril` which extract the upper and lower triangular parts of a matrix (respectively).\n",
    "\n",
    "### Isolation via \"Slicing\"\n",
    "\n",
    "Of course, we may not only be interested in the diagonal or triangular parts of an array, but instead might be looking for a \"sub-block\" of a matrix or some important components of a vector.\n",
    "In these cases, we can use a technique called _index slicing_ to aid us.\n",
    "This technique allows us to extract multiple entries at once, and also allows us to assign them at once too!\n",
    "\n",
    "To \"slice\" an array, we use a colon (`:`) when we try to access the values stored in an array.\n",
    "- If we want _all_ the entries along one dimension of the array, we just put a colon where we would normally put the index.\n",
    "- If we want a _subset_ of the entries along one dimension of the array; then either side of a colon we type the start and end indices of the subset we want to extract."
   ]
  },
  {
   "cell_type": "code",
   "execution_count": 6,
   "metadata": {},
   "outputs": [
    {
     "name": "stdout",
     "output_type": "stream",
     "text": [
      "   0.2337484   0.4011600   0.0909151   0.0427414   0.4712744\n",
      "   0.6839374   0.9393016   0.0895294   0.5920481   0.8986343\n",
      "   0.4338289   0.8851868   0.0083688   0.7469926   0.0694847\n",
      "   0.1798511   0.7564896   0.4296099   0.9603919   0.9232702\n",
      "   0.3316960   0.5694426   0.4972425   0.3323663   0.1904756\n",
      "Extract the first row of A:\n",
      "   0.233748   0.401160   0.090915   0.042741   0.471274\n",
      "Extract the 3rd column of A:\n",
      "   0.0909151\n",
      "   0.0895294\n",
      "   0.0083688\n",
      "   0.4296099\n",
      "   0.4972425\n",
      "Extract the 3-by-3 submatrix of A formed by the centre 9 entries\n",
      "   0.9393016   0.0895294   0.5920481\n",
      "   0.8851868   0.0083688   0.7469926\n",
      "   0.7564896   0.4296099   0.9603919\n"
     ]
    }
   ],
   "source": [
    "A = rand(5,5);\n",
    "disp(A)\n",
    "\n",
    "fprintf('Extract the first row of A:\\n')\n",
    "A_first_row = A(1,:); %(1,:) means \"take row 1, and all the columns\"\n",
    "disp(A_first_row)\n",
    "\n",
    "fprintf('Extract the 3rd column of A:\\n')\n",
    "A_third_col = A(:,3); %(:,3) means \"take all the rows, and column 3\"\n",
    "disp(A_third_col)\n",
    "\n",
    "fprintf('Extract the 3-by-3 submatrix of A formed by the centre 9 entries\\n')\n",
    "A_centre_block = A(2:4,2:4); %(2:4,2:4) means \"take rows 2-4, and columns 2-4\"\n",
    "disp(A_centre_block)"
   ]
  },
  {
   "cell_type": "markdown",
   "metadata": {},
   "source": [
    "We can _assign_ values to subsets of arrays by using `=`.\n",
    "You must assign an array of values of the same shape/size as the subset you are extracting, _or_ provide a single scalar value.\n",
    "If you provide the latter, every value you extract will be set to that scalar value.\n",
    "Otherwise, you will simply insert the new array into the subset that you extracted."
   ]
  },
  {
   "cell_type": "code",
   "execution_count": 7,
   "metadata": {},
   "outputs": [
    {
     "name": "stdout",
     "output_type": "stream",
     "text": [
      "Set the centre 3-by-3 block of A to be 1 \n",
      "   0.233748   0.401160   0.090915   0.042741   0.471274\n",
      "   0.683937   1.000000   1.000000   1.000000   0.898634\n",
      "   0.433829   1.000000   1.000000   1.000000   0.069485\n",
      "   0.179851   1.000000   1.000000   1.000000   0.923270\n",
      "   0.331696   0.569443   0.497243   0.332366   0.190476\n",
      "Set every value in the 2nd column of A to be 4.5 \n",
      "   0.233748   4.500000   0.090915   0.042741   0.471274\n",
      "   0.683937   4.500000   1.000000   1.000000   0.898634\n",
      "   0.433829   4.500000   1.000000   1.000000   0.069485\n",
      "   0.179851   4.500000   1.000000   1.000000   0.923270\n",
      "   0.331696   4.500000   0.497243   0.332366   0.190476\n"
     ]
    }
   ],
   "source": [
    "fprintf('Set the centre 3-by-3 block of A to be 1 \\n')\n",
    "A(2:4,2:4) = ones(3,3); %\"take rows 2-4 and columns 2-4 and set them to be a 3-by-3 matrix of ones\"\n",
    "disp(A)\n",
    "\n",
    "fprintf('Set every value in the 2nd column of A to be 4.5 \\n')\n",
    "A(:,2) = 4.5; %\"take all the rows and the second column and set them to be 4.5\"\n",
    "disp(A)"
   ]
  },
  {
   "cell_type": "markdown",
   "metadata": {},
   "source": [
    "\"But wait!\", I hear you cry,\n",
    "<br />\"What if I want to extract the final entry of an array, but don't know the size of the array?\"\n",
    "\n",
    "For this you can use the keyword `end` when slicing. \n",
    "MATLAB interprets this as \"the value of the last index in this dimension of the array\" when you try to extract values this way."
   ]
  },
  {
   "cell_type": "code",
   "execution_count": 8,
   "metadata": {},
   "outputs": [
    {
     "name": "stdout",
     "output_type": "stream",
     "text": [
      "Extract the final entry of the 3rd column of A: \n",
      " 0.49724\n",
      "Extract everything up to the penultimate value of row 4 of A: \n",
      "   0.17985   4.50000   1.00000   1.00000\n"
     ]
    }
   ],
   "source": [
    "fprintf('Extract the final entry of the 3rd column of A: \\n')\n",
    "disp(A(end,3))\n",
    "\n",
    "fprintf('Extract everything up to the penultimate value of row 4 of A: \\n')\n",
    "disp(A(4,1:end-1))"
   ]
  },
  {
   "cell_type": "markdown",
   "metadata": {},
   "source": [
    "### Index Error\n",
    "\n",
    "Notice that if you try to access part of an array that doesn't exist, for example index 5 of a vector of length 4, or index 0 of anything, you will get an \"(array index) out of bounds\" error:"
   ]
  },
  {
   "cell_type": "code",
   "execution_count": 9,
   "metadata": {},
   "outputs": [
    {
     "name": "stdout",
     "output_type": "stream",
     "text": [
      "error: v(7): out of bound 6\r\n"
     ]
    }
   ],
   "source": [
    "v = ones(1,6); %length 6 row vector\n",
    "v(7)"
   ]
  },
  {
   "cell_type": "markdown",
   "metadata": {},
   "source": [
    "## Information+: What _is_ `:` doing?\n",
    "\n",
    "You might notice that if you type `1:5` into the command line and press execute, it returns a vector:"
   ]
  },
  {
   "cell_type": "code",
   "execution_count": 10,
   "metadata": {},
   "outputs": [
    {
     "name": "stdout",
     "output_type": "stream",
     "text": [
      "ans =\r\n",
      "\r\n",
      "   1   2   3   4   5\r\n",
      "\r\n"
     ]
    }
   ],
   "source": [
    "1:5"
   ]
  },
  {
   "cell_type": "markdown",
   "metadata": {},
   "source": [
    "Indeed, `:` is itself a matrix construction function!\n",
    "It has the general syntax of `start:step:end`, where:\n",
    "- `start` is the first value we want to start at,\n",
    "- `step` is the incriment we apply to each value,\n",
    "- `end` is the value that should not be exceeded.\n",
    "\n",
    "If we only include one colon, then `step` defaults to 1 and we just have `start:end`.\n",
    "\n",
    ":Information+"
   ]
  },
  {
   "cell_type": "markdown",
   "metadata": {},
   "source": [
    "With the information above in mind, you can quickly realise that MATLAB will slice when you put _vectors_ where you would normally place indices when extracting parts of an array.\n",
    "For example, we could extract all the even-index-elements of a vector:"
   ]
  },
  {
   "cell_type": "code",
   "execution_count": 11,
   "metadata": {},
   "outputs": [
    {
     "name": "stdout",
     "output_type": "stream",
     "text": [
      " Columns 1 through 8:\n",
      "\n",
      "   0.35460   0.56342   0.82410   0.83594   0.33024   0.12509   0.38882   0.14410\n",
      "\n",
      " Columns 9 and 10:\n",
      "\n",
      "   0.44977   0.54328\n",
      "Even-indexed values of v: \n",
      "   0.56342   0.83594   0.12509   0.14410   0.54328\n"
     ]
    }
   ],
   "source": [
    "v = rand(1,10); %random row vector of length 10\n",
    "disp(v)\n",
    "even_indexes = 2:2:length(v);\n",
    "\n",
    "fprintf('Even-indexed values of v: \\n')\n",
    "disp(v(even_indexes)) "
   ]
  },
  {
   "cell_type": "markdown",
   "metadata": {},
   "source": [
    "Or we could pick out a selection of points from a matrix that we so happened to want:"
   ]
  },
  {
   "cell_type": "code",
   "execution_count": 12,
   "metadata": {},
   "outputs": [
    {
     "name": "stdout",
     "output_type": "stream",
     "text": [
      "   0.7045116   0.1999200   0.6615499   0.1695456   0.2429256\n",
      "   0.2799325   0.1484924   0.0045608   0.6815175   0.7099859\n",
      "   0.7989726   0.5807758   0.4157583   0.2422937   0.4797343\n",
      "   0.4244812   0.5754007   0.8588832   0.1761348   0.5548463\n",
      "   0.8594306   0.1952391   0.2744462   0.4133195   0.6502574\n",
      "Our selection of indices gives us the values: \n",
      "   0.27993   0.68152\n",
      "   0.42448   0.17613\n",
      "   0.85943   0.41332\n"
     ]
    }
   ],
   "source": [
    "A = rand(5,5);\n",
    "disp(A)\n",
    "\n",
    "row_inds = [2 4 5];\n",
    "col_inds = [1 4];\n",
    "\n",
    "fprintf('Our selection of indices gives us the values: \\n')\n",
    "disp(A(row_inds, col_inds))"
   ]
  },
  {
   "cell_type": "markdown",
   "metadata": {},
   "source": [
    "Notice how even though our slices don't correspond to a continuous (or connected) subsection of our array, the extracted values still come out as a single \"block\"."
   ]
  },
  {
   "cell_type": "markdown",
   "metadata": {},
   "source": [
    "## Information+: Preallocation of arrays\n",
    "\n",
    "What do you expect to happen if the following code is run?"
   ]
  },
  {
   "cell_type": "code",
   "execution_count": 13,
   "metadata": {},
   "outputs": [],
   "source": [
    "vec = ones(1,7);\n",
    "vec(8) = 4;"
   ]
  },
  {
   "cell_type": "markdown",
   "metadata": {},
   "source": [
    "You would be forgiven for thinking that we would get an error - after all, index 8 doesn't exist in a length 7 vector.\n",
    "However this is an example of a MATLAB quirk; if you _assign_ a value to an index (or range of indices via slicing) that don't exist in an array, MATLAB will automatically extend the array and then assign the values in the extended array to those that you specified.\n",
    "\n",
    "Initially this may seem like a really useful feature... but it is not.\n",
    "Every time you use this feature to add a value to an array, MATLAB has to create a temporary array of the new size, copy the values from your old array into it, then assign the new values, then delete the old array and reassign the new array to the variable name you chose!\n",
    "This can lead to increased computation time, and is sometimes called the \"growing array problem\".\n",
    "At small array sizes, this is not a major issue.\n",
    "But for matrices $\\approx 10\\times10$ in size, it starts to become a major issue.\n",
    "\n",
    "We can circumnavigate this issue by preallocating memory for our arrays.\n",
    "What this means is that you should always initalise an array of the correct size _before_ using slicing to assign values to it's elements.\n",
    "Typically one can use the `zeros` function to do this, but `ones` or `eye` may be a better choice if the matrix you want to construct looks similar to them.\n",
    "\n",
    "Below are some examples of \"bad\" and \"good\" creation of a 4-by-4 matrix:"
   ]
  },
  {
   "cell_type": "code",
   "execution_count": 14,
   "metadata": {},
   "outputs": [
    {
     "name": "stdout",
     "output_type": "stream",
     "text": [
      "Bad method took 6.06545 seconds \n",
      "Good method took 6.06277 seconds \n"
     ]
    }
   ],
   "source": [
    "clear A\n",
    "\n",
    "%bad - assign each element without preallocation\n",
    "tic;\n",
    "A(1,1) = 1; A(1,2) = 1; A(3,1) = 1; A(1,4) = 1;\n",
    "A(2,1) = 1; A(2,2) = 1; A(2,3) = 1; A(2,4) = 1;\n",
    "A(3,1) = 1; A(3,2) = 1; A(3,3) = 1; A(3,4) = 1;\n",
    "A(4,1) = 1; A(4,2) = 1; A(4,3) = 1; A(4,4) = 1;\n",
    "t = toc;\n",
    "fprintf('Bad method took %.5f seconds \\n', t)\n",
    "\n",
    "%good - assign each element with preallocation\n",
    "clear A\n",
    "tic;\n",
    "A = zeros(4,4);\n",
    "A(1,1) = 1; A(1,2) = 1; A(3,1) = 1; A(1,4) = 1;\n",
    "A(2,1) = 1; A(2,2) = 1; A(2,3) = 1; A(2,4) = 1;\n",
    "A(3,1) = 1; A(3,2) = 1; A(3,3) = 1; A(3,4) = 1;\n",
    "A(4,1) = 1; A(4,2) = 1; A(4,3) = 1; A(4,4) = 1;\n",
    "t = toc;\n",
    "fprintf('Good method took %.5f seconds \\n', t)"
   ]
  },
  {
   "cell_type": "markdown",
   "metadata": {},
   "source": [
    ":Information+"
   ]
  },
  {
   "cell_type": "markdown",
   "metadata": {},
   "source": [
    "## Exercise: Slicing\n",
    "\n",
    "Use `load` to read in the data provided in `duck_population.mat`.\n",
    "This file contains one variable `duck_populations` which is a $3\\times 7$ array of integer values.\n",
    "The _columns_ of the array correspond to the populations of individual species of duck, whilst the _rows_ of the array correspond to the population of males, females, and ducklings ($<1$ year) across all species.\n",
    "The array can be visualised as a table:\n",
    "\n",
    "|             | Species 1 | Species 2 | Species 3 | Species 4 | Species 5 | Species 6 | Species 7 |\n",
    "|:------------|:---------:|:---------:|:---------:|:---------:|:---------:|:---------:|:---------:|\n",
    "| # Males     | 38        | 33        | 39        | 46        | 39        | 43        | 17        |\n",
    "| # Females   | 38        | 26        | 35        | 30        | 8         | 35        | 28        |\n",
    "| # Ducklings | 12        | 4         | 10        | 9         | 14        | 2         | 22        |\n",
    "\n",
    "The $3\\times 7$ array `duck_population` contains the numerical values of the table, in this arrangement.\n",
    "\n",
    "For the following tasks, the MATLAB functions `sum`, `mean`, `std`, `max` and `min` may be useful: use the `help` feature to explore how they work.\n",
    "\n",
    "1. A researcher cross-checking the data informs you that there were multiple errors upon data entry, and asks you to rectify them by creating a new array `pop_corrected`. Create the new array, and try to make the changes in as few commands as possible. The changes to be made are:\n",
    "    - Species 5's female population has been recorded as 8, where it should be 28.\n",
    "    - A number of species 6's male ducks are actually under 1 year old, and so qualify as ducklings. Reduce the number of species 6 males by 17, and increase the number of ducklings accordingly.\n",
    "    - Species 1's population recordings are actually from the survey conducted last year, rather than this year's recent data. The readings should be 45 males, 43 females, and 3 ducklings.\n",
    "    - Species 2 and 3 have each other's data; correct this!\n",
    "1. Save the new array to a file with the same name, `pop_corrected`.\n",
    "1. Find the average and standard deviation of males, females, and ducklings - displaying them to the screen in pairs to 2 decimal places.\n",
    "1. For each of males, females and ducklings, find the _species_ with the greatest and least population recorded."
   ]
  },
  {
   "cell_type": "markdown",
   "metadata": {},
   "source": [
    "## Information+: Help with `help`\n",
    "\n",
    "At first glance, MATLAB's `help` screen can be a bit of an information overload, however it's all in how you read the information that is provided.\n",
    "\n",
    "Let's look at `std` as an example:"
   ]
  },
  {
   "cell_type": "code",
   "execution_count": 15,
   "metadata": {},
   "outputs": [
    {
     "name": "stdout",
     "output_type": "stream",
     "text": [
      "perl: warning: Setting locale failed.\n",
      "perl: warning: Please check that your locale settings:\n",
      "\tLANGUAGE = \"en_GB\",\n",
      "\tLC_ALL = (unset),\n",
      "\tLC_TIME = \"C\",\n",
      "\tLC_NUMERIC = \"C\",\n",
      "\tLANG = \"en_GB.UTF-8\"\n",
      "    are supported and installed on your system.\n",
      "perl: warning: Falling back to the standard locale (\"C\").\n",
      "'std' is a function from the file /snap/octave/current/usr/share/octave/5.1.0/m/statistics/std.m\n",
      "\n",
      " -- std (X)\n",
      " -- std (X, OPT)\n",
      " -- std (X, OPT, DIM)\n",
      "     Compute the standard deviation of the elements of the vector X.\n",
      "\n",
      "     The standard deviation is defined as\n",
      "\n",
      "          std (X) = sqrt ( 1/(N-1) SUM_i (X(i) - mean(X))^2 )\n",
      "\n",
      "     where N is the number of elements of the X vector.\n",
      "\n",
      "     If X is a matrix, compute the standard deviation for each column\n",
      "     and return them in a row vector.\n",
      "\n",
      "     The argument OPT determines the type of normalization to use.\n",
      "     Valid values are\n",
      "\n",
      "     0:\n",
      "          normalize with N-1, provides the square root of the best\n",
      "          unbiased estimator of the variance [default]\n",
      "\n",
      "     1:\n",
      "          normalize with N, this provides the square root of the second\n",
      "          moment around the mean\n",
      "\n",
      "     If the optional argument DIM is given, operate along this\n",
      "     dimension.\n",
      "\n",
      "     See also: var, bounds, mad, range, iqr, mean, median.\n",
      "\n",
      "Additional help for built-in functions and operators is\n",
      "available in the online version of the manual.  Use the command\n",
      "'doc <topic>' to search the manual index.\n",
      "\n",
      "Help and information about Octave is also available on the WWW\n",
      "at https://www.octave.org and via the help@octave.org\n",
      "mailing list.\n"
     ]
    }
   ],
   "source": [
    "help std"
   ]
  },
  {
   "cell_type": "markdown",
   "metadata": {},
   "source": [
    "If you are using Octave, you may get a warning about your location settings - this is fine, ignore this.\n",
    "In addition, the names of the variables may differ from those below depending on your Octave/MATLAB version, but will still have the same roles.\n",
    "In particular, MATLAB's `help` changes format between versions, so you may get different printouts when you switch versions.\n",
    "All the information referred to below will still be there, just potentially in a different layout.\n",
    "\n",
    "You should begin reading the help from where you see the list of `std` printed, with various arguments in brackets after them.\n",
    "In this case, we have 3 of them:\n",
    "```octave\n",
    "-- std(X)\n",
    "-- std(X, OPT)\n",
    "-- std(X, OPT, DIM)\n",
    "```\n",
    "These are the 3 ways in which we can use the function `std`.\n",
    "As the variable `X` appears in every function call, we _always_ need to provide a value of `X` to `std`.\n",
    "The variables `OPT` and `DIM` however, are optional arguments.\n",
    "\n",
    "Below this list of possible ways to use the function, we get a small description of what `std` does, depending on the type of variable that `X` is.\n",
    "We see that \"if `X` is a matrix, compute the standard deviation for each column and return them as a row vector\" is what `std` will do by default for a matrix `X`.\n",
    "For a vector `X`, it will just compute the standard deviation of the entries.\n",
    "\n",
    "Under this initial description is some information about the optional arguments, `OPT` and `DIM`.\n",
    "`OPT` lets us choose _how_ we want the standard deviation calculated, telling us we can either provide the value 0 or  for `OPT`.\n",
    "Providing 0 will give us the square root of the best unbiased estimator of the varience, and is the default option; providing 1 will give the square root of the second moment about the mean.\n",
    "The optional argument `DIM` can be used to change the dimension along which we take standard deviations - if the array `X` we put in is 2-dimensional we have two choices: dimension 1 (columns) or dimension 2 (rows). \n",
    "The default option is along the columns, so `DIM=1`.\n",
    "<br />__NOTE:__ This may seem counter-intuitive; seeing as MATLAB's arrays are index by `(row, column)`. However \"operating along the rows\" has the interpretation of \"finding data by moving from row 1 to row 2 to row 3 to ... to row `end`\" rather than \"fix the row number, and look across the columns for data\".\n",
    "\n",
    "The default values for the optional arguments mean that executing the command\n",
    "```octave\n",
    "std(X)\n",
    "```\n",
    "is the same as executing\n",
    "```octave\n",
    "std(X, 0, 2)\n",
    "```\n",
    "If instead we wanted to find the standard deviation along the rows of the array `X`, we would use the command\n",
    "```octave\n",
    "std(X, 0, 1)\n",
    "```\n",
    "or if we wanted the standard deviation of the columns, but the second moment about the mean, we would use\n",
    "```octave\n",
    "std(X, 1)\n",
    "```\n",
    "__NOTE:__ There's no need to include the optional arguments that come _after_ the final optional argument you want to change from it's default."
   ]
  },
  {
   "cell_type": "markdown",
   "metadata": {},
   "source": [
    ":Information+"
   ]
  },
  {
   "cell_type": "markdown",
   "metadata": {},
   "source": [
    "## Solution+: Slicing\n",
    "\n",
    "The commands we need to execute are:"
   ]
  },
  {
   "cell_type": "code",
   "execution_count": 16,
   "metadata": {},
   "outputs": [
    {
     "name": "stdout",
     "output_type": "stream",
     "text": [
      "The corrected data looks like: \n",
      "   45   39   33   46   39   26   17\n",
      "   43   35   26   30   28   35   28\n",
      "    3   10    4    9   14   19   22\n",
      "Males | mean = 35.00 , stdev = 10.50 \n",
      "Females | mean = 32.14 , stdev = 5.93 \n",
      "Ducklings | mean = 11.57 , stdev = 7.18 \n",
      "Males | Max population is 46 for species 4 \n",
      "Females | Max population is 43 for species 1 \n",
      "Ducklings | Max population is 22 for species 7 \n",
      "Males | Min population is 17 for species 7 \n",
      "Females | Min population is 26 for species 3 \n",
      "Ducklings | Min population is 3 for species 1 \n"
     ]
    }
   ],
   "source": [
    "load ../data/duck_population %loads the data - make sure that this directory is correct!\n",
    "\n",
    "% 1 - Corrections to the data\n",
    "pop_corrected = duck_population; %as a starting point, let's take the original data.\n",
    "pop_corrected(2,5) = 28; %correct species 5, female population\n",
    "pop_corrected(1,6) = duck_population(1,6) - 17;\n",
    "pop_corrected(3,6) = duck_population(3,6) + 17; %correct species 6's male-duckling miscount\n",
    "pop_corrected(:,1) = [45; 43; 3]; %re-assign the whole of column 1, which is species 1's data\n",
    "pop_corrected(:,2:3) = [duck_population(:,3) duck_population(:,2)]; % swap species 2 and 3's data\n",
    "fprintf('The corrected data looks like: \\n')\n",
    "disp(pop_corrected)\n",
    "\n",
    "% 2 - Save the corrected data\n",
    "save \"pop_corrected.mat\" pop_corrected\n",
    "\n",
    "% 3 - Means and standard deviations\n",
    "avgs = mean(pop_corrected, 2); %row-wise \n",
    "stdevs = std(pop_corrected, 0, 2); %row-wise\n",
    "fprintf('Males | mean = %.2f , stdev = %.2f \\n', avgs(1), stdevs(1))\n",
    "fprintf('Females | mean = %.2f , stdev = %.2f \\n', avgs(2), stdevs(2))\n",
    "fprintf('Ducklings | mean = %.2f , stdev = %.2f \\n', avgs(3), stdevs(3))\n",
    "\n",
    "% 4 - Max and min\n",
    "\n",
    "%find the maximum along the rows of the array; returning the maximal values in the vector max_vals and\n",
    "% the index of the maximal value in the vector max_species. \n",
    "% Note that the index numbering corresponds to the column index, IE the species number. \n",
    "[max_vals max_species] = max(pop_corrected, [], 2); \n",
    "\n",
    "%similarly, do this for the minimal values.\n",
    "[min_vals min_species] = min(pop_corrected, [], 2);\n",
    "\n",
    "%now let's print everything out...\n",
    "fprintf('Males | Max population is %d for species %d \\n', max_vals(1), max_species(1))\n",
    "fprintf('Females | Max population is %d for species %d \\n', max_vals(2), max_species(2))\n",
    "fprintf('Ducklings | Max population is %d for species %d \\n', max_vals(3), max_species(3))\n",
    "\n",
    "fprintf('Males | Min population is %d for species %d \\n', min_vals(1), min_species(1))\n",
    "fprintf('Females | Min population is %d for species %d \\n', min_vals(2), min_species(2))\n",
    "fprintf('Ducklings | Min population is %d for species %d \\n', min_vals(3), min_species(3))"
   ]
  },
  {
   "cell_type": "markdown",
   "metadata": {},
   "source": [
    ":Solution+"
   ]
  },
  {
   "cell_type": "markdown",
   "metadata": {},
   "source": [
    "## Key Points:\n",
    "- We can `load` and `save` variables to and from the workspace. \n",
    "- We can use in built functions to isolate parts of a matrix, or use index slicing.\n",
    "- Detailed information on functions can be accessed using the `help` feature.\n",
    "- Many of MATLAB's functions work column-wise on matrices, and can have their default options changed to suit our needs."
   ]
  }
 ],
 "metadata": {
  "kernelspec": {
   "display_name": "Octave",
   "language": "octave",
   "name": "octave"
  },
  "language_info": {
   "file_extension": ".m",
   "help_links": [
    {
     "text": "GNU Octave",
     "url": "https://www.gnu.org/software/octave/support.html"
    },
    {
     "text": "Octave Kernel",
     "url": "https://github.com/Calysto/octave_kernel"
    },
    {
     "text": "MetaKernel Magics",
     "url": "https://metakernel.readthedocs.io/en/latest/source/README.html"
    }
   ],
   "mimetype": "text/x-octave",
   "name": "octave",
   "version": "5.1.0"
  }
 },
 "nbformat": 4,
 "nbformat_minor": 2
}
