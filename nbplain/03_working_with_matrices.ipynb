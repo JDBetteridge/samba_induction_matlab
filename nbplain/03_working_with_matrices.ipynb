{
 "cells": [
  {
   "cell_type": "markdown",
   "metadata": {},
   "source": [
    "# Working with Matrices"
   ]
  },
  {
   "cell_type": "markdown",
   "metadata": {},
   "source": [
    "## Overview:\n",
    "- Teaching: _time_\n",
    "- Exercises: _time_\n",
    "\n",
    "Objectives:\n",
    "- Learn how to load and save variables\n",
    "- Techniques for isolating parts of matrices (inc slicing, diag, tril/u)\n",
    "- Preallocation of memory for arrays"
   ]
  },
  {
   "cell_type": "markdown",
   "metadata": {},
   "source": [
    "## Loading and Saving Variables\n",
    "\n",
    "MATLAB's GUI allows us to save variables in the workspace to `.mat` files to access later, and to load said files back into the workspace.\n",
    "These features can be used to save on computation time and/or cost, if the information stored in the variables is time consuming to produce.\n",
    "\n",
    "As we might expect, we can save any variable in the workspace to a variable file using the `save` command.\n",
    "This command works differently to other function calls that you've seen so far.\n",
    "To use `save`, we type `save <filename> v1 v2 ...` where:\n",
    "- `<filename>` is the name of the file we want to save the variables to, input as a string!\n",
    "- `v1 v2 ...` is a list of all the variables in the workspace that we want to include in the saved file.\n",
    "\n",
    "So for example..."
   ]
  },
  {
   "cell_type": "code",
   "execution_count": 1,
   "metadata": {},
   "outputs": [],
   "source": [
    "mu0 = 4*pi*1e-7;\n",
    "useful_vector = [1; 4; 9; 16; 25];\n",
    "fun_matrix = magic(5); %the magic command creates a magic square and stores it in a matrix.\n",
    "\n",
    "save \"exampleSave\" mu0 useful_vector fun_matrix"
   ]
  },
  {
   "cell_type": "markdown",
   "metadata": {},
   "source": [
    "You should notice that, after executing the save command, a new file appears in the current directory panel of the GUI.\n",
    "\n",
    "If we were to then start a new MATLAB session and want these variables back, we can then `load` them from this file.\n",
    "The `load` command has similar syntax to `save`, except we don't need to provide it with any variable names, only the filename (as a string)."
   ]
  },
  {
   "cell_type": "code",
   "execution_count": 5,
   "metadata": {},
   "outputs": [
    {
     "name": "stdout",
     "output_type": "stream",
     "text": [
      "To prove that the values really have reloaded after a clear:\n",
      " 0.0000012566\n",
      "    1\n",
      "    4\n",
      "    9\n",
      "   16\n",
      "   25\n",
      "   17   24    1    8   15\n",
      "   23    5    7   14   16\n",
      "    4    6   13   20   22\n",
      "   10   12   19   21    3\n",
      "   11   18   25    2    9\n"
     ]
    }
   ],
   "source": [
    "clear; %remove the variables from the workspace to illustrate that we can re-load them!\n",
    "\n",
    "load \"exampleSave\"\n",
    "\n",
    "fprintf('To prove that the values really have reloaded after a clear:\\n')\n",
    "disp(mu0)\n",
    "disp(useful_vector)\n",
    "disp(fun_matrix)"
   ]
  },
  {
   "cell_type": "markdown",
   "metadata": {},
   "source": [
    "Notice how the variables reappear in the current workspace _with the same variable names_ as when we saved them.\n",
    "This leads to a warning: the `load` command will __overwrite__ the value of variables that are already stored in the workspace if they share the same name!"
   ]
  },
  {
   "cell_type": "markdown",
   "metadata": {},
   "source": [
    "## Information: Load/save via the GUI\n",
    "\n",
    "MATLAB's GUI enables you to interact with the variables in your workspace and files in the current directory using the mouse and keyboard.\n",
    "As such, you can load and save using the GUI by highlighting the variables you want to save (or files you want to load) and right-clicking, then selecting the relevant option from the drop-down menu.\n",
    "\n",
    "The `load` and `save` commands are much more useful when it comes to writing scripts though, so you should get into the hang of using them."
   ]
  },
  {
   "cell_type": "markdown",
   "metadata": {},
   "source": [
    "## What's in an array?\n",
    "\n",
    "Before we look at advanced techniques for isolating parts of arrays, we should first explore how we can access the individual entries in an array.\n",
    "The entries of an array can be accessed using indices to specify the position in the array of the value we want to extract.\n",
    "We need one index per dimension of the array, and indices range from 1 to the maximum length in that dimension of the array."
   ]
  },
  {
   "cell_type": "code",
   "execution_count": 6,
   "metadata": {},
   "outputs": [
    {
     "name": "stdout",
     "output_type": "stream",
     "text": [
      "   0.23070   0.17883   0.85662   0.86235   0.72698\n",
      "   0.61990   0.43023   0.86481   0.51062   0.77962\n",
      "   0.87419   0.13944   0.73807   0.95416   0.34846\n",
      "The element at position (1,1) of the array is 0.23070 \n"
     ]
    }
   ],
   "source": [
    "A = rand(3,5); %3-by-5 matrix with random entries\n",
    "disp(A)\n",
    "\n",
    "fprintf('The element at position (1,1) of the array is %.5f \\n', A(1,1))"
   ]
  },
  {
   "cell_type": "markdown",
   "metadata": {},
   "source": [
    "The syntax for accessing one entry in an array is to use the variable name followed by braces `( )` containing the indices.\n",
    "In this case, our array `A` is 2-dimensional (being a $3\\times5$ array/matrix) and so we must use two indices to specify the value we want to find.\n",
    "Vectors are 1-dimensonal arrays, so we only need to use a single index to specify which entry we want to look at:"
   ]
  },
  {
   "cell_type": "code",
   "execution_count": 8,
   "metadata": {},
   "outputs": [
    {
     "name": "stdout",
     "output_type": "stream",
     "text": [
      "   0.31076\n",
      "   0.43951\n",
      "   0.88017\n",
      "   0.30133\n",
      "   0.52909\n",
      "The element at position (3) of the vector is 0.88017 \n"
     ]
    }
   ],
   "source": [
    "v = rand(5,1); %column vector of length 5\n",
    "disp(v)\n",
    "\n",
    "fprintf('The element at position (3) of the vector is %.5f \\n', v(3))"
   ]
  },
  {
   "cell_type": "markdown",
   "metadata": {},
   "source": [
    "Now that we can access parts of an array, we can also assign them values and change the entries in the array directly.\n",
    "This is done by isolating an element of an array, then using the `=` operation to assign it a new value."
   ]
  },
  {
   "cell_type": "code",
   "execution_count": 13,
   "metadata": {},
   "outputs": [
    {
     "name": "stdout",
     "output_type": "stream",
     "text": [
      "   0.0442699   0.8276249   0.0567429   0.6916693   0.7520106\n",
      "   0.2128196   0.2399362   0.8262203   0.8319757   0.9906665\n",
      "   0.0686989   0.0054544   0.2227261   0.2943185   0.4871346\n",
      "A now looks like:\n",
      "   0.04427   0.82762   0.05674   0.69167   0.75201\n",
      "   0.21282   0.23994  -1.00000   0.83198   0.99067\n",
      "   0.06870   0.00545   0.22273   0.29432   0.48713\n",
      "   0.00000   0.00000   0.00000   0.00000   0.10000\n"
     ]
    }
   ],
   "source": [
    "A = rand(3,5);\n",
    "some_number_I_picked_for_an_example = 1e-1;\n",
    "disp(A)\n",
    "\n",
    "%change the (2,3) element of A to be -1\n",
    "A(2,3) = -1;\n",
    "%change the (4,5) element of A to be the value stored in the variable \"some_number_I_picked_for_an_example\"\n",
    "A(4,5) = some_number_I_picked_for_an_example;\n",
    "\n",
    "fprintf('A now looks like:\\n')\n",
    "disp(A)"
   ]
  },
  {
   "cell_type": "markdown",
   "metadata": {},
   "source": [
    "## Isolating Parts of Arrays\n",
    "\n",
    "In the previous lesson we dealt with defining arrays and performing operations on them.\n",
    "Here we look at more advanced techniques for working with arrays; in particular how we can isolate parts of an array and the in-built functions available to us when performing calculations with them.\n",
    "\n",
    "### In-built isolation functions\n",
    "\n",
    "There are some functions in MATLAB that allow us to extract parts of matrices quickly.\n",
    "`diag` is one of these functions (yes, the same `diag` as in the previous lesson); when we give it a matrix argument it returns a vector that contains the diagonal entries of the matrix.\n",
    "There are also the functions `triu` and `tril` which extract the upper and lower triangular parts of a matrix (respectively).\n",
    "\n",
    "### Isolation via \"Slicing\"\n",
    "\n",
    "Of course, we may not only be interested in the diagonal or triangular parts of an array, but instead might be looking for a \"sub-block\" of a matrix or some important components of a vector.\n",
    "In these cases, we can use a technique called _index slicing_ to aid us.\n",
    "This technique allows us to extract multiple entries at once, and also allows us to assign them at once too!\n",
    "\n",
    "To \"slice\" an array, we use a colon (`:`) when we try to access the values stored in an array.\n",
    "- If we want _all_ the entries along one dimension of the array, we just put a colon where we would normally put the index.\n",
    "- If we want a _subset_ of the entries along one dimension of the array; then either side of a colon we type the start and end indices of the subset we want to extract."
   ]
  },
  {
   "cell_type": "code",
   "execution_count": 16,
   "metadata": {},
   "outputs": [
    {
     "name": "stdout",
     "output_type": "stream",
     "text": [
      "   0.315152   0.523091   0.066759   0.996203   0.650272\n",
      "   0.546421   0.038941   0.332128   0.340572   0.757904\n",
      "   0.043923   0.370826   0.301849   0.329747   0.862171\n",
      "   0.106486   0.702288   0.414084   0.370245   0.034341\n",
      "   0.747689   0.132767   0.217329   0.884721   0.187990\n",
      "Extract the first row of A:\n",
      "   0.315152   0.523091   0.066759   0.996203   0.650272\n",
      "Extract the 3rd column of A:\n",
      "   0.066759\n",
      "   0.332128\n",
      "   0.301849\n",
      "   0.414084\n",
      "   0.217329\n",
      "Extract the 3-by-3 submatrix of A formed by the centre 9 entries\n",
      "   0.038941   0.332128   0.340572\n",
      "   0.370826   0.301849   0.329747\n",
      "   0.702288   0.414084   0.370245\n"
     ]
    }
   ],
   "source": [
    "A = rand(5,5);\n",
    "disp(A)\n",
    "\n",
    "fprintf('Extract the first row of A:\\n')\n",
    "A_first_row = A(1,:); %(1,:) means \"take row 1, and all the columns\"\n",
    "disp(A_first_row)\n",
    "\n",
    "fprintf('Extract the 3rd column of A:\\n')\n",
    "A_third_col = A(:,3); %(:,3) means \"take all the rows, and column 3\"\n",
    "disp(A_third_col)\n",
    "\n",
    "fprintf('Extract the 3-by-3 submatrix of A formed by the centre 9 entries\\n')\n",
    "A_centre_block = A(2:4,2:4); %(2:4,2:4) means \"take rows 2-4, and columns 2-4\"\n",
    "disp(A_centre_block)"
   ]
  },
  {
   "cell_type": "markdown",
   "metadata": {},
   "source": [
    "We can _assign_ values to subsets of arrays by using `=`.\n",
    "You must assign an array of values of the same shape/size as the subset you are extracting, _or_ provide a single scalar value.\n",
    "If you provide the latter, every value you extract will be set to that scalar value.\n",
    "Otherwise, you will simply insert the new array into the subset that you extracted."
   ]
  },
  {
   "cell_type": "code",
   "execution_count": 18,
   "metadata": {},
   "outputs": [
    {
     "name": "stdout",
     "output_type": "stream",
     "text": [
      "Set the centre 3-by-3 block of A to be 1 \n",
      "   0.315152   4.500000   0.066759   0.996203   0.650272\n",
      "   0.546421   1.000000   1.000000   1.000000   0.757904\n",
      "   0.043923   1.000000   1.000000   1.000000   0.862171\n",
      "   0.106486   1.000000   1.000000   1.000000   0.034341\n",
      "   0.747689   4.500000   0.217329   0.884721   0.187990\n",
      "Set every value in the 2nd column of A to be 4.5 \n",
      "   0.315152   4.500000   0.066759   0.996203   0.650272\n",
      "   0.546421   4.500000   1.000000   1.000000   0.757904\n",
      "   0.043923   4.500000   1.000000   1.000000   0.862171\n",
      "   0.106486   4.500000   1.000000   1.000000   0.034341\n",
      "   0.747689   4.500000   0.217329   0.884721   0.187990\n"
     ]
    }
   ],
   "source": [
    "fprintf('Set the centre 3-by-3 block of A to be 1 \\n')\n",
    "A(2:4,2:4) = ones(3,3); %\"take rows 2-4 and columns 2-4 and set them to be a 3-by-3 matrix of ones\"\n",
    "disp(A)\n",
    "\n",
    "fprintf('Set every value in the 2nd column of A to be 4.5 \\n')\n",
    "A(:,2) = 4.5; %\"take all the rows and the second column and set them to be 4.5\"\n",
    "disp(A)"
   ]
  },
  {
   "cell_type": "markdown",
   "metadata": {},
   "source": [
    "\"But wait!\", I hear you cry,\n",
    "<br />\"What if I want to extract the final entry of an array, but don't know the size of the array?\"\n",
    "\n",
    "For this you can use the keyword `end` when slicing. \n",
    "MATLAB interprets this as \"the value of the last index in this dimension of the array\" when you try to extract values this way."
   ]
  },
  {
   "cell_type": "code",
   "execution_count": 21,
   "metadata": {},
   "outputs": [
    {
     "name": "stdout",
     "output_type": "stream",
     "text": [
      "Extract the final entry of the 3rd column of A: \n",
      " 0.21733\n",
      "Extract everything up to the penultimate value of row 4 of A: \n",
      "   0.106486   4.500000   1.000000   1.000000   0.034341\n"
     ]
    }
   ],
   "source": [
    "fprintf('Extract the final entry of the 3rd column of A: \\n')\n",
    "disp(A(end,3))\n",
    "\n",
    "fprintf('Extract everything up to the penultimate value of row 4 of A: \\n')\n",
    "disp(A(4,1:end))"
   ]
  },
  {
   "cell_type": "markdown",
   "metadata": {},
   "source": [
    "### Index Error\n",
    "\n",
    "Notice that if you try to access part of an array that doesn't exist, for example index 5 of a vector of length 4, or index 0 of anything, you will get an \"(array index) out of bounds\" error:"
   ]
  },
  {
   "cell_type": "code",
   "execution_count": 27,
   "metadata": {},
   "outputs": [
    {
     "name": "stdout",
     "output_type": "stream",
     "text": [
      "error: v(7): out of bound 6\r\n"
     ]
    }
   ],
   "source": [
    "v = ones(1,6); %length 6 row vector\n",
    "v(7)"
   ]
  },
  {
   "cell_type": "markdown",
   "metadata": {},
   "source": [
    "## Information+: What _is_ `:` doing?\n",
    "\n",
    "You might notice that if you type `1:5` into the command line and press execute, it returns a vector:"
   ]
  },
  {
   "cell_type": "code",
   "execution_count": 19,
   "metadata": {},
   "outputs": [
    {
     "name": "stdout",
     "output_type": "stream",
     "text": [
      "ans =\r\n",
      "\r\n",
      "   1   2   3   4   5\r\n",
      "\r\n"
     ]
    }
   ],
   "source": [
    "1:5"
   ]
  },
  {
   "cell_type": "markdown",
   "metadata": {},
   "source": [
    "Indeed, `:` is itself a matrix construction function!\n",
    "It has the general syntax of `start:step:end`, where:\n",
    "- `start` is the first value we want to start at,\n",
    "- `step` is the incriment we apply to each value,\n",
    "- `end` is the value that should not be exceeded.\n",
    "\n",
    "If we only include one colon, then `step` defaults to 1 and we just have `start:end`.\n",
    "\n",
    ":+Information"
   ]
  },
  {
   "cell_type": "markdown",
   "metadata": {},
   "source": [
    "With the information above in mind, you can quickly realise that MATLAB will slice when you put _vectors_ where you would normally place indices when extracting parts of an array.\n",
    "For example, we could extract all the even-index-elements of a vector:"
   ]
  },
  {
   "cell_type": "code",
   "execution_count": 23,
   "metadata": {},
   "outputs": [
    {
     "name": "stdout",
     "output_type": "stream",
     "text": [
      " Columns 1 through 7:\n",
      "\n",
      "   0.492026   0.097772   0.834346   0.751903   0.976124   0.568754   0.500370\n",
      "\n",
      " Columns 8 through 10:\n",
      "\n",
      "   0.604579   0.873051   0.461422\n",
      "Even-indexed values of v: \n",
      "   0.097772   0.751903   0.568754   0.604579   0.461422\n"
     ]
    }
   ],
   "source": [
    "v = rand(1,10); %random row vector of length 10\n",
    "disp(v)\n",
    "even_indexes = 2:2:length(v);\n",
    "\n",
    "fprintf('Even-indexed values of v: \\n')\n",
    "disp(v(even_indexes)) "
   ]
  },
  {
   "cell_type": "markdown",
   "metadata": {},
   "source": [
    "Or we could pick out a selection of points from a matrix that we so happened to want:"
   ]
  },
  {
   "cell_type": "code",
   "execution_count": 25,
   "metadata": {},
   "outputs": [
    {
     "name": "stdout",
     "output_type": "stream",
     "text": [
      "   0.537342   0.346505   0.801154   0.508645   0.217026\n",
      "   0.069390   0.273071   0.244468   0.505714   0.381843\n",
      "   0.853598   0.672663   0.443276   0.023443   0.942026\n",
      "   0.791077   0.974682   0.168448   0.343402   0.726526\n",
      "   0.260312   0.525161   0.279559   0.819651   0.889100\n",
      "Our selection of indices is: \n",
      "   0.069390   0.505714\n",
      "   0.791077   0.343402\n",
      "   0.260312   0.819651\n"
     ]
    }
   ],
   "source": [
    "A = rand(5,5);\n",
    "disp(A)\n",
    "\n",
    "row_inds = [2 4 5];\n",
    "col_inds = [1 4];\n",
    "\n",
    "fprintf('Our selection of indices is: \\n')\n",
    "disp(A(row_inds, col_inds))"
   ]
  },
  {
   "cell_type": "markdown",
   "metadata": {},
   "source": [
    "Notice how even though our slices don't correspond to a continuous (or connected) subsection of our array, the extracted values still come out as a single \"block\"."
   ]
  },
  {
   "cell_type": "markdown",
   "metadata": {},
   "source": [
    "## Information+: Preallocation of arrays\n",
    "\n",
    "What do you expect to happen if the following code is run?"
   ]
  },
  {
   "cell_type": "code",
   "execution_count": 26,
   "metadata": {},
   "outputs": [],
   "source": [
    "vec = ones(1,7);\n",
    "vec(8) = 4;"
   ]
  },
  {
   "cell_type": "markdown",
   "metadata": {},
   "source": [
    "You would be forgiven for thinking that we would get an error - after all, index 8 doesn't exist in a length 7 vector.\n",
    "However this is an example of a MATLAB quirk; if you _assign_ a value to an index (or range of indices via slicing) that don't exist in an array, MATLAB will automatically extend the array and then assign the values in the extended array to those that you specified.\n",
    "\n",
    "Initially this may seem like a really useful feature... but it is not.\n",
    "Every time you use this feature to add a value to an array, MATLAB has to create a temporary array of the new size, copy the values from your old array into it, then assign the new values, then delete the old array and reassign the new array to the variable name you chose!\n",
    "This can lead to increased computation time, and is sometimes called the \"growing array problem\".\n",
    "At small array sizes, this is not a major issue.\n",
    "But for matrices $\\approx 10\\times10$ in size, it starts to become a major issue.\n",
    "\n",
    "We can circumnavigate this issue by preallocating memory for our arrays.\n",
    "What this means is that you should always initalise an array of the correct size _before_ using slicing to assign values to it's elements.\n",
    "Typically one can use the `zeros` function to do this, but `ones` or `eye` may be a better choice if the matrix you want to construct looks similar to them.\n",
    "\n",
    "Below are some examples of \"bad\" and \"good\" creation of a 4-by-4 matrix:"
   ]
  },
  {
   "cell_type": "code",
   "execution_count": 35,
   "metadata": {},
   "outputs": [],
   "source": [
    "%bad - assign each element without preallocation\n",
    "A(1,1) = 1; A(1,2) = 1; A(3,1) = 1; A(1,4) = 1;\n",
    "A(2,1) = 1; A(2,2) = 1; A(2,3) = 1; A(2,4) = 1;\n",
    "A(3,1) = 1; A(3,2) = 1; A(3,3) = 1; A(3,4) = 1;\n",
    "A(4,1) = 1; A(4,2) = 1; A(4,3) = 1; A(4,4) = 1;\n",
    "\n",
    "%good - assign each element with preallocation\n",
    "clear A\n",
    "A = zeros(4,4);\n",
    "A(1,1) = 1; A(1,2) = 1; A(3,1) = 1; A(1,4) = 1;\n",
    "A(2,1) = 1; A(2,2) = 1; A(2,3) = 1; A(2,4) = 1;\n",
    "A(3,1) = 1; A(3,2) = 1; A(3,3) = 1; A(3,4) = 1;\n",
    "A(4,1) = 1; A(4,2) = 1; A(4,3) = 1; A(4,4) = 1;"
   ]
  },
  {
   "cell_type": "markdown",
   "metadata": {},
   "source": [
    ":+Information"
   ]
  },
  {
   "cell_type": "markdown",
   "metadata": {},
   "source": [
    "## Exercise: Slicing???"
   ]
  },
  {
   "cell_type": "markdown",
   "metadata": {},
   "source": [
    "## Solution: Slicing???"
   ]
  }
 ],
 "metadata": {
  "kernelspec": {
   "display_name": "Octave",
   "language": "octave",
   "name": "octave"
  },
  "language_info": {
   "file_extension": ".m",
   "help_links": [
    {
     "text": "GNU Octave",
     "url": "https://www.gnu.org/software/octave/support.html"
    },
    {
     "text": "Octave Kernel",
     "url": "https://github.com/Calysto/octave_kernel"
    },
    {
     "text": "MetaKernel Magics",
     "url": "https://metakernel.readthedocs.io/en/latest/source/README.html"
    }
   ],
   "mimetype": "text/x-octave",
   "name": "octave",
   "version": "5.1.0"
  }
 },
 "nbformat": 4,
 "nbformat_minor": 2
}
