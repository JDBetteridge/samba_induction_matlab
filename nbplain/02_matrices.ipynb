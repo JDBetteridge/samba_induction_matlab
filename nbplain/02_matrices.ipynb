{
 "cells": [
  {
   "cell_type": "markdown",
   "metadata": {},
   "source": [
    "# Matrices and Array Handling"
   ]
  },
  {
   "cell_type": "markdown",
   "metadata": {},
   "source": [
    "## Overview: \n",
    "- Teaching: _time_\n",
    "- Exercises: _time_\n",
    "\n",
    "Objectives:\n",
    "- Defining matrices (inc. special matrices eye, zeros, rand, randn)\n",
    "- Matrix manipulation and operations (ele-wise and matrix-vector, and \\)\n",
    "- Preallocation!\n",
    "- Extracting parts of matrices (inc diag, tril/u)\n",
    "- Matrix functions (norm, det, sum, etc)"
   ]
  },
  {
   "cell_type": "markdown",
   "metadata": {},
   "source": [
    "## Vectors and Matrices\n",
    "\n",
    "In the previous lesson we defined a few variables which stored some particular numbers, with one number per variable.\n",
    "However we often find in applications that we are working with matrices or vectors, and it would be inefficient and confusing to have one variable defined for each element we needed to store!\n",
    "Fortunately, MATLAB is built with a focus on making operations with matrices and vectors straightforward and (mathematically) intutitive.\n",
    "\n",
    "But first things first, let's explore how we can define vectors and matrices."
   ]
  },
  {
   "cell_type": "markdown",
   "metadata": {},
   "source": [
    "### Manual Definition\n",
    "\n",
    "We can manually define a vector using square braces `[ ]` and asigning it to a variable name."
   ]
  },
  {
   "cell_type": "code",
   "execution_count": 1,
   "metadata": {},
   "outputs": [],
   "source": [
    "sample_row_vector = [1 2 3 4 5];\n",
    "sample_col_vector = [1; 2; 3; 4; 5];"
   ]
  },
  {
   "cell_type": "markdown",
   "metadata": {},
   "source": [
    "The code above defines two vectors in this way.\n",
    "The first is a row-vector of 5 elements, and the second a column vector of 5 elements.\n",
    "Notice how we include a semicolon `;` _inside_ the square braces to denote that we are starting a new row.\n",
    "Leaving a space between values means that MATLAB will interpret the values as begin in the same row.\n",
    "\n",
    "We can check the size or _dimensions_ of a vector using the `size` command:"
   ]
  },
  {
   "cell_type": "code",
   "execution_count": 3,
   "metadata": {},
   "outputs": [
    {
     "name": "stdout",
     "output_type": "stream",
     "text": [
      "   1   5\n",
      "   5   1\n"
     ]
    }
   ],
   "source": [
    "disp(size(sample_row_vector))\n",
    "disp(size(sample_col_vector))"
   ]
  },
  {
   "cell_type": "markdown",
   "metadata": {},
   "source": [
    "`size` takes in a vector as an argument and returns another vector whose elements are the dimensions of the input.\n",
    "We see that `sample_row_vector` has dimensions $1\\times5$ - $1$ row and $5$ columns - whilst `sample_col_vector` has dimensions $5\\times1$."
   ]
  },
  {
   "cell_type": "markdown",
   "metadata": {},
   "source": [
    "## Information: Saving Sizes\n",
    "\n",
    "We can save the output of a `size` command to a variable, so that we can access the size of a vector later on in some code that we are writing.\n",
    "This is useful when _preallocating_ memory - which we will come to consider later."
   ]
  },
  {
   "cell_type": "markdown",
   "metadata": {},
   "source": [
    "We can manually define matrices in a similar way to vectors - using square braces and using semicolons to start new rows in the matrix; and use the `size` command to check what their shape is."
   ]
  },
  {
   "cell_type": "code",
   "execution_count": 6,
   "metadata": {},
   "outputs": [
    {
     "name": "stdout",
     "output_type": "stream",
     "text": [
      "   3   3\n",
      "   2   4\n"
     ]
    }
   ],
   "source": [
    "sample_square_matrix = [1 2 3; 4 5 6; 7 8 9;];\n",
    "sample_rect_matrix = [1 2 3 4; 5 6 7 8;];\n",
    "disp(size(sample_square_matrix))\n",
    "disp(size(sample_rect_matrix))"
   ]
  },
  {
   "cell_type": "markdown",
   "metadata": {},
   "source": [
    "In addition, we can also construct matrices by \"sticking\" vectors together, making sure that the dimensions all match up!"
   ]
  },
  {
   "cell_type": "code",
   "execution_count": 11,
   "metadata": {},
   "outputs": [
    {
     "name": "stdout",
     "output_type": "stream",
     "text": [
      "Sticking some rows together...\n",
      "   1   2   3   4   5\n",
      "   9   8   7   6   5\n",
      "And now to stick columns together...\n",
      "   1   9\n",
      "   2   8\n",
      "   3   7\n",
      "   4   6\n",
      "   5   5\n"
     ]
    }
   ],
   "source": [
    "fprintf('Sticking some rows together...\\n')\n",
    "row_1 = sample_row_vector;\n",
    "row_2 = [9 8 7 6 5];\n",
    "row_sticking = [row_1 ; row_2]; %note the semicolon as we are putting row_1 on top of row_2\n",
    "disp(row_sticking)\n",
    "\n",
    "fprintf('And now to stick columns together...\\n')\n",
    "col_1 = sample_col_vector;\n",
    "col_2 = [9; 8; 7; 6; 5];\n",
    "col_sticking = [col_1 col_2]; %note the space as we are putting col_1 next to col_2\n",
    "disp(col_sticking)"
   ]
  },
  {
   "cell_type": "markdown",
   "metadata": {},
   "source": [
    "### Matrix-Vector Operations\n",
    "\n",
    "Once we have defined some suitable matrices and vectors, we can use the operators `+` (addition), `-` (subtraction) and `*` (matrix-multiply) on them, provided that the calculation obeys the rules for matching dimensions when working with matrices!\n",
    "\n",
    "Note that when dealing with scalars, multiplcation using `*` and division (using `/`) will both work element-wise, as should be expected.\n",
    "However MATLAB will interpret \"matrix `+` scalar\" or \"vector `+` scalar\" as \"add the scalar to _every_ element in the matrix or vector - so make sure that you double check that an operation is really doing what you want it to!"
   ]
  },
  {
   "cell_type": "code",
   "execution_count": 15,
   "metadata": {},
   "outputs": [
    {
     "name": "stdout",
     "output_type": "stream",
     "text": [
      "Multiply a matrix by the sum of two vectors: \n",
      "   2\n",
      "   1\n",
      "   0\n",
      "Adding a scalar to a matrix can have odd consequences: \n",
      "   5   6   5\n",
      "   6   5   5\n",
      "   5   5   6\n"
     ]
    }
   ],
   "source": [
    "e_1 = [1; 0; 0];\n",
    "e_2 = [0; 1; 0];\n",
    "e_3 = [0; 0; 1];\n",
    "change_of_basis = [0 1 0; 1 0 0; 0 0 1];\n",
    "\n",
    "fprintf('Multiply a matrix by the sum of two vectors: \\n')\n",
    "disp(change_of_basis*(e_1+2*e_2))\n",
    "fprintf('Adding a scalar to a matrix can have odd consequences: \\n')\n",
    "disp(change_of_basis + 5)"
   ]
  },
  {
   "cell_type": "markdown",
   "metadata": {},
   "source": [
    "We can also perform _element-wise_ versions of multiplication and division between vectors or matrices of the same size by using a dot (`.`) before the operation.\n",
    "\n",
    "So for example..."
   ]
  },
  {
   "cell_type": "code",
   "execution_count": 17,
   "metadata": {},
   "outputs": [
    {
     "name": "stdout",
     "output_type": "stream",
     "text": [
      "Element-wise multiply two row vectors...\n",
      "    2   12   30\n",
      "Element-wise divide two matrices...\n",
      "   0.10000   1.00000\n",
      "   0.66667   0.20000\n",
      "Useful trick: reciprocate all elements of a vector (also works on matrices): \n",
      "   1.00000   0.33333   0.20000\n"
     ]
    }
   ],
   "source": [
    "fprintf('Element-wise multiply two row vectors...\\n')\n",
    "row_1 = [1 3 5];\n",
    "row_2 = [2 4 6];\n",
    "product_row = row_1 .* row_2;\n",
    "disp(product_row)\n",
    "\n",
    "fprintf('Element-wise divide two matrices...\\n')\n",
    "mat_1 = [1 2; 2 1];\n",
    "mat_2 = [10 2; 3 5];\n",
    "div_mat = mat_1 ./ mat_2;\n",
    "disp(div_mat)\n",
    "\n",
    "fprintf('Useful trick: reciprocate all elements of a vector (also works on matrices): \\n')\n",
    "recip_vec = 1 ./ row_1;\n",
    "disp(recip_vec)"
   ]
  },
  {
   "cell_type": "markdown",
   "metadata": {},
   "source": [
    "### The `\\` Operation\n",
    "\n",
    "One of MATLAB's centrepiece operations is the backslash `\\` operator for matrices and vectors.\n",
    "Whilst division of matrices by vectors or other matrices is not defined mathematically, this operator is used to solve linear systems in a shorthand notation.\n",
    "\n",
    "For example, if `A` is a $3\\times3$ matrix and `b` is a column-vector of length $3$, then `x = A\\b` finds the solution to the linear system `Ax = b`, and stores the answer (a column vector of length 3) in `x`.\n",
    "As an example:"
   ]
  },
  {
   "cell_type": "code",
   "execution_count": 18,
   "metadata": {},
   "outputs": [
    {
     "name": "stdout",
     "output_type": "stream",
     "text": [
      "   0.33333\r\n",
      "   1.33333\r\n",
      "   3.00000\r\n"
     ]
    }
   ],
   "source": [
    "A = 3*change_of_basis;\n",
    "b = [4; 1; 9];\n",
    "\n",
    "x = A\\b;\n",
    "disp(x)"
   ]
  },
  {
   "cell_type": "markdown",
   "metadata": {},
   "source": [
    "## Exercise: Use of Operations\n",
    "\n",
    "Using the command line in MATLAB (or a script if you prefer), perform the following tasks:\n",
    "1. Define three column vectors `x, y, z` of length 3, with your choice of entries (be adventurous but sensible, with the next task in mind).\n",
    "1. Check that the vectors are orthogonal to each other, namely that $$\\sum_{i=1}^3 x_i y_i = 0 $$ and similarly for each possible pairing. To do this, try using element-wise multiplication, displaying the output and summing the entries of the resulting vector.\n",
    "1. __(If your vectors are not orthogonal)__ Alter your vectors so that they are orthogonal.\n",
    "1. Construct a matrix `M` whose columns correspond to the 3 vectors you have defined.\n",
    "1. Find the solution `w` to `Mw = b` where `b = [1; 1; 1];`, and print it to the screen."
   ]
  },
  {
   "cell_type": "markdown",
   "metadata": {},
   "source": [
    "## Solution+: Use of Operations\n",
    "\n",
    "The commands you entered into the command line should look something like this:"
   ]
  },
  {
   "cell_type": "code",
   "execution_count": 20,
   "metadata": {},
   "outputs": [
    {
     "name": "stdout",
     "output_type": "stream",
     "text": [
      "x .* y: \n",
      "   0\n",
      "   0\n",
      "   0\n",
      "x .* z: \n",
      "   0\n",
      "   0\n",
      "   0\n",
      "y .* z: \n",
      "   0\n",
      "   0\n",
      "   0\n",
      "warning: matrix singular to machine precision\n",
      "Solution w: \n",
      "   0\n",
      "   0\n",
      "   0\n"
     ]
    }
   ],
   "source": [
    "x = [0; 0; 0];\n",
    "y = [0; 0; 0];\n",
    "z = [0; 0; 0];\n",
    "\n",
    "fprintf('x .* y: \\n')\n",
    "disp(x .* y)\n",
    "fprintf('x .* z: \\n')\n",
    "disp(x .* z)\n",
    "fprintf('y .* z: \\n')\n",
    "disp(y .* z)\n",
    "\n",
    "M = [x y z];\n",
    "w = M\\b;\n",
    "fprintf('Solution w: \\n')\n",
    "disp(w)"
   ]
  },
  {
   "cell_type": "markdown",
   "metadata": {},
   "source": [
    ":+Solution"
   ]
  },
  {
   "cell_type": "markdown",
   "metadata": {},
   "source": [
    "### Matrix Construction Functions\n",
    "\n",
    "Whilst manual definition is suitable for small dimensional matrices and vectors, it is highly impractical for most computing purposes - woe betide the person who tries to define a $100\\times100$ matrix by hand!\n",
    "Instead of manually defining a vector or matrix using square braces and filling the entries out ourselves, we can call in-built functions to construct matrices and vectors of the correct size, then use matrix operations (or __not recommended__ `for`-loops) to fill out the entries ourselves."
   ]
  },
  {
   "cell_type": "code",
   "execution_count": null,
   "metadata": {},
   "outputs": [],
   "source": []
  },
  {
   "cell_type": "code",
   "execution_count": null,
   "metadata": {},
   "outputs": [],
   "source": []
  },
  {
   "cell_type": "code",
   "execution_count": null,
   "metadata": {},
   "outputs": [],
   "source": []
  },
  {
   "cell_type": "code",
   "execution_count": null,
   "metadata": {},
   "outputs": [],
   "source": []
  },
  {
   "cell_type": "code",
   "execution_count": null,
   "metadata": {},
   "outputs": [],
   "source": []
  }
 ],
 "metadata": {
  "kernelspec": {
   "display_name": "Octave",
   "language": "octave",
   "name": "octave"
  },
  "language_info": {
   "file_extension": ".m",
   "help_links": [
    {
     "text": "GNU Octave",
     "url": "https://www.gnu.org/software/octave/support.html"
    },
    {
     "text": "Octave Kernel",
     "url": "https://github.com/Calysto/octave_kernel"
    },
    {
     "text": "MetaKernel Magics",
     "url": "https://metakernel.readthedocs.io/en/latest/source/README.html"
    }
   ],
   "mimetype": "text/x-octave",
   "name": "octave",
   "version": "5.1.0"
  }
 },
 "nbformat": 4,
 "nbformat_minor": 2
}
