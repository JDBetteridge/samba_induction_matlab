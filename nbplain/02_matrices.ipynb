{
 "cells": [
  {
   "cell_type": "markdown",
   "metadata": {},
   "source": [
    "# Matrices and Array Handling"
   ]
  },
  {
   "cell_type": "markdown",
   "metadata": {},
   "source": [
    "## Overview: \n",
    "- Teaching: _time_\n",
    "- Exercises: _time_\n",
    "\n",
    "Objectives:\n",
    "- Learn how to define arrays in MATLAB\n",
    "- Introduce the operations we can perform on arrays\n",
    "- How to use in-built MATLAB functions to construct matrices quickly"
   ]
  },
  {
   "cell_type": "markdown",
   "metadata": {},
   "source": [
    "## Vectors and Matrices\n",
    "\n",
    "In the previous lesson we defined a few variables which stored some particular numbers, with one number per variable.\n",
    "However we often find in applications that we are working with matrices or vectors, and it would be inefficient and confusing to have one variable defined for each element we needed to store!\n",
    "Fortunately, MATLAB is built with a focus on making operations with matrices and vectors straightforward and (mathematically) intutitive.\n",
    "\n",
    "Vectors and matrices are in fact special cases of the more general structures called _arrays_ that MATLAB can handle.\n",
    "A vector is a 1-dimensional array, a matrix is a 2-dimensional array, but arrays can have as many dimensions as needed (subject to hardware limitations, of course!).\n",
    "In what follows it's sufficient to read \"array\" as \"matrix or vector\" throughout, although keep in mind this generalisaton.\n",
    "First things first, let's explore how we can define arrays."
   ]
  },
  {
   "cell_type": "markdown",
   "metadata": {},
   "source": [
    "### Manual Definition\n",
    "\n",
    "We can manually define a vector using square braces `[ ]` and asigning it to a variable name."
   ]
  },
  {
   "cell_type": "code",
   "execution_count": 1,
   "metadata": {},
   "outputs": [
    {
     "ename": "SyntaxError",
     "evalue": "invalid syntax (<ipython-input-1-34bb1b328054>, line 1)",
     "output_type": "error",
     "traceback": [
      "\u001b[0;36m  File \u001b[0;32m\"<ipython-input-1-34bb1b328054>\"\u001b[0;36m, line \u001b[0;32m1\u001b[0m\n\u001b[0;31m    sample_row_vector = [1 2 3 4 5];\u001b[0m\n\u001b[0m                           ^\u001b[0m\n\u001b[0;31mSyntaxError\u001b[0m\u001b[0;31m:\u001b[0m invalid syntax\n"
     ]
    }
   ],
   "source": [
    "sample_row_vector = [1 2 3 4 5];\n",
    "sample_col_vector = [1; 2; 3; 4; 5];"
   ]
  },
  {
   "cell_type": "markdown",
   "metadata": {},
   "source": [
    "The code above defines two vectors in this way.\n",
    "The first is a row-vector of 5 elements, and the second a column vector of 5 elements.\n",
    "Notice how we include a semicolon `;` _inside_ the square braces to denote that we are starting a new row.\n",
    "Leaving a space between values means that MATLAB will interpret the values as begin in the same row.\n",
    "\n",
    "We can check the size or _dimensions_ of a vector using the `size` command:"
   ]
  },
  {
   "cell_type": "code",
   "execution_count": 2,
   "metadata": {},
   "outputs": [
    {
     "name": "stdout",
     "output_type": "stream",
     "text": [
      "   1   5\n",
      "   5   1\n"
     ]
    }
   ],
   "source": [
    "disp(size(sample_row_vector))\n",
    "disp(size(sample_col_vector))"
   ]
  },
  {
   "cell_type": "markdown",
   "metadata": {},
   "source": [
    "`size` takes in a vector as an argument and returns another vector whose elements are the dimensions of the input.\n",
    "We see that `sample_row_vector` has dimensions $1\\times5$ - $1$ row and $5$ columns - whilst `sample_col_vector` has dimensions $5\\times1$."
   ]
  },
  {
   "cell_type": "markdown",
   "metadata": {},
   "source": [
    "## Information: Saving Sizes\n",
    "\n",
    "We can save the output of a `size` command to a variable, like so,\n",
    "```octave\n",
    "size_row_vector = size(sample_row_vector);\n",
    "```\n",
    "so that we can access the size of a vector later on in some code that we are writing.\n",
    "This is useful when _preallocating_ memory - which we will come to consider later."
   ]
  },
  {
   "cell_type": "markdown",
   "metadata": {},
   "source": [
    "We can manually define matrices in a similar way to vectors - using square braces and using semicolons to start new rows in the matrix; and use the `size` command to check what their shape is."
   ]
  },
  {
   "cell_type": "code",
   "execution_count": 3,
   "metadata": {},
   "outputs": [
    {
     "name": "stdout",
     "output_type": "stream",
     "text": [
      "   3   3\n",
      "   2   4\n"
     ]
    }
   ],
   "source": [
    "sample_square_matrix = [1 2 3; 4 5 6; 7 8 9;];\n",
    "sample_rect_matrix = [1 2 3 4; 5 6 7 8;];\n",
    "disp(size(sample_square_matrix))\n",
    "disp(size(sample_rect_matrix))"
   ]
  },
  {
   "cell_type": "markdown",
   "metadata": {},
   "source": [
    "In addition, we can also construct matrices by \"sticking\" vectors together, making sure that the dimensions all match up!"
   ]
  },
  {
   "cell_type": "code",
   "execution_count": 4,
   "metadata": {},
   "outputs": [
    {
     "name": "stdout",
     "output_type": "stream",
     "text": [
      "Sticking some rows together...\n",
      "   1   2   3   4   5\n",
      "   9   8   7   6   5\n",
      "And now to stick columns together...\n",
      "   1   9\n",
      "   2   8\n",
      "   3   7\n",
      "   4   6\n",
      "   5   5\n"
     ]
    }
   ],
   "source": [
    "fprintf('Sticking some rows together...\\n')\n",
    "row_1 = sample_row_vector;\n",
    "row_2 = [9 8 7 6 5];\n",
    "row_sticking = [row_1 ; row_2]; %note the semicolon as we are putting row_1 on top of row_2\n",
    "disp(row_sticking)\n",
    "\n",
    "fprintf('And now to stick columns together...\\n')\n",
    "col_1 = sample_col_vector;\n",
    "col_2 = [9; 8; 7; 6; 5];\n",
    "col_sticking = [col_1 col_2]; %note the space as we are putting col_1 next to col_2\n",
    "disp(col_sticking)"
   ]
  },
  {
   "cell_type": "markdown",
   "metadata": {},
   "source": [
    "### Matrix-Vector Operations\n",
    "\n",
    "Once we have defined some suitable matrices and vectors, we can use the operators `+` (addition), `-` (subtraction) and `*` (matrix-multiply) on them, provided that the calculation obeys the rules for matching dimensions when working with matrices!\n",
    "\n",
    "Note that when dealing with scalars, multiplcation using `*` and division (using `/`) will both work element-wise, as should be expected.\n",
    "However MATLAB will interpret \"matrix `+` scalar\" or \"vector `+` scalar\" as \"add the scalar to _every_ element in the matrix or vector - so make sure that you double check that an operation is really doing what you want it to!"
   ]
  },
  {
   "cell_type": "code",
   "execution_count": 5,
   "metadata": {},
   "outputs": [
    {
     "name": "stdout",
     "output_type": "stream",
     "text": [
      "Multiply a matrix by the sum of two vectors: \n",
      "   2\n",
      "   1\n",
      "   0\n",
      "Adding a scalar to a matrix can have odd consequences: \n",
      "   5   6   5\n",
      "   6   5   5\n",
      "   5   5   6\n"
     ]
    }
   ],
   "source": [
    "e_1 = [1; 0; 0];\n",
    "e_2 = [0; 1; 0];\n",
    "e_3 = [0; 0; 1];\n",
    "change_of_basis = [0 1 0; 1 0 0; 0 0 1];\n",
    "\n",
    "fprintf('Multiply a matrix by the sum of two vectors: \\n')\n",
    "disp(change_of_basis*(e_1+2*e_2))\n",
    "fprintf('Adding a scalar to a matrix can have odd consequences: \\n')\n",
    "disp(change_of_basis + 5)"
   ]
  },
  {
   "cell_type": "markdown",
   "metadata": {},
   "source": [
    "## Information+: Dimension Mismatch\n",
    "\n",
    "What happens if we try to get MATLAB to perform a matrix operation between variables whose dimensions don't agree?\n",
    "If we try the following code..."
   ]
  },
  {
   "cell_type": "code",
   "execution_count": 6,
   "metadata": {},
   "outputs": [
    {
     "name": "stdout",
     "output_type": "stream",
     "text": [
      "error: operator *: nonconformant arguments (op1 is 3x4, op2 is 1x3)\r\n"
     ]
    }
   ],
   "source": [
    "wrong_vec = [1 2 3]; %row vector of length 3\n",
    "wrong_mat = [1 2 3 4; 5 6 7 8; 9 10 11 12]; %3-by-4 matrix\n",
    "\n",
    "wrong_mat * wrong_vec"
   ]
  },
  {
   "cell_type": "markdown",
   "metadata": {},
   "source": [
    "We get a \"dimension mismatch\" (\"nonconformant arguments\", depending on your MATLAB version) error. \n",
    "MATLAB is clever enough to work out that we can't perform this calculation, so stops trying and tells you about it!\n",
    "\n",
    "Notice how MATLAB _will_ perform the calculation if we multiply in the correct order:"
   ]
  },
  {
   "cell_type": "code",
   "execution_count": 7,
   "metadata": {},
   "outputs": [
    {
     "name": "stdout",
     "output_type": "stream",
     "text": [
      "   38   44   50   56\r\n"
     ]
    }
   ],
   "source": [
    "disp(wrong_vec * wrong_mat)"
   ]
  },
  {
   "cell_type": "markdown",
   "metadata": {},
   "source": [
    ":+Information"
   ]
  },
  {
   "cell_type": "markdown",
   "metadata": {},
   "source": [
    "We can also perform _element-wise_ versions of multiplication and division between vectors or matrices of the same size by using a dot (`.`) before the operation.\n",
    "\n",
    "So for example..."
   ]
  },
  {
   "cell_type": "code",
   "execution_count": 8,
   "metadata": {},
   "outputs": [
    {
     "name": "stdout",
     "output_type": "stream",
     "text": [
      "Element-wise multiply two row vectors...\n",
      "    2   12   30\n",
      "Element-wise divide two matrices...\n",
      "   0.10000   1.00000\n",
      "   0.66667   0.20000\n",
      "Useful trick: reciprocate all elements of a vector (also works on matrices): \n",
      "   1.00000   0.33333   0.20000\n"
     ]
    }
   ],
   "source": [
    "fprintf('Element-wise multiply two row vectors...\\n')\n",
    "row_1 = [1 3 5];\n",
    "row_2 = [2 4 6];\n",
    "product_row = row_1 .* row_2;\n",
    "disp(product_row)\n",
    "\n",
    "fprintf('Element-wise divide two matrices...\\n')\n",
    "mat_1 = [1 2; 2 1];\n",
    "mat_2 = [10 2; 3 5];\n",
    "div_mat = mat_1 ./ mat_2;\n",
    "disp(div_mat)\n",
    "\n",
    "fprintf('Useful trick: reciprocate all elements of a vector (also works on matrices): \\n')\n",
    "recip_vec = 1 ./ row_1;\n",
    "disp(recip_vec)"
   ]
  },
  {
   "cell_type": "markdown",
   "metadata": {},
   "source": [
    "### The `\\` Operation\n",
    "\n",
    "One of MATLAB's centrepiece operations is the backslash `\\` operator for matrices and vectors.\n",
    "Whilst division of matrices by vectors or other matrices is not defined mathematically, this operator is used to solve linear systems in a shorthand notation.\n",
    "\n",
    "For example, if `A` is a $3\\times3$ matrix and `b` is a column-vector of length $3$, then `x = A\\b` finds the solution to the linear system `Ax = b`, and stores the answer (a column vector of length 3) in `x`.\n",
    "As an example:"
   ]
  },
  {
   "cell_type": "code",
   "execution_count": 9,
   "metadata": {},
   "outputs": [
    {
     "name": "stdout",
     "output_type": "stream",
     "text": [
      "   0.33333\r\n",
      "   1.33333\r\n",
      "   3.00000\r\n"
     ]
    }
   ],
   "source": [
    "A = 3*change_of_basis;\n",
    "b = [4; 1; 9];\n",
    "\n",
    "x = A\\b;\n",
    "disp(x)"
   ]
  },
  {
   "cell_type": "markdown",
   "metadata": {},
   "source": [
    "## Exercise: Use of Operations\n",
    "\n",
    "Using the command line in MATLAB (or a script if you prefer), perform the following tasks:\n",
    "1. Define three column vectors `x, y, z` of length 3, with your choice of entries (be adventurous but sensible, with the next task in mind).\n",
    "1. Check that the vectors are orthogonal to each other, namely that $$\\sum_{i=1}^3 x_i y_i = 0 $$ and similarly for each possible pairing. To do this, try using element-wise multiplication, then applying the `sum` function to the result, and displaying the output.\n",
    "1. __(If your vectors are not orthogonal)__ Alter your vectors so that they are orthogonal.\n",
    "1. Construct a matrix `M` whose columns correspond to the 3 vectors you have defined.\n",
    "1. Find the solution `w` to `Mw = b` where `b = [1; 1; 1];`, and print it to the screen."
   ]
  },
  {
   "cell_type": "markdown",
   "metadata": {},
   "source": [
    "## Solution+: Use of Operations\n",
    "\n",
    "The commands you entered into the command line should look something like this:"
   ]
  },
  {
   "cell_type": "code",
   "execution_count": 10,
   "metadata": {},
   "outputs": [
    {
     "name": "stdout",
     "output_type": "stream",
     "text": [
      "x .* y: \n",
      "0\n",
      "x .* z: \n",
      "0\n",
      "y .* z: \n",
      "0\n",
      "Solution w: \n",
      "   0.076923\n",
      "   0.285714\n",
      "   0.098901\n"
     ]
    }
   ],
   "source": [
    "x = [0; -2; 3];\n",
    "y = [-1; 3; 2];\n",
    "z = [13; 3; 2];\n",
    "\n",
    "fprintf('x .* y: \\n')\n",
    "disp( sum(x .* y) )\n",
    "fprintf('x .* z: \\n')\n",
    "disp( sum(x .* z) )\n",
    "fprintf('y .* z: \\n')\n",
    "disp( sum(y .* z) )\n",
    "\n",
    "M = [x y z];\n",
    "b = ones(3,1);\n",
    "\n",
    "w = M\\b;\n",
    "fprintf('Solution w: \\n')\n",
    "disp(w)"
   ]
  },
  {
   "cell_type": "markdown",
   "metadata": {},
   "source": [
    ":+Solution"
   ]
  },
  {
   "cell_type": "markdown",
   "metadata": {},
   "source": [
    "### Matrix Construction Functions\n",
    "\n",
    "Whilst manual definition is suitable for small dimensional matrices and vectors, it is highly impractical for most computing purposes - woe betide the person who tries to define a $100\\times100$ matrix by hand!\n",
    "Instead of manually defining a vector or matrix using square braces and filling the entries out ourselves, we can call in-built functions to construct matrices and vectors of the correct size, then use matrix operations (or the __highly not recommended__ `for`-loops) to fill out the entries ourselves.\n",
    "\n",
    "There are several functions that can help us create new matrices.\n",
    "The two most commonly used are `zeros` and `ones` which take in a set of dimensions as inputs, and return an array of that dimension for us.\n",
    "Using `zeros` gives us back an array filled entirely with 0, whilst `ones` (shock horror) will return an array filled with 1.\n",
    "\n",
    "Normally, we would use these two functions for preallocation - more on that later."
   ]
  },
  {
   "cell_type": "code",
   "execution_count": 11,
   "metadata": {},
   "outputs": [],
   "source": [
    "example_zeros = zeros(1,10); %a row vector (1 row, 10 columns) of zeros.\n",
    "example_ones = ones(5,5); %a 5-by-5 matrix of 1s.\n",
    "example_zeros_2 = zeros(6,1); %a column vector (6 rows, 1 column) of zeros.\n",
    "example_ones_2 = ones(3,27); %a rectanglular 3-by-27 matrix."
   ]
  },
  {
   "cell_type": "markdown",
   "metadata": {},
   "source": [
    "Other functions that we can use to construct matrices are `eye` (which creates the identity matrix) and `diag` which can create diagonal matrices.\n",
    "Be careful with `diag` - it has lots of uses subject to it's inputs!\n",
    "\n",
    "Finally, there is also `linspace` and `logspace` - functions that create vectors of equally-spaced entries."
   ]
  },
  {
   "cell_type": "markdown",
   "metadata": {},
   "source": [
    "## Information: MATLAB help\n",
    "\n",
    "If you are confused about what a function in MATLAB does, you can use MATLAB's `help` feature to access the in-built guide for it.\n",
    "\n",
    "Simply type `help` followed by the function name into the command line and execute the command.\n",
    "For example,\n",
    "```octave\n",
    "help diag\n",
    "```\n",
    "will bring up all the information on `diag` that MATLAB holds."
   ]
  },
  {
   "cell_type": "markdown",
   "metadata": {},
   "source": [
    "## Information: Random Matrices\n",
    "\n",
    "We can also generate matrices with random entries using the `rand` (uniform $[0,1]$ entries) or `randn` (normally distributed entries), which can be useful for creating test cases for your code."
   ]
  },
  {
   "cell_type": "markdown",
   "metadata": {},
   "source": [
    "## Exercise: Constructing a Finite Difference Matrix\n",
    "\n",
    "When working with 1-dimensional Finite Differences to solve Differential Equations, we need to construct a particular matrix to compute our numerical solution.\n",
    "\n",
    "Let $N\\in\\mathbb{N}$ (contextually this is the number of mesh points we have placed), then the finite difference matrix `FEM_N` that we want to construct is an $N\\times N$ tridiagonal matrix with 2 on the leading diagonal and -1 on the super- and sub-diagonal.\n",
    "\n",
    "Using MATLAB's `help` function to learn more about `diag`, construct `FEM_N` for `N=5`."
   ]
  },
  {
   "cell_type": "markdown",
   "metadata": {},
   "source": [
    "## Solution+: Constructing a Finite Difference Matrix\n",
    "\n",
    "We can use `diag` in a number of ways - in this case, we are going to give it a vector of values, and ask it to construct 3 matrices for us.\n",
    "Then, we will add those matrices together to produce `FEM_N`."
   ]
  },
  {
   "cell_type": "code",
   "execution_count": 12,
   "metadata": {},
   "outputs": [
    {
     "name": "stdout",
     "output_type": "stream",
     "text": [
      "Here's what the code put together:\n",
      "   2  -1   0   0   0\n",
      "  -1   2  -1   0   0\n",
      "   0  -1   2  -1   0\n",
      "   0   0  -1   2  -1\n",
      "   0   0   0  -1   2\n"
     ]
    }
   ],
   "source": [
    "% NOTICE that anything after a % on a line is not read by MATLAB. \n",
    "% These are called comments, and are a useful tool to remind you what your code is meant to be doing!\n",
    "\n",
    "N = 5; %it always helps to generalise your code where possible!\n",
    "\n",
    "%first, we need to construct a matrix with 2's on the leading diagonal\n",
    "diag_entries = 2*ones(1,N); %this is a vector of 2's of the same length as the diagonal of the matrix we want to construct.\n",
    "diag_mat = diag(diag_entries); %this is now an N-by-N matrix with 2's on the main diagonal.\n",
    "\n",
    "%now we construct matrices with -1 on the super- and sub-diagonal\n",
    "off_diag_entries = -1*ones(1,N-1); %read the help for diag carefully. The super- and sub- diagonals are of length N-1, so we need a vector of this length.\n",
    "super_diag_mat = diag(off_diag_entries,1); %-1's on the superdiagonal, using diag's optional argument\n",
    "sub_diag_mat = diag(off_diag_entries,-1); %-1's on the subdiagonal, using diag's optional argument\n",
    "\n",
    "%now we put it all together\n",
    "FEM_N = diag_mat + super_diag_mat + sub_diag_mat; %all other entries are 0s, so there's no problems with crossover.\n",
    "fprintf('Here''s what the code put together:\\n') %double '' in strings is used for an apostrophe\n",
    "disp(FEM_N)"
   ]
  },
  {
   "cell_type": "markdown",
   "metadata": {},
   "source": [
    ":+Solution"
   ]
  },
  {
   "cell_type": "markdown",
   "metadata": {},
   "source": [
    "## Key Points:\n",
    "- We can define arrays manually using square braces `[ ]`.\n",
    "- We can also define arrays using the inbuilt commands `ones`,`zeros`,`eye`,`diag`,`rand` and `randn`.\n",
    "- We can perform matrix-matrix and matrix-vector operations using the standard `+`,`-`,`*`, and solve linear systems using `\\`.\n",
    "- We can perform element-wise operations using a dot (`.`) before the operation."
   ]
  }
 ],
 "metadata": {
  "kernelspec": {
   "display_name": "Octave",
   "language": "octave",
   "name": "octave"
  },
  "language_info": {
   "file_extension": ".m",
   "help_links": [
    {
     "text": "GNU Octave",
     "url": "https://www.gnu.org/software/octave/support.html"
    },
    {
     "text": "Octave Kernel",
     "url": "https://github.com/Calysto/octave_kernel"
    },
    {
     "text": "MetaKernel Magics",
     "url": "https://metakernel.readthedocs.io/en/latest/source/README.html"
    }
   ],
   "mimetype": "text/x-octave",
   "name": "octave",
   "version": "5.1.0"
  }
 },
 "nbformat": 4,
 "nbformat_minor": 2
}
