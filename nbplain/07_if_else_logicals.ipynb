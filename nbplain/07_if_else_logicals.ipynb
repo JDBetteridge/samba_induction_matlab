{
 "cells": [
  {
   "cell_type": "markdown",
   "metadata": {},
   "source": [
    "## Logicals: `If` all `else` fails..."
   ]
  },
  {
   "cell_type": "markdown",
   "metadata": {},
   "source": [
    "## Overview:\n",
    "- Teaching: 10 mins\n",
    "- Exercises: 10 mins\n",
    "\n",
    "**Objectives:**\n",
    "- Introduce logical operations `&`, `&&`, `|`, `||` and `~`\n",
    "- Introduce`if-else` and `if-elseif-else` statements"
   ]
  },
  {
   "cell_type": "markdown",
   "metadata": {},
   "source": [
    "## It's `logical`, you'll see\n",
    "\n",
    "As you saw in the previous lesson, `while`-loops check a given condition each time the commands in the loop are executed.\n",
    "It is natural to simply \"read\" the syntax for `while`-loops as you see them, for example reading\n",
    "```octave\n",
    "while x<10\n",
    "```\n",
    "literally as \"while `x` is less than 10\".\n",
    "However this isn't quite how MATLAB sees it.\n",
    "\n",
    "Consider what happens if we execute the following:"
   ]
  },
  {
   "cell_type": "code",
   "execution_count": 1,
   "metadata": {},
   "outputs": [
    {
     "name": "stdout",
     "output_type": "stream",
     "text": [
      "1\r\n"
     ]
    }
   ],
   "source": [
    "x = 0;\n",
    "disp(x<10)"
   ]
  },
  {
   "cell_type": "markdown",
   "metadata": {},
   "source": [
    "MATLAB will print the _value_ of `x<10` as being 1.\n",
    "What if we set `x` so that the statement doesn't hold?"
   ]
  },
  {
   "cell_type": "code",
   "execution_count": 2,
   "metadata": {},
   "outputs": [
    {
     "name": "stdout",
     "output_type": "stream",
     "text": [
      "0\r\n"
     ]
    }
   ],
   "source": [
    "x = 11;\n",
    "disp(x<10)"
   ]
  },
  {
   "cell_type": "markdown",
   "metadata": {},
   "source": [
    "In this case, the \"value\" of `x<10` is 0.\n",
    "In fact, we can save the value of this expression to a variable:"
   ]
  },
  {
   "cell_type": "code",
   "execution_count": 3,
   "metadata": {},
   "outputs": [],
   "source": [
    "x = 0;\n",
    "y = 11;\n",
    "xStatement = x<10;\n",
    "yStatement = y<10;"
   ]
  },
  {
   "cell_type": "markdown",
   "metadata": {},
   "source": [
    "You'll see the variables `xStatement` and `yStatement` appear in your variable workspace, but look at what _type_ (or class, if using an earlier version of MATLAB) of variables they are.\n",
    "These are not `floats` or `chars` (strings) - they are `logicals`.\n",
    "\n",
    "`logical` is a variable type used by MATLAB to interpret the _truth value_ of statements.\n",
    "`x<10` is a statement which returns either `false` (displayed as 0) or `true` (displayed as 1), this value of `true` or `false` is stored as a logical variable.\n",
    "As such the syntax for a `while`-loop is better read as \"while _some condition_ is `true`\".\n",
    "\n",
    "Since `logical` is a variable type, we can perform logical manipulations (like \"and\", \"not\" and \"or\") with them that you should be familiar with from your first logic/analysis course:"
   ]
  },
  {
   "cell_type": "code",
   "execution_count": 4,
   "metadata": {},
   "outputs": [
    {
     "name": "stdout",
     "output_type": "stream",
     "text": [
      "0\n",
      "0\n",
      "1\n",
      "1\n",
      "0\n",
      "1\n"
     ]
    }
   ],
   "source": [
    "tf1 = true;\n",
    "tf2 = false; %you can directly create logicals by using the keywords true and false\n",
    "\n",
    "%we can use the & symbol for \"and\"\n",
    "disp(tf1 & tf2) %tf1 and tf2\n",
    "disp(tf1 && tf2) %tf1 fast-and tf2\n",
    "\n",
    "%we can use | for \"or\"\n",
    "disp(tf1 | tf2) %tf1 or tf2\n",
    "disp(tf1 || tf2) %tf1 fast-or tf2\n",
    "\n",
    "%we can use the tilde ~ for \"not\"\n",
    "disp(~tf1)\n",
    "disp(~tf2)"
   ]
  },
  {
   "cell_type": "markdown",
   "metadata": {},
   "source": [
    "If we have logical operations, we can put more complex conditions into our loops:"
   ]
  },
  {
   "cell_type": "code",
   "execution_count": 5,
   "metadata": {
    "scrolled": false
   },
   "outputs": [
    {
     "name": "stdout",
     "output_type": "stream",
     "text": [
      "New x value: 4.0000000000 \r\n",
      "New x value: 5.0000000000 \r\n",
      "New x value: 5.5000000000 \r\n",
      "New x value: 5.7500000000 \r\n",
      "New x value: 5.8750000000 \r\n",
      "New x value: 5.9375000000 \r\n",
      "New x value: 5.9687500000 \r\n",
      "New x value: 5.9843750000 \r\n",
      "New x value: 5.9921875000 \r\n",
      "New x value: 5.9960937500 \r\n",
      "New x value: 5.9980468750 \r\n",
      "New x value: 5.9990234375 \r\n",
      "New x value: 5.9995117188 \r\n",
      "New x value: 5.9997558594 \r\n",
      "New x value: 5.9998779297 \r\n",
      "New x value: 5.9999389648 \r\n",
      "New x value: 5.9999694824 \r\n",
      "New x value: 5.9999847412 \r\n",
      "New x value: 5.9999923706 \r\n",
      "New x value: 5.9999961853 \r\n",
      "New x value: 5.9999980927 \r\n",
      "New x value: 5.9999990463 \r\n",
      "New x value: 5.9999995232 \r\n",
      "New x value: 5.9999997616 \r\n",
      "New x value: 5.9999998808 \r\n",
      "New x value: 5.9999999404 \r\n",
      "New x value: 5.9999999702 \r\n",
      "New x value: 5.9999999851 \r\n",
      "New x value: 5.9999999925 \r\n"
     ]
    }
   ],
   "source": [
    "x = 2;\n",
    "\n",
    "while x>0 && x<6-1e-8\n",
    "    x = 3 + x/2;\n",
    "    fprintf('New x value: %.10f \\n', x)\n",
    "end %while, x<0 && x<6-1e-8\n",
    "\n",
    "%%this sequence converges to 6, so putting x<6 will result in a while loop that never terminates!"
   ]
  },
  {
   "cell_type": "markdown",
   "metadata": {},
   "source": [
    "So long as the value of the statement that you provide comes out to be `true`, MATLAB will run the `while`-loop again!\n",
    "\n",
    "__NOTE:__ This can result in infinite loops - loops that never terminate!\n",
    "The simplist example of these is the code:\n",
    "```octave\n",
    "x = 0;\n",
    "while true\n",
    "    x = x+1;\n",
    "end %while true\n",
    "```\n",
    "_DO NOT_ execute this in the command line, because MATLAB will diligantly sit there adding 1 to `x` for all time.\n",
    "You can force MATLAB to stop running the current script, function, or in general code that you've provided to it by hitting `CTRL`+`c` when in the command line.\n",
    "Because of this reason, when you use `while` loops you should only do so if you can guarantee that the process _will end_ eventually; if you can't do this then common practice is to set a manual maximum iterations variable and use that to exit the loop:\n",
    "```octave\n",
    "maxItt = 1000;\n",
    "currItt = 1;\n",
    "while <CONDITION> && currItt<=maxItt\n",
    "    <STUFF YOU WANT TO DO>\n",
    "    \n",
    "    currItt = currItt+1;\n",
    "end %while\n",
    "```\n",
    "The condition `currItt<=maxItt` will force the `while`-loop to end if it goes on too long."
   ]
  },
  {
   "cell_type": "markdown",
   "metadata": {},
   "source": [
    "## Information+: Fast-`and` fast-`or`, how are they fast-`er`? \n",
    "\n",
    "As you can see from the above, MATLAB has a fast-`and` operator (`&&`) and fast-`or` (`||`) operator, which are employed by repeating the `and` (`&`) and `or` (`|`) operators.\n",
    "So what's the difference between the fast version and the regular (or slow, depending on your outlook) version?\n",
    "The fast operators work by only checking the value of the _second_ logical variable if the result is not entirely determined by the first.\n",
    "For example, the statement \"true or false\" is always true, and you can determine this simply by looking at the first value (true) and knowing that you're performing an \"or\" operator - it doesn't matter what the second value is, so why bother checking it?\n",
    "Hence the word \"fast\": `&&` and `||` are faster than their couterparts because they don't check the second `logical` value if they don't need to, whilst `&` and `|` do.\n",
    "\n",
    "So follow-up question - why use `&` and `|` at all?\n",
    "The answer is because `&&` and `||` only work on scalars - they can't be used to compare values element-wise.\n",
    "Yes, you read that right - MATLAB lets you define arrays of `logicals` and compare those too:"
   ]
  },
  {
   "cell_type": "code",
   "execution_count": 6,
   "metadata": {},
   "outputs": [
    {
     "name": "stdout",
     "output_type": "stream",
     "text": [
      "  0  0  0  1  0\n",
      "  1  1  1  1  1\n",
      "  0  0  1  0  1\n"
     ]
    }
   ],
   "source": [
    "logical_array1 = [true true false true false];\n",
    "logical_array2 = [false false true true true];\n",
    "\n",
    "disp(logical_array1 & logical_array2) %element-wise and\n",
    "disp(logical_array1 | logical_array2) %element-wise or\n",
    "disp(~logical_array1) %element-wise not"
   ]
  },
  {
   "cell_type": "markdown",
   "metadata": {},
   "source": [
    "Notice how the output of each command is another logical array.\n",
    "\n",
    ":Information+"
   ]
  },
  {
   "cell_type": "markdown",
   "metadata": {},
   "source": [
    "## `if` statements\n",
    "\n",
    "The final type of conditional statement that MATLAB has is the `if`-`elseif`-`else` statement.\n",
    "The syntax is as follows:\n",
    "```octave\n",
    "if <CONDITION>\n",
    "    <DO SOME COMMANDS>\n",
    "elseif <CONDITION>\n",
    "    <DO SOME DIFFERENT COMMANDS>\n",
    "else\n",
    "    <DO SOME ALTERNATIVE COMMANDS>\n",
    "end %if <CONDITION>\n",
    "```\n",
    "Upon reaching an `if` statement, MATLAB will check the condition immediately after the `if` keyword.\n",
    "If the condition comes back as true, the commands that follow the `if` are run, and the commands after the `elseif` and `else` _are ignored_.\n",
    "If the condition comes back as false, MATLAB then checks the `elseif` condition; if this condition is true then the commands after the `elseif` are run, and the other sets of commands are ignored.\n",
    "If the `elseif` condition is also false, MATLAB runs the commands after the `else` until `end`.\n",
    "Notice that after `else` there is no condition to check - this is the case when \"all other options have failed\", so to speak.\n",
    "\n",
    "Let's look at a simple example:"
   ]
  },
  {
   "cell_type": "code",
   "execution_count": 7,
   "metadata": {},
   "outputs": [
    {
     "name": "stdout",
     "output_type": "stream",
     "text": [
      "Random number generated was: 0.01298\n",
      "The random number generated is less than 1/3 \n"
     ]
    }
   ],
   "source": [
    "myNumber = rand(1); %generate a uniform random number between 0 and 1\n",
    "fprintf('Random number generated was: %.5f\\n', myNumber)\n",
    "\n",
    "if myNumber>2/3\n",
    "    fprintf('The random number generated is greater than 2/3 \\n')\n",
    "elseif myNumber>1/3\n",
    "    fprintf('The random number generated is between 1/3 and 2/3 \\n')\n",
    "    %note: if we have to check the elseif condition, we know that the if condition was false. \n",
    "    %Thus myNumber is not greater than 2/3; IE is less than 2/3, should we be running these commands\n",
    "else\n",
    "    fprintf('The random number generated is less than 1/3 \\n')\n",
    "end %if, myNumber>2/3"
   ]
  },
  {
   "cell_type": "markdown",
   "metadata": {},
   "source": [
    "Of course, ranther than simply displaying the range that a value falls into, we can perform computations based on the cases in the `if` statement.\n",
    "For example, we could track the distribution of the random numbers MATLAB was generating:"
   ]
  },
  {
   "cell_type": "code",
   "execution_count": 8,
   "metadata": {},
   "outputs": [
    {
     "name": "stdout",
     "output_type": "stream",
     "text": [
      "# Values >2/3: 329 \n",
      "# Values between 1/3 and 2/3: 330 \n",
      "# Values <1/3: 341 \n"
     ]
    }
   ],
   "source": [
    "nTrials = 1000;\n",
    "upperThirdCounter = 0;\n",
    "middleThirdCounter = 0;\n",
    "lowerThirdCounter = 0;\n",
    "\n",
    "for i=1:nTrials\n",
    "    randNumber = rand(1);\n",
    "    \n",
    "    if randNumber>2/3\n",
    "        upperThirdCounter = upperThirdCounter + 1;\n",
    "    elseif randNumber>1/3\n",
    "        middleThirdCounter = middleThirdCounter + 1;\n",
    "    else\n",
    "        lowerThirdCounter = lowerThirdCounter + 1;\n",
    "    end %if, randNumber>2/3\n",
    "    \n",
    "    %note that we don't use the loop variable i anywhere in this loop.\n",
    "    %but the loop will still run 1000 times, changing the value of i each time (even though we don't use it)!\n",
    "end %for, i\n",
    "\n",
    "fprintf('# Values >2/3: %d \\n', upperThirdCounter)\n",
    "fprintf('# Values between 1/3 and 2/3: %d \\n', middleThirdCounter)\n",
    "fprintf('# Values <1/3: %d \\n', lowerThirdCounter)"
   ]
  },
  {
   "cell_type": "markdown",
   "metadata": {},
   "source": [
    "## Information: What if I don't need `elseif` or `else`?\n",
    "\n",
    "You may find yourself in a situation where you don't want to do anything if your conditions are false, or you have a yes/no situation where an `elseif` condition doesn't make sense.\n",
    "Here MATLAB (like most programming languages) is quite flexible, in that you don't actually need to include `elseif` or `else` in an `if` statement.\n",
    "\n",
    "If there are no `elseif` or `else` keywords, MATLAB will interpret these as \"do nothing\".\n",
    "For example, the following code will happily execute without any errors:\n",
    "```octave\n",
    "\n",
    "thisLessonIsFun = true;\n",
    "\n",
    "if thisLessonIsFun\n",
    "    fprintf('Glad you''re enjoying it :) \\n')\n",
    "else\n",
    "    fprintf('That''s a shame, please give me some feedback. Or just shout at Will - that makes most people feel better.\\n')\n",
    "end %if\n",
    "```\n",
    "as will this code:\n",
    "```octave\n",
    "englandWonTheFootballWorldCup = false\n",
    "englandWonTheCricketWorldCup = true\n",
    "\n",
    "if englandWonTheFootballWorldCup\n",
    "    fprintf('Football''s coming home! \\n')\n",
    "elseif englandWonTheCricketWorldCup\n",
    "    fprintf('Cricket''s coming home! \\n')\n",
    "end %if\n",
    "```\n",
    "and even this code:\n",
    "```octave\n",
    "youreStillReadingThis = true\n",
    "\n",
    "if youreStillReadingThis\n",
    "    fprintf('Thank you for your attention \\n')\n",
    "end %if\n",
    "```\n",
    "\n",
    "You can also put in MULTIPLE `elseif` keywords, each one adds another case for MATLAB to check. These are checked in the order they appear, so be careful:\n",
    "```octave\n",
    "myNumber = rand(1); %generate a uniform random number between 0 and 1\n",
    "fprintf('Random number generated was: %.5f\\n', myNumber)\n",
    "\n",
    "if myNumber>3/4\n",
    "    fprintf('The random number generated is greater than 3/4 \\n')\n",
    "elseif myNumber>2/4\n",
    "    fprintf('The random number generated is between 3/4 and 2/4 \\n')\n",
    "elseif myNumber>1/4\n",
    "    fprintf('The random number generated is between 2/4 and 1/4 \\n')\n",
    "else\n",
    "    fprintf('The random number generated is less than 1/4 \\n')\n",
    "end %if, myNumber>3/4\n",
    "```"
   ]
  },
  {
   "cell_type": "markdown",
   "metadata": {},
   "source": [
    "## Exercise: Grade Classification\n",
    "\n",
    "Load in the data in the file studentMarks, [available here](./data/studentMarks.mat).\n",
    "This file contains the marks of several students who have just sat their final university exams.\n",
    "Each array (creatively named `student` followed by a number) is a 4-by-10 array of integer scores; each entry being the mark awarded in a given exam.\n",
    "Each row of these arrays corresponds to the year of study in which the exam was taken - scores in the first row are exams taken in the first year, those in the second row the second year, and so forth.\n",
    "\n",
    "It is your job to write a function that can determine each student's grade given their array of marks.\n",
    "This function should take as an argument one of the arrays of marks, and return a string variable with the classification.\n",
    "\n",
    "Grades are determined in the following way:\n",
    " - The student's overall score is determined by the following formula:\n",
    " \n",
    " `overall_score = 0.06*first_year_average + 0.10*second_year_average + 0.32*third_year_average + 0.50*forth_year_average`\n",
    " - If the student attains an `overall_score` of greater than or equal to 70, they are awarded a first-class.\n",
    " - If the student attains an `overall_score` of greater than or equal to 68, and a `forth_year_average` of greater than or equal to 70, they are awarded a first-class.\n",
    " - If the student attains an `overall_score` between 60 (inclusive) and 70 (exclusive), and doesn't qualify for a first-class, they are awarded a 2:1-class.\n",
    " - If the student attains an `overall_score` between 50 (inclusive) and 60 (exclusive), they are awarded a 2:2-class.\n",
    " - If the student attains an `overall_score` between 40 (inclusive) and 50 (exclusive), they are awarded a 3rd-class.\n",
    " - If the student attains an `overall_score` between 38 (inclusive) and 40 (exclusive), and has a third-year average of greater than 70, they are allowed to resist their 4th year. This is classed as `resit`.\n",
    " - If the student fails to attain any other classification, they are awarded (?) with a fail.\n",
    " \n",
    "You should use `fprintf` to print out the award classification the student gets.\n",
    "To print a string, you need to use the `%s` format specifier.\n",
    "\n",
    "Use your function to determine the grades of each of the students' marks that you have available.\n",
    "\n",
    "[Solution]()"
   ]
  },
  {
   "cell_type": "markdown",
   "metadata": {},
   "source": [
    "## Solution+: Grade Classification\n",
    "\n",
    "There are several ways to write this function, but it should contain a long list of `elseif`s:"
   ]
  },
  {
   "cell_type": "code",
   "execution_count": 9,
   "metadata": {},
   "outputs": [],
   "source": [
    "function [class] = DetermineClass(marks)\n",
    "% Takes in an array of student marks and returns the degree classification as a string\n",
    "\n",
    "overall_score = 0;\n",
    "year_weights = [0.06 0.1 0.32 0.5]; %weights applied to the yearly averages\n",
    "\n",
    "for i=1:4\n",
    "    %find the weighted average for each year, and add it to the overall_score\n",
    "    overall_score = overall_score + year_weights(i)*mean(marks(i,:));\n",
    "end %for, i\n",
    "\n",
    "if overall_score>=70\n",
    "    %overall_score is over 70\n",
    "    class = '1st class';\n",
    "elseif overall_score>=68 && mean(marks(4,:))>=70\n",
    "    %overall_score is between 68 and 70, and 4th year average is >=70\n",
    "    class = '1st class';\n",
    "elseif overall_score>=60\n",
    "    %overall_score is >=60, but less than 70 due to the previous cases\n",
    "    class = '2:1-class';\n",
    "elseif overall_score>=50\n",
    "    %overall_score is >=50, but less than 60\n",
    "    class = '2:2-class';\n",
    "elseif overall_score>=40\n",
    "    %overall_score is >=40, but less than 50\n",
    "    class = '3rd-class';\n",
    "elseif overall_score>=38\n",
    "    %overall_score is >=38, but less than 40\n",
    "    class = 'resit';\n",
    "else\n",
    "    %no other classifications\n",
    "    class = 'fail';\n",
    "end %if, overall_score>=70\n",
    "\n",
    "fprintf('Degree class was %s \\n', class)\n",
    "\n",
    "end %function, DetermineClass"
   ]
  },
  {
   "cell_type": "markdown",
   "metadata": {},
   "source": [
    "As for the classification that each student attains, you should find that..."
   ]
  },
  {
   "cell_type": "code",
   "execution_count": 10,
   "metadata": {},
   "outputs": [
    {
     "name": "stdout",
     "output_type": "stream",
     "text": [
      "Degree class was 2:1-class \n",
      "Degree class was 2:2-class \n",
      "Degree class was 1st class \n",
      "Degree class was 2:2-class \n",
      "Degree class was 3rd-class \n",
      "Degree class was fail \n",
      "Degree class was resit \n"
     ]
    }
   ],
   "source": [
    "load '../data/studentMarks' %load the marks into the workspace\n",
    "\n",
    "DetermineClass(student1);\n",
    "DetermineClass(student2);\n",
    "DetermineClass(student3);\n",
    "DetermineClass(student4);\n",
    "DetermineClass(student5);\n",
    "DetermineClass(student6);\n",
    "DetermineClass(student7);"
   ]
  },
  {
   "cell_type": "markdown",
   "metadata": {},
   "source": [
    ":Solution+"
   ]
  },
  {
   "cell_type": "markdown",
   "metadata": {},
   "source": [
    "## Key Points:\n",
    "\n",
    "- `if` statements execute commands after checking a (possibly several) condition(s).\n",
    "- `if` statements are useful for case-handling in programs.\n",
    "- `elseif` and `else` keywords do not need to be provided.\n",
    "- We can have as many `elseif` keywords as we like, and they are checked in the order they appear."
   ]
  }
 ],
 "metadata": {
  "kernelspec": {
   "display_name": "Octave",
   "language": "octave",
   "name": "octave"
  },
  "language_info": {
   "file_extension": ".m",
   "help_links": [
    {
     "text": "GNU Octave",
     "url": "https://www.gnu.org/software/octave/support.html"
    },
    {
     "text": "Octave Kernel",
     "url": "https://github.com/Calysto/octave_kernel"
    },
    {
     "text": "MetaKernel Magics",
     "url": "https://metakernel.readthedocs.io/en/latest/source/README.html"
    }
   ],
   "mimetype": "text/x-octave",
   "name": "octave",
   "version": "4.2.2"
  }
 },
 "nbformat": 4,
 "nbformat_minor": 2
}
