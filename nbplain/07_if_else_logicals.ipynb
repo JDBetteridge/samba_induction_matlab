{
 "cells": [
  {
   "cell_type": "markdown",
   "metadata": {},
   "source": [
    "## Logicals: `If` all `else` fails..."
   ]
  },
  {
   "cell_type": "markdown",
   "metadata": {},
   "source": [
    "## Overview:\n",
    "- Teaching: _time_\n",
    "- Exercises: _time_\n",
    "\n",
    "Objectives:\n",
    "- Introduce logical operations `&`, `&&`, `|`, `||` and `~`\n",
    "- Introduce`if-else` and `if-elseif-else` statements"
   ]
  },
  {
   "cell_type": "markdown",
   "metadata": {},
   "source": [
    "## It's `logical`, you'll see\n",
    "\n",
    "As you saw in the previous lesson, `while`-loops check a given condition each time the commands in the loop are executed.\n",
    "It is natural to simply \"read\" the syntax for `while`-loops as you see them, for example reading\n",
    "```octave\n",
    "while x<10\n",
    "```\n",
    "literally as \"while `x` is less than 10\".\n",
    "However this isn't quite how MATLAB sees it.\n",
    "\n",
    "Consider what happens if we execute the following:"
   ]
  },
  {
   "cell_type": "code",
   "execution_count": 10,
   "metadata": {},
   "outputs": [
    {
     "name": "stdout",
     "output_type": "stream",
     "text": [
      "1\r\n"
     ]
    }
   ],
   "source": [
    "x = 0;\n",
    "disp(x<10)"
   ]
  },
  {
   "cell_type": "markdown",
   "metadata": {},
   "source": [
    "MATLAB will print the _value_ of `x<10` as being 1.\n",
    "What if we set `x` so that the statement doesn't hold?"
   ]
  },
  {
   "cell_type": "code",
   "execution_count": 11,
   "metadata": {},
   "outputs": [
    {
     "name": "stdout",
     "output_type": "stream",
     "text": [
      "0\r\n"
     ]
    }
   ],
   "source": [
    "x = 11;\n",
    "disp(x<10)"
   ]
  },
  {
   "cell_type": "markdown",
   "metadata": {},
   "source": [
    "In this case, the \"value\" of `x<10` is 0.\n",
    "In fact, we can save the value of this expression to a variable:"
   ]
  },
  {
   "cell_type": "code",
   "execution_count": 12,
   "metadata": {},
   "outputs": [],
   "source": [
    "x = 0;\n",
    "y = 11;\n",
    "xStatement = x<10;\n",
    "yStatement = y<10;"
   ]
  },
  {
   "cell_type": "markdown",
   "metadata": {},
   "source": [
    "You'll see the variables `xStatement` and `yStatement` appear in your variable workspace, but look at what _type_ (or class, if using an earlier version of MATLAB) of variables they are.\n",
    "These are not `floats` or `chars` (strings) - they are `logicals`.\n",
    "\n",
    "`logical` is a variable type used by MATLAB to interpret the _truth value_ of statements.\n",
    "`x<10` is a statement which returns either `false` (displayed as 0) or `true` (displayed as 1), this value of `true` or `false` is stored as a logical variable.\n",
    "As such the syntax for a `while`-loop is better read as \"while _some condition_ is `true`\".\n",
    "\n",
    "Since `logical` is a variable type, we can perform logical manipulations (like \"and\", \"not\" and \"or\") with them that you should be familiar with from your first logic/analysis course:"
   ]
  },
  {
   "cell_type": "code",
   "execution_count": 13,
   "metadata": {},
   "outputs": [
    {
     "name": "stdout",
     "output_type": "stream",
     "text": [
      "0\n",
      "0\n",
      "1\n",
      "1\n",
      "0\n",
      "1\n"
     ]
    }
   ],
   "source": [
    "tf1 = true;\n",
    "tf2 = false; %you can directly create logicals by using the keywords true and false\n",
    "\n",
    "%we can use the & symbol for \"and\"\n",
    "disp(tf1 & tf2) %tf1 and tf2\n",
    "disp(tf1 && tf2) %tf1 fast-and tf2\n",
    "\n",
    "%we can use | for \"or\"\n",
    "disp(tf1 | tf2) %tf1 or tf2\n",
    "disp(tf1 || tf2) %tf1 fast-or tf2\n",
    "\n",
    "%we can use the tilde ~ for \"not\"\n",
    "disp(~tf1)\n",
    "disp(~tf2)"
   ]
  },
  {
   "cell_type": "markdown",
   "metadata": {},
   "source": [
    "If we have logical operations, we can put more complex conditions into our loops:"
   ]
  },
  {
   "cell_type": "code",
   "execution_count": 21,
   "metadata": {
    "scrolled": false
   },
   "outputs": [
    {
     "name": "stdout",
     "output_type": "stream",
     "text": [
      "New x value: 4.0000000000 \r\n",
      "New x value: 5.0000000000 \r\n",
      "New x value: 5.5000000000 \r\n",
      "New x value: 5.7500000000 \r\n",
      "New x value: 5.8750000000 \r\n",
      "New x value: 5.9375000000 \r\n",
      "New x value: 5.9687500000 \r\n",
      "New x value: 5.9843750000 \r\n",
      "New x value: 5.9921875000 \r\n",
      "New x value: 5.9960937500 \r\n",
      "New x value: 5.9980468750 \r\n",
      "New x value: 5.9990234375 \r\n",
      "New x value: 5.9995117188 \r\n",
      "New x value: 5.9997558594 \r\n",
      "New x value: 5.9998779297 \r\n",
      "New x value: 5.9999389648 \r\n",
      "New x value: 5.9999694824 \r\n",
      "New x value: 5.9999847412 \r\n",
      "New x value: 5.9999923706 \r\n",
      "New x value: 5.9999961853 \r\n",
      "New x value: 5.9999980927 \r\n",
      "New x value: 5.9999990463 \r\n",
      "New x value: 5.9999995232 \r\n",
      "New x value: 5.9999997616 \r\n",
      "New x value: 5.9999998808 \r\n",
      "New x value: 5.9999999404 \r\n",
      "New x value: 5.9999999702 \r\n",
      "New x value: 5.9999999851 \r\n",
      "New x value: 5.9999999925 \r\n"
     ]
    }
   ],
   "source": [
    "x = 2;\n",
    "\n",
    "while x>0 && x<6-1e-8\n",
    "    x = 3 + x/2;\n",
    "    fprintf('New x value: %.10f \\n', x)\n",
    "end %while, x<0 && x<6-1e-8\n",
    "\n",
    "%%this sequence converges to 6, so putting x<6 will result in a while loop that never terminates!"
   ]
  },
  {
   "cell_type": "markdown",
   "metadata": {},
   "source": [
    "So long as the value of the statement that you provide comes out to be `true`, MATLAB will run the `while`-loop again!\n",
    "\n",
    "__NOTE:__ This can result in infinite loops - loops that never terminate!\n",
    "The simplist example of these is the code:\n",
    "```octave\n",
    "x = 0;\n",
    "while true\n",
    "    x = x+1;\n",
    "end %while true\n",
    "```\n",
    "_DO NOT_ execute this in the command line, because MATLAB will diligantly sit there adding 1 to `x` for all time.\n",
    "You can force MATLAB to stop running the current script, function, or in general code that you've provided to it by hitting `CTRL`+`c` when in the command line.\n",
    "Because of this reason, when you use `while` loops you should only do so if you can guarantee that the process _will end_ eventually; if you can't do this then common practice is to set a manual maximum iterations variable and use that to exit the loop:\n",
    "```octave\n",
    "maxItt = 1000;\n",
    "currItt = 1;\n",
    "while <CONDITION> && currItt<=maxItt\n",
    "    <STUFF YOU WANT TO DO>\n",
    "    \n",
    "    currItt = currItt+1;\n",
    "end %while\n",
    "```\n",
    "The condition `currItt<=maxItt` will force the `while`-loop to end if it goes on too long."
   ]
  },
  {
   "cell_type": "markdown",
   "metadata": {},
   "source": [
    "## Information+: Fast-`and` fast-`or`, how are they fast-`er`? \n",
    "\n",
    "As you can see from the above, MATLAB has a fast-`and` operator (`&&`) and fast-`or` (`||`) operator, which are employed by repeating the `and` (`&`) and `or` (`|`) operators.\n",
    "So what's the difference between the fast version and the regular (or slow, depending on your outlook) version?\n",
    "The fast operators work by only checking the value of the _second_ logical variable if the result is not entirely determined by the first.\n",
    "For example, the statement \"true or false\" is always true, and you can determine this simply by looking at the first value (true) and knowing that you're performing an \"or\" operator - it doesn't matter what the second value is, so why bother checking it?\n",
    "Hence the word \"fast\": `&&` and `||` are faster than their couterparts because they don't check the second `logical` value if they don't need to, whilst `&` and `|` do.\n",
    "\n",
    "So follow-up question - why use `&` and `|` at all?\n",
    "The answer is because `&&` and `||` only work on scalars - they can't be used to compare values element-wise.\n",
    "Yes, you read that right - MATLAB lets you define arrays of `logicals` and compare those too:"
   ]
  },
  {
   "cell_type": "code",
   "execution_count": 14,
   "metadata": {},
   "outputs": [
    {
     "name": "stdout",
     "output_type": "stream",
     "text": [
      "  0  0  0  1  0\n",
      "  1  1  1  1  1\n",
      "  0  0  1  0  1\n"
     ]
    }
   ],
   "source": [
    "logical_array1 = [true true false true false];\n",
    "logical_array2 = [false false true true true];\n",
    "\n",
    "disp(logical_array1 & logical_array2) %element-wise and\n",
    "disp(logical_array1 | logical_array2) %element-wise or\n",
    "disp(~logical_array1) %element-wise not"
   ]
  },
  {
   "cell_type": "markdown",
   "metadata": {},
   "source": [
    "Notice how the output of each command is another logical array.\n",
    "\n",
    ":Information+"
   ]
  },
  {
   "cell_type": "markdown",
   "metadata": {},
   "source": []
  },
  {
   "cell_type": "code",
   "execution_count": null,
   "metadata": {},
   "outputs": [],
   "source": []
  },
  {
   "cell_type": "code",
   "execution_count": null,
   "metadata": {},
   "outputs": [],
   "source": []
  },
  {
   "cell_type": "code",
   "execution_count": null,
   "metadata": {},
   "outputs": [],
   "source": []
  },
  {
   "cell_type": "code",
   "execution_count": null,
   "metadata": {},
   "outputs": [],
   "source": []
  },
  {
   "cell_type": "code",
   "execution_count": null,
   "metadata": {},
   "outputs": [],
   "source": []
  },
  {
   "cell_type": "code",
   "execution_count": null,
   "metadata": {},
   "outputs": [],
   "source": []
  },
  {
   "cell_type": "code",
   "execution_count": null,
   "metadata": {},
   "outputs": [],
   "source": []
  },
  {
   "cell_type": "code",
   "execution_count": null,
   "metadata": {},
   "outputs": [],
   "source": []
  },
  {
   "cell_type": "code",
   "execution_count": null,
   "metadata": {},
   "outputs": [],
   "source": []
  }
 ],
 "metadata": {
  "kernelspec": {
   "display_name": "Octave",
   "language": "octave",
   "name": "octave"
  },
  "language_info": {
   "file_extension": ".m",
   "help_links": [
    {
     "text": "GNU Octave",
     "url": "https://www.gnu.org/software/octave/support.html"
    },
    {
     "text": "Octave Kernel",
     "url": "https://github.com/Calysto/octave_kernel"
    },
    {
     "text": "MetaKernel Magics",
     "url": "https://metakernel.readthedocs.io/en/latest/source/README.html"
    }
   ],
   "mimetype": "text/x-octave",
   "name": "octave",
   "version": "5.1.0"
  }
 },
 "nbformat": 4,
 "nbformat_minor": 2
}
